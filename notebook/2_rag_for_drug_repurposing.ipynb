{
 "cells": [
  {
   "cell_type": "markdown",
   "id": "af4c58ad",
   "metadata": {},
   "source": [
    "### Unstructured Data"
   ]
  },
  {
   "cell_type": "code",
   "execution_count": 1,
   "id": "dda7087e",
   "metadata": {},
   "outputs": [
    {
     "name": "stdout",
     "output_type": "stream",
     "text": [
      "Gene::1 and Disease::MESH:D005909 show an improper regulation interaction linked to the disease, suggesting a pathogenic mechanism.\r\n",
      "Gene::10 and Disease::MESH:C562839 are involved in an interaction related to causal mutations, suggesting a genetic link to the disease.\r\n",
      "Gene::10 and Disease::MESH:D001172 are linked through an interaction where polymorphisms alter risk, suggesting genetic variations influence disease susceptibility.\r\n",
      "Gene::10 and Disease::MESH:D001932 are linked through an interaction where polymorphisms alter risk, suggesting genetic variations influence disease susceptibility.\r\n",
      "Gene::10 plays a role in disease pathogenesis of Disease::MESH:D003110\r\n",
      "Gene::10 and Disease::MESH:D004409 are linked through an interaction where polymorphisms alter risk, suggesting genetic variations influence disease susceptibility.\r\n",
      "Gene::10 and Disease::MESH:D006331 are linked through an interaction where polymorphisms alter risk, suggesting genetic variations influence disease susceptibility.\r\n",
      "Gene::10 and Disease::MESH:D010190 are linked through an interaction where polymorphisms alter risk, suggesting genetic variations influence disease susceptibility.\r\n",
      "Gene::10 plays a role in disease pathogenesis of Disease::MESH:D015179\r\n",
      "Gene::10 and Disease::MESH:D015212 are linked through an interaction where polymorphisms alter risk, suggesting genetic variations influence disease susceptibility.\r\n",
      "Gene::10 plays a role in disease pathogenesis of Disease::MESH:D064420\r\n",
      "Gene::100 and Disease::MESH:C531816 demonstrate a possible therapeutic effect interaction, indicating the gene's potential role in disease treatment.\r\n",
      "Gene::100 and Disease::MESH:D000022 are linked through an interaction where polymorphisms alter risk, suggesting genetic variations influence disease susceptibility.\r\n",
      "Gene::100 plays a role in disease pathogenesis of Disease::MESH:D000860\r\n",
      "Gene::100 plays a role in disease pathogenesis of Disease::MESH:D001249\r\n",
      "Gene::100 plays a role in disease pathogenesis of Disease::MESH:D001855\r\n",
      "Gene::100 and Disease::MESH:D002294 show an improper regulation interaction linked to the disease, suggesting a pathogenic mechanism.\r\n",
      "Gene::100 plays a role in disease pathogenesis of Disease::MESH:D002295\r\n",
      "Gene::100 and Disease::MESH:D004194 show an improper regulation interaction linked to the disease, suggesting a pathogenic mechanism.\r\n",
      "Gene::100 plays a role in disease pathogenesis of Disease::MESH:D004827\r\n",
      "Gene::100 and Disease::MESH:D005910 show an improper regulation interaction linked to the disease, suggesting a pathogenic mechanism.\r\n",
      "Gene::100 plays a role in disease pathogenesis of Disease::MESH:D007239\r\n",
      "Gene::100 and Disease::MESH:D007249 demonstrate a possible therapeutic effect interaction, indicating the gene's potential role in disease treatment.\r\n",
      "Gene::100 plays a role in disease pathogenesis of Disease::MESH:D007898\r\n",
      "Gene::100 and Disease::MESH:D008223 show an improper regulation interaction linked to the disease, suggesting a pathogenic mechanism.\r\n",
      "Gene::100 plays a role in disease pathogenesis of Disease::MESH:D008659\r\n",
      "Gene::100 and Disease::MESH:D009182 demonstrate a possible therapeutic effect interaction, indicating the gene's potential role in disease treatment.\r\n",
      "Gene::100 plays a role in disease pathogenesis of Disease::MESH:D009190\r\n",
      "Gene::100 and Disease::MESH:D009362 demonstrate a possible therapeutic effect interaction, indicating the gene's potential role in disease treatment.\r\n",
      "Gene::100 and Disease::MESH:D009765 are linked through an interaction where polymorphisms alter risk, suggesting genetic variations influence disease susceptibility.\r\n",
      "Gene::100 plays a role in disease pathogenesis of Disease::MESH:D010538\r\n",
      "Gene::100 plays a role in disease pathogenesis of Disease::MESH:D010995\r\n",
      "Gene::100 plays a role in disease pathogenesis of Disease::MESH:D011019\r\n",
      "Gene::100 plays a role in disease pathogenesis of Disease::MESH:D011085\r\n",
      "Gene::100 plays a role in disease pathogenesis of Disease::MESH:D012128\r\n",
      "Gene::100 plays a role in disease pathogenesis of Disease::MESH:D012507\r\n",
      "Gene::100 and Disease::MESH:D012559 demonstrate a possible therapeutic effect interaction, indicating the gene's potential role in disease treatment.\r\n",
      "Gene::100 and Disease::MESH:D013274 are associated in a biomarker diagnostic interaction, indicating the gene's potential as a disease biomarker.\r\n",
      "Gene::100 and Disease::MESH:D015458 show an improper regulation interaction linked to the disease, suggesting a pathogenic mechanism.\r\n",
      "Gene::100 and Disease::MESH:D015470 show an improper regulation interaction linked to the disease, suggesting a pathogenic mechanism.\r\n",
      "Gene::100 plays a role in disease pathogenesis of Disease::MESH:D015535\r\n",
      "Gene::100 plays a role in disease pathogenesis of Disease::MESH:D018410\r\n",
      "Gene::100 plays a role in disease pathogenesis of Disease::MESH:D029424\r\n",
      "Gene::100 and Disease::MESH:D029502 are associated in a biomarker diagnostic interaction, indicating the gene's potential as a disease biomarker.\r\n",
      "Gene::100 and Disease::MESH:D030342 demonstrate a possible therapeutic effect interaction, indicating the gene's potential role in disease treatment.\r\n",
      "Gene::100 plays a role in disease pathogenesis of Disease::MESH:D056006\r\n",
      "Gene::1000 plays a role in disease pathogenesis of Disease::MESH:C535533\r\n",
      "Gene::1000 and Disease::MESH:C538231 show an improper regulation interaction linked to the disease, suggesting a pathogenic mechanism.\r\n",
      "Gene::1000 and Disease::MESH:C562463 show an improper regulation interaction linked to the disease, suggesting a pathogenic mechanism.\r\n",
      "Gene::1000 and Disease::MESH:C562729 show an improper regulation interaction linked to the disease, suggesting a pathogenic mechanism.\r\n",
      "Gene::1000 and Disease::MESH:C566847 show an improper regulation interaction linked to the disease, suggesting a pathogenic mechanism.\r\n",
      "Gene::1000 promotes the progression of Disease::MESH:D000236.\r\n",
      "Gene::1000 and Disease::MESH:D001254 show an improper regulation interaction linked to the disease, suggesting a pathogenic mechanism.\r\n",
      "Gene::1000 plays a role in disease pathogenesis of Disease::MESH:D001523\r\n",
      "Gene::1000 and Disease::MESH:D001855 show an improper regulation interaction linked to the disease, suggesting a pathogenic mechanism.\r\n",
      "Gene::1000 and Disease::MESH:D001943 show an improper regulation interaction linked to the disease, suggesting a pathogenic mechanism.\r\n",
      "Gene::1000 and Disease::MESH:D002289 show an improper regulation interaction linked to the disease, suggesting a pathogenic mechanism.\r\n",
      "Gene::1000 and Disease::MESH:D002292 show an improper regulation interaction linked to the disease, suggesting a pathogenic mechanism.\r\n",
      "Gene::1000 and Disease::MESH:D002294 show an improper regulation interaction linked to the disease, suggesting a pathogenic mechanism.\r\n",
      "Gene::1000 and Disease::MESH:D005910 show an improper regulation interaction linked to the disease, suggesting a pathogenic mechanism.\r\n",
      "Gene::1000 and Disease::MESH:D006528 show an improper regulation interaction linked to the disease, suggesting a pathogenic mechanism.\r\n",
      "Gene::1000 and Disease::MESH:D007938 show an improper regulation interaction linked to the disease, suggesting a pathogenic mechanism.\r\n",
      "Gene::1000 and Disease::MESH:D008175 show an improper regulation interaction linked to the disease, suggesting a pathogenic mechanism.\r\n",
      "Gene::1000 and Disease::MESH:D008223 show an improper regulation interaction linked to the disease, suggesting a pathogenic mechanism.\r\n",
      "Gene::1000 and Disease::MESH:D008545 show an improper regulation interaction linked to the disease, suggesting a pathogenic mechanism.\r\n",
      "Gene::1000 and Disease::MESH:D008654 show an improper regulation interaction linked to the disease, suggesting a pathogenic mechanism.\r\n",
      "Gene::1000 and Disease::MESH:D009101 show an improper regulation interaction linked to the disease, suggesting a pathogenic mechanism.\r\n",
      "Gene::1000 and Disease::MESH:D009369 show an improper regulation interaction linked to the disease, suggesting a pathogenic mechanism.\r\n",
      "Gene::1000 and Disease::MESH:D009447 show an improper regulation interaction linked to the disease, suggesting a pathogenic mechanism.\r\n",
      "Gene::1000 and Disease::MESH:D010051 show an improper regulation interaction linked to the disease, suggesting a pathogenic mechanism.\r\n",
      "Gene::1000 promotes the progression of Disease::MESH:D010190.\r\n",
      "Gene::1000 and Disease::MESH:D011471 show an improper regulation interaction linked to the disease, suggesting a pathogenic mechanism.\r\n",
      "Gene::1000 and Disease::MESH:D012164 show an improper regulation interaction linked to the disease, suggesting a pathogenic mechanism.\r\n",
      "Gene::1000 and Disease::MESH:D013274 show an improper regulation interaction linked to the disease, suggesting a pathogenic mechanism.\r\n",
      "Gene::1000 and Disease::MESH:D015179 show an improper regulation interaction linked to the disease, suggesting a pathogenic mechanism.\r\n",
      "Gene::1000 and Disease::MESH:D015470 show an improper regulation interaction linked to the disease, suggesting a pathogenic mechanism.\r\n",
      "Gene::1000 promotes the progression of Disease::MESH:D019337.\r\n",
      "Gene::10000 plays a role in disease pathogenesis of Disease::MESH:D000782\r\n",
      "Gene::10000 and Disease::MESH:D001943 show an improper regulation interaction linked to the disease, suggesting a pathogenic mechanism.\r\n",
      "Gene::10000 and Disease::MESH:D008545 show an improper regulation interaction linked to the disease, suggesting a pathogenic mechanism.\r\n",
      "Gene::10000 and Disease::MESH:D009369 show an improper regulation interaction linked to the disease, suggesting a pathogenic mechanism.\r\n",
      "Gene::10000 and Disease::MESH:D011471 show an improper regulation interaction linked to the disease, suggesting a pathogenic mechanism.\r\n",
      "Gene::10000 and Disease::MESH:D013964 show an improper regulation interaction linked to the disease, suggesting a pathogenic mechanism.\r\n",
      "Gene::100000800 and Disease::MESH:D000419 show an improper regulation interaction linked to the disease, suggesting a pathogenic mechanism.\r\n",
      "Gene::100004296 and Disease::MESH:D002817 show an improper regulation interaction linked to the disease, suggesting a pathogenic mechanism.\r\n",
      "Gene::100004455 plays a role in disease pathogenesis of Disease::MESH:D000860\r\n",
      "Gene::100006041 promotes the progression of Disease::MESH:D013274.\r\n",
      "Gene::100006589 and Disease::MESH:D009369 are involved in an interaction related to causal mutations, suggesting a genetic link to the disease.\r\n",
      "Gene::100006589;386951 and Disease::MESH:D005910 are involved in an interaction related to causal mutations, suggesting a genetic link to the disease.\r\n",
      "Gene::100008633 and Disease::MESH:C536444 show an improper regulation interaction linked to the disease, suggesting a pathogenic mechanism.\r\n",
      "Gene::100008633 and Disease::MESH:D006816 show an improper regulation interaction linked to the disease, suggesting a pathogenic mechanism.\r\n",
      "Gene::100008636 and Disease::MESH:D009369 show an improper regulation interaction linked to the disease, suggesting a pathogenic mechanism.\r\n",
      "Gene::100008638 plays a role in disease pathogenesis of Disease::MESH:D005355\r\n",
      "Gene::100008645 plays a role in disease pathogenesis of Disease::MESH:D005355\r\n",
      "Gene::100008646 plays a role in disease pathogenesis of Disease::MESH:D013345\r\n",
      "Gene::100008658 plays a role in disease pathogenesis of Disease::MESH:D001791\r\n",
      "Gene::100008658 plays a role in disease pathogenesis of Disease::MESH:D003920\r\n",
      "Gene::100008658 plays a role in disease pathogenesis of Disease::MESH:D007239\r\n",
      "Gene::100008658 and Disease::MESH:D012608 are involved in an interaction related to causal mutations, suggesting a genetic link to the disease.\r\n",
      "Gene::100008658 plays a role in disease pathogenesis of Disease::MESH:D017096\r\n"
     ]
    }
   ],
   "source": [
    "!head -100 data/unstructured/unstructured_gene_disease.txt"
   ]
  },
  {
   "cell_type": "code",
   "execution_count": 3,
   "id": "3575fade",
   "metadata": {},
   "outputs": [],
   "source": [
    "from llama_index import Document\n",
    "from llama_index import SimpleDirectoryReader\n",
    "\n",
    "documents = SimpleDirectoryReader(\n",
    "    input_files=[\"data/unstructured/unstructured_gene_disease.txt\"]\n",
    ").load_data()"
   ]
  },
  {
   "cell_type": "code",
   "execution_count": 4,
   "id": "50836582",
   "metadata": {},
   "outputs": [
    {
     "name": "stdout",
     "output_type": "stream",
     "text": [
      "document type: <class 'list'>\n",
      "total # docs: 1\n",
      "doc type: <class 'llama_index.schema.Document'>\n",
      "doc sample: Doc ID: 149769a1-62d2-45c6-a411-cbdc66f19b93\n",
      "Text: Gene::1 and Disease::MESH:D005909 show an improper regulation\n",
      "interaction linked to the disease, suggesting a pathogenic mechanism.\n",
      "Gene::10 and Disease::MESH:C562839 are involved in an interaction\n",
      "related to causal mutations, suggesting a genetic link to the disease.\n",
      "Gene::10 and Disease::MESH:D001172 are linked through an interaction\n",
      "where pol...\n"
     ]
    }
   ],
   "source": [
    "document = Document(text=\"\\n\\n\".join([doc for doc in documents[0].text.split('\\n')]))\n",
    "\n",
    "print(f'document type: {type(documents)}')\n",
    "print(f'total # docs: {len(documents)}')\n",
    "print(f'doc type: {type(documents[0])}')\n",
    "print(f'doc sample: {documents[0]}')"
   ]
  },
  {
   "cell_type": "code",
   "execution_count": 5,
   "id": "abaf48e8",
   "metadata": {},
   "outputs": [
    {
     "data": {
      "application/vnd.jupyter.widget-view+json": {
       "model_id": "b193c130525a4e2584b3c83ef47ce5a8",
       "version_major": 2,
       "version_minor": 0
      },
      "text/plain": [
       "Loading checkpoint shards:   0%|          | 0/3 [00:00<?, ?it/s]"
      ]
     },
     "metadata": {},
     "output_type": "display_data"
    }
   ],
   "source": [
    "import torch\n",
    "from llama_index import ServiceContext\n",
    "from llama_index import VectorStoreIndex\n",
    "from llama_index.llms import HuggingFaceLLM\n",
    "from llama_index.prompts import PromptTemplate\n",
    "\n",
    "# This will wrap the default prompts that are internal to llama-index\n",
    "# taken from https://huggingface.co/Writer/camel-5b-hf\n",
    "query_wrapper_prompt = PromptTemplate(\n",
    "    \"Below is an instruction that describes a task. \"\n",
    "    \"Write a response that appropriately completes the request.\\n\\n\"\n",
    "    \"### Instruction:\\n{query_str}\\n\\n### Response:\"\n",
    ")\n",
    "\n",
    "llm = HuggingFaceLLM(\n",
    "    context_window=2048,\n",
    "    max_new_tokens=256,\n",
    "    generate_kwargs={\"temperature\": 0.25, \"do_sample\": False},\n",
    "    query_wrapper_prompt=query_wrapper_prompt,\n",
    "    tokenizer_name=\"Writer/camel-5b-hf\",\n",
    "    model_name=\"Writer/camel-5b-hf\",\n",
    "    device_map=\"auto\",\n",
    "    tokenizer_kwargs={\"max_length\": 2048},\n",
    "    # model_kwargs={\"torch_dtype\": torch.float16}\n",
    ")\n",
    "\n",
    "service_context = ServiceContext.from_defaults(\n",
    "    chunk_size=512,\n",
    "    llm=llm,\n",
    "    embed_model=\"local:BAAI/bge-small-en-v1.5\"\n",
    ")\n",
    "index = VectorStoreIndex.from_documents([document],\n",
    "                                        service_context=service_context)\n",
    "query_engine = index.as_query_engine()"
   ]
  },
  {
   "cell_type": "code",
   "execution_count": 6,
   "id": "f9eeede9",
   "metadata": {
    "scrolled": true
   },
   "outputs": [
    {
     "name": "stderr",
     "output_type": "stream",
     "text": [
      "Token indices sequence length is longer than the specified maximum sequence length for this model (1132 > 512). Running this sequence through the model will result in indexing errors\n",
      "/home/falabir/.local/lib/python3.11/site-packages/transformers/generation/configuration_utils.py:381: UserWarning: `do_sample` is set to `False`. However, `temperature` is set to `0.25` -- this flag is only used in sample-based generation modes. You should set `do_sample=True` or unset `temperature`.\n",
      "  warnings.warn(\n",
      "Setting `pad_token_id` to `eos_token_id`:50256 for open-end generation.\n"
     ]
    },
    {
     "name": "stdout",
     "output_type": "stream",
     "text": [
      "Gene::10 is associated with various diseases, including:\n",
      "1. Disease::MESH:D004194 - Gene::10 is involved in the pathogenesis of this disease.\n",
      "2. Disease::MESH:D005234 - Gene::10 is involved in the pathogenesis of this disease.\n",
      "3. Disease::MESH:D006930 - Gene::10 is involved in the pathogenesis of this disease.\n",
      "4. Disease::MESH:D006976 - Gene::10 is involved in the pathogenesis of this disease.\n",
      "5. Disease::MESH:D007511 - Gene::10 is involved in the pathogenesis of this disease.\n",
      "6. Disease::MESH:D009202 - Gene::10 is involved in the pathogenesis of this disease.\n",
      "7. Disease::MESH:D009205 - Gene::10 is involved in the pathogenesis of this disease.\n",
      "8. Disease::MESH:D014947 - Gene::10 is involved in the pathogenesis of this disease.\n",
      "9. Disease::MESH:D014947 - Gene::10 is involved in the pathogenesis of this disease.\n",
      "10. Disease::MESH:D014947 - Gene::\n"
     ]
    }
   ],
   "source": [
    "response = query_engine.query(\n",
    "    \"Describe the role of Gene::10 in different diseases.\"\n",
    ")\n",
    "print(str(response))"
   ]
  },
  {
   "cell_type": "code",
   "execution_count": 7,
   "id": "4863cd93",
   "metadata": {
    "scrolled": true
   },
   "outputs": [
    {
     "name": "stderr",
     "output_type": "stream",
     "text": [
      "Setting `pad_token_id` to `eos_token_id`:50256 for open-end generation.\n"
     ]
    },
    {
     "name": "stdout",
     "output_type": "stream",
     "text": [
      "The top gene that causes disease is Gene::10534. It is linked to Disease::MESH:D009362 and Disease::MESH:D009369, which are both related to the disease.\n"
     ]
    }
   ],
   "source": [
    "response = query_engine.query(\n",
    "    \"What is the top gene that causes disease? Describe the relationships with the disease.\"\n",
    ")\n",
    "print(str(response))"
   ]
  },
  {
   "cell_type": "code",
   "execution_count": 8,
   "id": "eb36d92e",
   "metadata": {
    "scrolled": true
   },
   "outputs": [
    {
     "name": "stderr",
     "output_type": "stream",
     "text": [
      "Setting `pad_token_id` to `eos_token_id`:50256 for open-end generation.\n"
     ]
    },
    {
     "name": "stdout",
     "output_type": "stream",
     "text": [
      "1. Gene::4597 - It is associated with Disease::MESH:D014947 due to its role in disease pathogenesis.\n",
      "2. Gene::4598 - It is associated with Disease::MESH:D014947 due to its role in disease pathogenesis.\n",
      "3. Gene::4599 - It is associated with Disease::MESH:D014947 due to its role in disease pathogenesis.\n",
      "4. Gene::4597 - It is associated with Disease::MESH:D014947 due to its role in disease pathogenesis.\n",
      "5. Gene::4598 - It is associated with Disease::MESH:D014947 due to its role in disease pathogenesis.\n"
     ]
    }
   ],
   "source": [
    "response = query_engine.query(\n",
    "    \"List top 5 genes that is associated with Disease::MESH:D014947? Briefly describe how they are associated.\"\n",
    ")\n",
    "print(str(response))"
   ]
  },
  {
   "cell_type": "markdown",
   "id": "b5afd898",
   "metadata": {},
   "source": [
    "### Semi-structured Data"
   ]
  },
  {
   "cell_type": "code",
   "execution_count": 20,
   "id": "35b9e816",
   "metadata": {},
   "outputs": [
    {
     "name": "stdout",
     "output_type": "stream",
     "text": [
      "interaction-entities: Gene::1 and Disease::MESH:D005909\r\n",
      "interaction-type: improper regulation linked to disease\r\n",
      "\r\n",
      "interaction-entities: Gene::10 and Disease::MESH:C562839\r\n",
      "interaction-type: causal mutations\r\n",
      "\r\n",
      "interaction-entities: Gene::10 and Disease::MESH:D001172\r\n",
      "interaction-type: polymorphisms alter risk\r\n",
      "\r\n",
      "interaction-entities: Gene::10 and Disease::MESH:D001932\r\n",
      "interaction-type: polymorphisms alter risk\r\n",
      "\r\n",
      "interaction-entities: Gene::10 and Disease::MESH:D003110\r\n",
      "interaction-type: role in pathogenesis\r\n",
      "\r\n",
      "interaction-entities: Gene::10 and Disease::MESH:D004409\r\n",
      "interaction-type: polymorphisms alter risk\r\n",
      "\r\n",
      "interaction-entities: Gene::10 and Disease::MESH:D006331\r\n",
      "interaction-type: polymorphisms alter risk\r\n",
      "\r\n",
      "interaction-entities: Gene::10 and Disease::MESH:D010190\r\n",
      "interaction-type: polymorphisms alter risk\r\n",
      "\r\n",
      "interaction-entities: Gene::10 and Disease::MESH:D015179\r\n",
      "interaction-type: role in pathogenesis\r\n",
      "\r\n",
      "interaction-entities: Gene::10 and Disease::MESH:D015212\r\n",
      "interaction-type: polymorphisms alter risk\r\n",
      "\r\n",
      "interaction-entities: Gene::10 and Disease::MESH:D064420\r\n",
      "interaction-type: role in pathogenesis\r\n",
      "\r\n",
      "interaction-entities: Gene::100 and Disease::MESH:C531816\r\n",
      "interaction-type: possible therapeutic effect\r\n",
      "\r\n",
      "interaction-entities: Gene::100 and Disease::MESH:D000022\r\n",
      "interaction-type: polymorphisms alter risk\r\n",
      "\r\n",
      "interaction-entities: Gene::100 and Disease::MESH:D000860\r\n",
      "interaction-type: role in pathogenesis\r\n",
      "\r\n",
      "interaction-entities: Gene::100 and Disease::MESH:D001249\r\n",
      "interaction-type: role in pathogenesis\r\n",
      "\r\n",
      "interaction-entities: Gene::100 and Disease::MESH:D001855\r\n",
      "interaction-type: role in pathogenesis\r\n",
      "\r\n",
      "interaction-entities: Gene::100 and Disease::MESH:D002294\r\n",
      "interaction-type: improper regulation linked to disease\r\n",
      "\r\n",
      "interaction-entities: Gene::100 and Disease::MESH:D002295\r\n",
      "interaction-type: role in pathogenesis\r\n",
      "\r\n",
      "interaction-entities: Gene::100 and Disease::MESH:D004194\r\n",
      "interaction-type: improper regulation linked to disease\r\n",
      "\r\n",
      "interaction-entities: Gene::100 and Disease::MESH:D004827\r\n",
      "interaction-type: role in pathogenesis\r\n",
      "\r\n",
      "interaction-entities: Gene::100 and Disease::MESH:D005910\r\n",
      "interaction-type: improper regulation linked to disease\r\n",
      "\r\n",
      "interaction-entities: Gene::100 and Disease::MESH:D007239\r\n",
      "interaction-type: role in pathogenesis\r\n",
      "\r\n",
      "interaction-entities: Gene::100 and Disease::MESH:D007249\r\n",
      "interaction-type: possible therapeutic effect\r\n",
      "\r\n",
      "interaction-entities: Gene::100 and Disease::MESH:D007898\r\n",
      "interaction-type: role in pathogenesis\r\n",
      "\r\n",
      "interaction-entities: Gene::100 and Disease::MESH:D008223\r\n",
      "interaction-type: improper regulation linked to disease\r\n",
      "\r\n",
      "interaction-entities: Gene::100 and Disease::MESH:D008659\r\n",
      "interaction-type: role in pathogenesis\r\n",
      "\r\n",
      "interaction-entities: Gene::100 and Disease::MESH:D009182\r\n",
      "interaction-type: possible therapeutic effect\r\n",
      "\r\n",
      "interaction-entities: Gene::100 and Disease::MESH:D009190\r\n",
      "interaction-type: role in pathogenesis\r\n",
      "\r\n",
      "interaction-entities: Gene::100 and Disease::MESH:D009362\r\n",
      "interaction-type: possible therapeutic effect\r\n",
      "\r\n",
      "interaction-entities: Gene::100 and Disease::MESH:D009765\r\n",
      "interaction-type: polymorphisms alter risk\r\n",
      "\r\n",
      "interaction-entities: Gene::100 and Disease::MESH:D010538\r\n",
      "interaction-type: role in pathogenesis\r\n",
      "\r\n",
      "interaction-entities: Gene::100 and Disease::MESH:D010995\r\n",
      "interaction-type: role in pathogenesis\r\n",
      "\r\n",
      "interaction-entities: Gene::100 and Disease::MESH:D011019\r\n",
      "interaction-type: role in pathogenesis\r\n",
      "\r\n",
      "interaction-entities: Gene::100 and Disease::MESH:D011085\r\n"
     ]
    },
    {
     "name": "stderr",
     "output_type": "stream",
     "text": [
      "huggingface/tokenizers: The current process just got forked, after parallelism has already been used. Disabling parallelism to avoid deadlocks...\n",
      "To disable this warning, you can either:\n",
      "\t- Avoid using `tokenizers` before the fork if possible\n",
      "\t- Explicitly set the environment variable TOKENIZERS_PARALLELISM=(true | false)\n"
     ]
    }
   ],
   "source": [
    "!head -100 data/semi_structured/semi_structured_gene_disease.txt"
   ]
  },
  {
   "cell_type": "code",
   "execution_count": 21,
   "id": "3bc50211",
   "metadata": {},
   "outputs": [],
   "source": [
    "documents = SimpleDirectoryReader(\n",
    "    input_files=[\"data/semi_structured/semi_structured_gene_disease.txt\"]\n",
    ").load_data()"
   ]
  },
  {
   "cell_type": "code",
   "execution_count": 23,
   "id": "cf9b5306",
   "metadata": {
    "scrolled": true
   },
   "outputs": [
    {
     "name": "stdout",
     "output_type": "stream",
     "text": [
      "document type: <class 'list'>\n",
      "total # docs: 1\n",
      "doc type: <class 'llama_index.schema.Document'>\n",
      "doc sample: Doc ID: e74ebb10-a8c1-400d-a47d-61ff6a23edd6\n",
      "Text: interaction-entities: Gene::1 and Disease::MESH:D005909\n",
      "interaction-type: improper regulation linked to disease  interaction-\n",
      "entities: Gene::10 and Disease::MESH:C562839 interaction-type: causal\n",
      "mutations  interaction-entities: Gene::10 and Disease::MESH:D001172\n",
      "interaction-type: polymorphisms alter risk  interaction-entities:\n",
      "Gene::10 and Disea...\n"
     ]
    }
   ],
   "source": [
    "document = Document(text=\"\\n\\n\".join([doc for doc in documents[0].text.split('\\n')]))\n",
    "\n",
    "print(f'document type: {type(documents)}')\n",
    "print(f'total # docs: {len(documents)}')\n",
    "print(f'doc type: {type(documents[0])}')\n",
    "print(f'doc sample: {documents[0]}')"
   ]
  },
  {
   "cell_type": "code",
   "execution_count": 24,
   "id": "2c07d379",
   "metadata": {},
   "outputs": [],
   "source": [
    "index = VectorStoreIndex.from_documents([document],\n",
    "                                        service_context=service_context)\n",
    "query_engine = index.as_query_engine()"
   ]
  },
  {
   "cell_type": "code",
   "execution_count": 25,
   "id": "6330e2e6",
   "metadata": {
    "scrolled": true
   },
   "outputs": [
    {
     "name": "stderr",
     "output_type": "stream",
     "text": [
      "/home/falabir/.local/lib/python3.11/site-packages/transformers/generation/configuration_utils.py:381: UserWarning: `do_sample` is set to `False`. However, `temperature` is set to `0.25` -- this flag is only used in sample-based generation modes. You should set `do_sample=True` or unset `temperature`.\n",
      "  warnings.warn(\n",
      "Setting `pad_token_id` to `eos_token_id`:50256 for open-end generation.\n"
     ]
    },
    {
     "name": "stdout",
     "output_type": "stream",
     "text": [
      "Gene::10 is associated with various diseases, including:\n",
      "1. Alzheimer's disease\n",
      "2. Parkinson's disease\n",
      "3. Type 2 diabetes\n",
      "4. Heart disease\n",
      "5. Migraine\n",
      "6. Sleep apnea\n",
      "7. Crohn's disease\n",
      "8. Rheumatoid arthritis\n",
      "9. Osteoarthritis\n",
      "10. Psoriasis\n"
     ]
    }
   ],
   "source": [
    "response = query_engine.query(\n",
    "    \"Describe the role of Gene::10 in different diseases.\"\n",
    ")\n",
    "print(str(response))"
   ]
  },
  {
   "cell_type": "code",
   "execution_count": 26,
   "id": "96187f3c",
   "metadata": {
    "scrolled": false
   },
   "outputs": [
    {
     "name": "stderr",
     "output_type": "stream",
     "text": [
      "Setting `pad_token_id` to `eos_token_id`:50256 for open-end generation.\n"
     ]
    },
    {
     "name": "stdout",
     "output_type": "stream",
     "text": [
      "The top gene that causes disease is Gene::1958. It is related to Disease::MESH:D005234, which is linked to Disease::MESH:D005354, which is linked to Disease::MESH:D005909, which is linked to Disease::MESH:D006528, which is linked to Disease::MESH:D006976, which is linked to Disease::MESH:D007029, which is linked to Disease::MESH:D007239, which is linked to Disease::MESH:D007938, which is linked to Disease::MESH:D007951, which is linked to Disease::MESH:D008107, which is linked to Disease::MESH:D009336, which is linked to Disease::MESH:D009369, which is linked to Disease::MESH:D050030, which is linked to Disease::MESH:D053447, which is linked to Disease::MESH:D050030, which is linked to Disease::MESH:D050030, which is linked to Disease::MESH:D050030, which is linked to Disease::MESH:D0500\n"
     ]
    }
   ],
   "source": [
    "response = query_engine.query(\n",
    "    \"What is the top gene that causes disease? Describe the relationships with the disease.\"\n",
    ")\n",
    "print(str(response))"
   ]
  },
  {
   "cell_type": "code",
   "execution_count": 28,
   "id": "5af948b8",
   "metadata": {
    "scrolled": true
   },
   "outputs": [
    {
     "name": "stderr",
     "output_type": "stream",
     "text": [
      "Setting `pad_token_id` to `eos_token_id`:50256 for open-end generation.\n"
     ]
    },
    {
     "name": "stdout",
     "output_type": "stream",
     "text": [
      "1. Gene::494332 - Improper regulation linked to disease\n",
      "2. Gene::494333 - Improper regulation linked to disease\n",
      "3. Gene::51497 - Improper regulation linked to disease\n",
      "4. Gene::51497 and Disease::MESH:D002289 - Improper regulation linked to disease\n",
      "5. Gene::51497 and Disease::MESH:D002292 - Improper regulation linked to disease\n"
     ]
    }
   ],
   "source": [
    "response = query_engine.query(\n",
    "    \"List top 5 genes that is associated with Disease::MESH:D014947? Briefly describe how they are associated.\"\n",
    ")\n",
    "print(str(response))"
   ]
  },
  {
   "cell_type": "markdown",
   "id": "c96dd128",
   "metadata": {},
   "source": [
    "### Structured Data"
   ]
  },
  {
   "cell_type": "code",
   "execution_count": 38,
   "id": "20e8aa77",
   "metadata": {
    "scrolled": false
   },
   "outputs": [
    {
     "name": "stdout",
     "output_type": "stream",
     "text": [
      "node_a,node_b,relation_entities,relation_type,source,relation_name\r\n",
      "Gene::1,Disease::MESH:D005909,Gene:Disease,L,GNBR,improper regulation linked to disease\r\n",
      "Gene::10,Disease::MESH:C562839,Gene:Disease,U,GNBR,causal mutations\r\n",
      "Gene::10,Disease::MESH:D001172,Gene:Disease,Y,GNBR,polymorphisms alter risk\r\n",
      "Gene::10,Disease::MESH:D001932,Gene:Disease,Y,GNBR,polymorphisms alter risk\r\n",
      "Gene::10,Disease::MESH:D003110,Gene:Disease,J,GNBR,role in pathogenesis\r\n",
      "Gene::10,Disease::MESH:D004409,Gene:Disease,Y,GNBR,polymorphisms alter risk\r\n",
      "Gene::10,Disease::MESH:D006331,Gene:Disease,Y,GNBR,polymorphisms alter risk\r\n",
      "Gene::10,Disease::MESH:D010190,Gene:Disease,Y,GNBR,polymorphisms alter risk\r\n",
      "Gene::10,Disease::MESH:D015179,Gene:Disease,J,GNBR,role in pathogenesis\r\n",
      "Gene::10,Disease::MESH:D015212,Gene:Disease,Y,GNBR,polymorphisms alter risk\r\n",
      "Gene::10,Disease::MESH:D064420,Gene:Disease,J,GNBR,role in pathogenesis\r\n",
      "Gene::100,Disease::MESH:C531816,Gene:Disease,Te,GNBR,possible therapeutic effect\r\n",
      "Gene::100,Disease::MESH:D000022,Gene:Disease,Y,GNBR,polymorphisms alter risk\r\n",
      "Gene::100,Disease::MESH:D000860,Gene:Disease,J,GNBR,role in pathogenesis\r\n",
      "Gene::100,Disease::MESH:D001249,Gene:Disease,J,GNBR,role in pathogenesis\r\n",
      "Gene::100,Disease::MESH:D001855,Gene:Disease,J,GNBR,role in pathogenesis\r\n",
      "Gene::100,Disease::MESH:D002294,Gene:Disease,L,GNBR,improper regulation linked to disease\r\n",
      "Gene::100,Disease::MESH:D002295,Gene:Disease,J,GNBR,role in pathogenesis\r\n",
      "Gene::100,Disease::MESH:D004194,Gene:Disease,L,GNBR,improper regulation linked to disease\r\n",
      "Gene::100,Disease::MESH:D004827,Gene:Disease,J,GNBR,role in pathogenesis\r\n",
      "Gene::100,Disease::MESH:D005910,Gene:Disease,L,GNBR,improper regulation linked to disease\r\n",
      "Gene::100,Disease::MESH:D007239,Gene:Disease,J,GNBR,role in pathogenesis\r\n",
      "Gene::100,Disease::MESH:D007249,Gene:Disease,Te,GNBR,possible therapeutic effect\r\n",
      "Gene::100,Disease::MESH:D007898,Gene:Disease,J,GNBR,role in pathogenesis\r\n",
      "Gene::100,Disease::MESH:D008223,Gene:Disease,L,GNBR,improper regulation linked to disease\r\n",
      "Gene::100,Disease::MESH:D008659,Gene:Disease,J,GNBR,role in pathogenesis\r\n",
      "Gene::100,Disease::MESH:D009182,Gene:Disease,Te,GNBR,possible therapeutic effect\r\n",
      "Gene::100,Disease::MESH:D009190,Gene:Disease,J,GNBR,role in pathogenesis\r\n",
      "Gene::100,Disease::MESH:D009362,Gene:Disease,Te,GNBR,possible therapeutic effect\r\n",
      "Gene::100,Disease::MESH:D009765,Gene:Disease,Y,GNBR,polymorphisms alter risk\r\n",
      "Gene::100,Disease::MESH:D010538,Gene:Disease,J,GNBR,role in pathogenesis\r\n",
      "Gene::100,Disease::MESH:D010995,Gene:Disease,J,GNBR,role in pathogenesis\r\n",
      "Gene::100,Disease::MESH:D011019,Gene:Disease,J,GNBR,role in pathogenesis\r\n",
      "Gene::100,Disease::MESH:D011085,Gene:Disease,J,GNBR,role in pathogenesis\r\n",
      "Gene::100,Disease::MESH:D012128,Gene:Disease,J,GNBR,role in pathogenesis\r\n",
      "Gene::100,Disease::MESH:D012507,Gene:Disease,J,GNBR,role in pathogenesis\r\n",
      "Gene::100,Disease::MESH:D012559,Gene:Disease,Te,GNBR,possible therapeutic effect\r\n",
      "Gene::100,Disease::MESH:D013274,Gene:Disease,Md,GNBR,biomarkers (diagnostic)\r\n",
      "Gene::100,Disease::MESH:D015458,Gene:Disease,L,GNBR,improper regulation linked to disease\r\n",
      "Gene::100,Disease::MESH:D015470,Gene:Disease,L,GNBR,improper regulation linked to disease\r\n",
      "Gene::100,Disease::MESH:D015535,Gene:Disease,J,GNBR,role in pathogenesis\r\n",
      "Gene::100,Disease::MESH:D018410,Gene:Disease,J,GNBR,role in pathogenesis\r\n",
      "Gene::100,Disease::MESH:D029424,Gene:Disease,J,GNBR,role in pathogenesis\r\n",
      "Gene::100,Disease::MESH:D029502,Gene:Disease,Md,GNBR,biomarkers (diagnostic)\r\n",
      "Gene::100,Disease::MESH:D030342,Gene:Disease,Te,GNBR,possible therapeutic effect\r\n",
      "Gene::100,Disease::MESH:D056006,Gene:Disease,J,GNBR,role in pathogenesis\r\n",
      "Gene::1000,Disease::MESH:C535533,Gene:Disease,J,GNBR,role in pathogenesis\r\n",
      "Gene::1000,Disease::MESH:C538231,Gene:Disease,L,GNBR,improper regulation linked to disease\r\n",
      "Gene::1000,Disease::MESH:C562463,Gene:Disease,L,GNBR,improper regulation linked to disease\r\n",
      "Gene::1000,Disease::MESH:C562729,Gene:Disease,L,GNBR,improper regulation linked to disease\r\n",
      "Gene::1000,Disease::MESH:C566847,Gene:Disease,L,GNBR,improper regulation linked to disease\r\n",
      "Gene::1000,Disease::MESH:D000236,Gene:Disease,G,GNBR,promotes progression\r\n",
      "Gene::1000,Disease::MESH:D001254,Gene:Disease,L,GNBR,improper regulation linked to disease\r\n",
      "Gene::1000,Disease::MESH:D001523,Gene:Disease,J,GNBR,role in pathogenesis\r\n",
      "Gene::1000,Disease::MESH:D001855,Gene:Disease,L,GNBR,improper regulation linked to disease\r\n",
      "Gene::1000,Disease::MESH:D001943,Gene:Disease,L,GNBR,improper regulation linked to disease\r\n",
      "Gene::1000,Disease::MESH:D002289,Gene:Disease,L,GNBR,improper regulation linked to disease\r\n",
      "Gene::1000,Disease::MESH:D002292,Gene:Disease,L,GNBR,improper regulation linked to disease\r\n",
      "Gene::1000,Disease::MESH:D002294,Gene:Disease,L,GNBR,improper regulation linked to disease\r\n",
      "Gene::1000,Disease::MESH:D005910,Gene:Disease,L,GNBR,improper regulation linked to disease\r\n",
      "Gene::1000,Disease::MESH:D006528,Gene:Disease,L,GNBR,improper regulation linked to disease\r\n",
      "Gene::1000,Disease::MESH:D007938,Gene:Disease,L,GNBR,improper regulation linked to disease\r\n",
      "Gene::1000,Disease::MESH:D008175,Gene:Disease,L,GNBR,improper regulation linked to disease\r\n",
      "Gene::1000,Disease::MESH:D008223,Gene:Disease,L,GNBR,improper regulation linked to disease\r\n",
      "Gene::1000,Disease::MESH:D008545,Gene:Disease,L,GNBR,improper regulation linked to disease\r\n",
      "Gene::1000,Disease::MESH:D008654,Gene:Disease,L,GNBR,improper regulation linked to disease\r\n",
      "Gene::1000,Disease::MESH:D009101,Gene:Disease,L,GNBR,improper regulation linked to disease\r\n",
      "Gene::1000,Disease::MESH:D009369,Gene:Disease,L,GNBR,improper regulation linked to disease\r\n",
      "Gene::1000,Disease::MESH:D009447,Gene:Disease,L,GNBR,improper regulation linked to disease\r\n",
      "Gene::1000,Disease::MESH:D010051,Gene:Disease,L,GNBR,improper regulation linked to disease\r\n",
      "Gene::1000,Disease::MESH:D010190,Gene:Disease,G,GNBR,promotes progression\r\n",
      "Gene::1000,Disease::MESH:D011471,Gene:Disease,L,GNBR,improper regulation linked to disease\r\n",
      "Gene::1000,Disease::MESH:D012164,Gene:Disease,L,GNBR,improper regulation linked to disease\r\n",
      "Gene::1000,Disease::MESH:D013274,Gene:Disease,L,GNBR,improper regulation linked to disease\r\n",
      "Gene::1000,Disease::MESH:D015179,Gene:Disease,L,GNBR,improper regulation linked to disease\r\n",
      "Gene::1000,Disease::MESH:D015470,Gene:Disease,L,GNBR,improper regulation linked to disease\r\n",
      "Gene::1000,Disease::MESH:D019337,Gene:Disease,G,GNBR,promotes progression\r\n",
      "Gene::10000,Disease::MESH:D000782,Gene:Disease,J,GNBR,role in pathogenesis\r\n",
      "Gene::10000,Disease::MESH:D001943,Gene:Disease,L,GNBR,improper regulation linked to disease\r\n",
      "Gene::10000,Disease::MESH:D008545,Gene:Disease,L,GNBR,improper regulation linked to disease\r\n",
      "Gene::10000,Disease::MESH:D009369,Gene:Disease,L,GNBR,improper regulation linked to disease\r\n",
      "Gene::10000,Disease::MESH:D011471,Gene:Disease,L,GNBR,improper regulation linked to disease\r\n",
      "Gene::10000,Disease::MESH:D013964,Gene:Disease,L,GNBR,improper regulation linked to disease\r\n",
      "Gene::100000800,Disease::MESH:D000419,Gene:Disease,L,GNBR,improper regulation linked to disease\r\n",
      "Gene::100004296,Disease::MESH:D002817,Gene:Disease,L,GNBR,improper regulation linked to disease\r\n",
      "Gene::100004455,Disease::MESH:D000860,Gene:Disease,J,GNBR,role in pathogenesis\r\n",
      "Gene::100006041,Disease::MESH:D013274,Gene:Disease,G,GNBR,promotes progression\r\n",
      "Gene::100006589,Disease::MESH:D009369,Gene:Disease,U,GNBR,causal mutations\r\n",
      "Gene::100006589;386951,Disease::MESH:D005910,Gene:Disease,U,GNBR,causal mutations\r\n",
      "Gene::100008633,Disease::MESH:C536444,Gene:Disease,L,GNBR,improper regulation linked to disease\r\n",
      "Gene::100008633,Disease::MESH:D006816,Gene:Disease,L,GNBR,improper regulation linked to disease\r\n",
      "Gene::100008636,Disease::MESH:D009369,Gene:Disease,L,GNBR,improper regulation linked to disease\r\n",
      "Gene::100008638,Disease::MESH:D005355,Gene:Disease,J,GNBR,role in pathogenesis\r\n",
      "Gene::100008645,Disease::MESH:D005355,Gene:Disease,J,GNBR,role in pathogenesis\r\n",
      "Gene::100008646,Disease::MESH:D013345,Gene:Disease,J,GNBR,role in pathogenesis\r\n",
      "Gene::100008658,Disease::MESH:D001791,Gene:Disease,J,GNBR,role in pathogenesis\r\n",
      "Gene::100008658,Disease::MESH:D003920,Gene:Disease,J,GNBR,role in pathogenesis\r\n",
      "Gene::100008658,Disease::MESH:D007239,Gene:Disease,J,GNBR,role in pathogenesis\r\n",
      "Gene::100008658,Disease::MESH:D012608,Gene:Disease,U,GNBR,causal mutations\r\n"
     ]
    },
    {
     "name": "stderr",
     "output_type": "stream",
     "text": [
      "huggingface/tokenizers: The current process just got forked, after parallelism has already been used. Disabling parallelism to avoid deadlocks...\n",
      "To disable this warning, you can either:\n",
      "\t- Avoid using `tokenizers` before the fork if possible\n",
      "\t- Explicitly set the environment variable TOKENIZERS_PARALLELISM=(true | false)\n"
     ]
    }
   ],
   "source": [
    "!head -100 data/structured/structured_gene_disease.csv"
   ]
  },
  {
   "cell_type": "code",
   "execution_count": 39,
   "id": "e9a939b0",
   "metadata": {},
   "outputs": [],
   "source": [
    "documents = SimpleDirectoryReader(\n",
    "    input_files=[\"data/structured/structured_gene_disease.csv\"]\n",
    ").load_data()"
   ]
  },
  {
   "cell_type": "code",
   "execution_count": 40,
   "id": "acbdc497",
   "metadata": {
    "scrolled": true
   },
   "outputs": [
    {
     "name": "stdout",
     "output_type": "stream",
     "text": [
      "document type: <class 'list'>\n",
      "total # docs: 1\n",
      "doc type: <class 'llama_index.schema.Document'>\n",
      "doc sample: Doc ID: efd7ce57-582a-4e37-91d9-cc7f9bdec79e\n",
      "Text: Gene::1, Disease::MESH:D005909, Gene:Disease, L, GNBR, improper\n",
      "regulation linked to disease Gene::10, Disease::MESH:C562839,\n",
      "Gene:Disease, U, GNBR, causal mutations Gene::10,\n",
      "Disease::MESH:D001172, Gene:Disease, Y, GNBR, polymorphisms alter risk\n",
      "Gene::10, Disease::MESH:D001932, Gene:Disease, Y, GNBR, polymorphisms\n",
      "alter risk Gene::10, Disease::...\n"
     ]
    }
   ],
   "source": [
    "document = Document(text=\"\\n\\n\".join([doc for doc in documents[0].text.split('\\n')]))\n",
    "\n",
    "print(f'document type: {type(documents)}')\n",
    "print(f'total # docs: {len(documents)}')\n",
    "print(f'doc type: {type(documents[0])}')\n",
    "print(f'doc sample: {documents[0]}')"
   ]
  },
  {
   "cell_type": "code",
   "execution_count": 41,
   "id": "c1adb800",
   "metadata": {},
   "outputs": [],
   "source": [
    "index = VectorStoreIndex.from_documents([document],\n",
    "                                        service_context=service_context)\n",
    "query_engine = index.as_query_engine()"
   ]
  },
  {
   "cell_type": "code",
   "execution_count": 42,
   "id": "ec1dd731",
   "metadata": {
    "scrolled": true
   },
   "outputs": [
    {
     "name": "stderr",
     "output_type": "stream",
     "text": [
      "/home/falabir/.local/lib/python3.11/site-packages/transformers/generation/configuration_utils.py:381: UserWarning: `do_sample` is set to `False`. However, `temperature` is set to `0.25` -- this flag is only used in sample-based generation modes. You should set `do_sample=True` or unset `temperature`.\n",
      "  warnings.warn(\n",
      "Setting `pad_token_id` to `eos_token_id`:50256 for open-end generation.\n"
     ]
    },
    {
     "name": "stdout",
     "output_type": "stream",
     "text": [
      "In Gene::10, there are several diseases, such as D007029 (MESH:D007029), D007511 (MESH:D007511), D009205 (MESH:D009205), D009404 (MESH:D009404), D010190 (MESH:D010190), D012829 (MESH:D012829), D014947 (MESH:D014947), D016574 (MESH:D016574), D050723 (MESH:D050723), D017827 (MESH:D017827), D019636 (MESH:D019636), D020521 (MESH:D020521), D050724 (MESH:D050724), D010211 (MESH:D010211), D009223 (MESH:D009223), D009369 (MESH:D009369), D008545 (MESH:D008545), D009101 (MESH:D009221), D006973 (MESH:D006973), D007918 (M\n"
     ]
    }
   ],
   "source": [
    "response = query_engine.query(\n",
    "    \"Describe the role of Gene::10 in different diseases.\"\n",
    ")\n",
    "print(str(response))"
   ]
  },
  {
   "cell_type": "code",
   "execution_count": 43,
   "id": "9d2cc9a7",
   "metadata": {},
   "outputs": [
    {
     "name": "stderr",
     "output_type": "stream",
     "text": [
      "Setting `pad_token_id` to `eos_token_id`:50256 for open-end generation.\n"
     ]
    },
    {
     "name": "stdout",
     "output_type": "stream",
     "text": [
      "The top gene that causes disease is Gene::5820, which is linked to the disease through the relationships Gene::58198, Gene::5820, Gene::5820, Gene::5820, Gene::5820, Gene::5820, Gene::5820, Gene::5820, Gene::5820, Gene::5820, Gene::5820, Gene::5820, Gene::5820, Gene::5820, Gene::5820, Gene::5820, Gene::5820, Gene::5820, Gene::5820, Gene::5820, Gene::5820, Gene::5820, Gene::5820, Gene::5820, Gene::5820, Gene::5820, Gene::5820, Gene::5820, Gene::5820, Gene::5820, Gene::5820, Gene::5820, Gene::5820, Gene::5820, Gene::5820, Gene::5820, Gene::5820, Gene::5820, Gene::5820, Gene::5820, Gene::5820, Gene::5820, Gene::5820, Gene::5820, Gene::5820, Gene::5820, Gene::5820,\n"
     ]
    }
   ],
   "source": [
    "response = query_engine.query(\n",
    "    \"What is the top gene that causes disease? Describe the relationships with the disease.\"\n",
    ")\n",
    "print(str(response))"
   ]
  },
  {
   "cell_type": "code",
   "execution_count": 45,
   "id": "88b036ce",
   "metadata": {},
   "outputs": [
    {
     "name": "stderr",
     "output_type": "stream",
     "text": [
      "Setting `pad_token_id` to `eos_token_id`:50256 for open-end generation.\n"
     ]
    },
    {
     "name": "stdout",
     "output_type": "stream",
     "text": [
      "Disease::MESH:D014947 is linked to the gene D013964. The gene is involved in the process of cell division and is overexpressed in cancer cells.\n"
     ]
    }
   ],
   "source": [
    "response = query_engine.query(\n",
    "    \"List top 5 genes that is associated with Disease::MESH:D014947? Briefly describe how they are associated.\"\n",
    ")\n",
    "print(str(response))"
   ]
  }
 ],
 "metadata": {
  "anaconda-cloud": {},
  "kernelspec": {
   "display_name": "Python 3 (ipykernel)",
   "language": "python",
   "name": "python3"
  },
  "language_info": {
   "codemirror_mode": {
    "name": "ipython",
    "version": 3
   },
   "file_extension": ".py",
   "mimetype": "text/x-python",
   "name": "python",
   "nbconvert_exporter": "python",
   "pygments_lexer": "ipython3",
   "version": "3.11.4"
  }
 },
 "nbformat": 4,
 "nbformat_minor": 5
}
