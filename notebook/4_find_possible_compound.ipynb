{
 "cells": [
  {
   "cell_type": "code",
   "execution_count": 1,
   "id": "81e9f698-9e48-4151-905e-7947391377b3",
   "metadata": {
    "tags": []
   },
   "outputs": [],
   "source": [
    "import pandas as pd\n",
    "import pickle\n",
    "from math import e"
   ]
  },
  {
   "cell_type": "code",
   "execution_count": 2,
   "id": "a1256e56-6cea-48a5-a136-1b30e23d74d3",
   "metadata": {
    "tags": []
   },
   "outputs": [],
   "source": [
    "from gensim.models import Word2Vec\n"
   ]
  },
  {
   "cell_type": "code",
   "execution_count": 3,
   "id": "85d3753b-42b7-42f8-86b6-0deab16dc48d",
   "metadata": {
    "tags": []
   },
   "outputs": [],
   "source": [
    "# in his notebook we will find possible compounds which could cause a given side effect.\\\n",
    "#using the sigmoid function to represent the similarity of the untested compound and known compound causing the side effect\n"
   ]
  },
  {
   "cell_type": "code",
   "execution_count": 4,
   "id": "6c3e7574-2210-4c22-b42a-6177fc85f32f",
   "metadata": {
    "tags": []
   },
   "outputs": [],
   "source": [
    "with open('../data/meta/side_effects.pickle', 'rb') as file:\n",
    "    side_eff_dict = pickle.load(file)\n"
   ]
  },
  {
   "cell_type": "code",
   "execution_count": 5,
   "id": "c258c116-08c7-4283-87b8-f4c1e54034a2",
   "metadata": {
    "tags": []
   },
   "outputs": [
    {
     "data": {
      "text/html": [
       "<div>\n",
       "<style scoped>\n",
       "    .dataframe tbody tr th:only-of-type {\n",
       "        vertical-align: middle;\n",
       "    }\n",
       "\n",
       "    .dataframe tbody tr th {\n",
       "        vertical-align: top;\n",
       "    }\n",
       "\n",
       "    .dataframe thead th {\n",
       "        text-align: right;\n",
       "    }\n",
       "</style>\n",
       "<table border=\"1\" class=\"dataframe\">\n",
       "  <thead>\n",
       "    <tr style=\"text-align: right;\">\n",
       "      <th></th>\n",
       "      <th>side_effect</th>\n",
       "      <th>compounds</th>\n",
       "    </tr>\n",
       "  </thead>\n",
       "  <tbody>\n",
       "    <tr>\n",
       "      <th>0</th>\n",
       "      <td>c0032584</td>\n",
       "      <td>{db00740, db00736, db00448, db01132, db00313, ...</td>\n",
       "    </tr>\n",
       "    <tr>\n",
       "      <th>1</th>\n",
       "      <td>c0424024</td>\n",
       "      <td>{db00575, db01024, db01238}</td>\n",
       "    </tr>\n",
       "    <tr>\n",
       "      <th>2</th>\n",
       "      <td>c0235309</td>\n",
       "      <td>{db00740, db00921, db00523, db00422, db08815, ...</td>\n",
       "    </tr>\n",
       "    <tr>\n",
       "      <th>3</th>\n",
       "      <td>c0014724</td>\n",
       "      <td>{db08827, db00375, db00989, db00503, db06777, ...</td>\n",
       "    </tr>\n",
       "    <tr>\n",
       "      <th>4</th>\n",
       "      <td>c0001824</td>\n",
       "      <td>{db00740, db00190, db00441, db00934, db00301, ...</td>\n",
       "    </tr>\n",
       "  </tbody>\n",
       "</table>\n",
       "</div>"
      ],
      "text/plain": [
       "  side_effect                                          compounds\n",
       "0    c0032584  {db00740, db00736, db00448, db01132, db00313, ...\n",
       "1    c0424024                        {db00575, db01024, db01238}\n",
       "2    c0235309  {db00740, db00921, db00523, db00422, db08815, ...\n",
       "3    c0014724  {db08827, db00375, db00989, db00503, db06777, ...\n",
       "4    c0001824  {db00740, db00190, db00441, db00934, db00301, ..."
      ]
     },
     "execution_count": 5,
     "metadata": {},
     "output_type": "execute_result"
    }
   ],
   "source": [
    "df=pd.DataFrame(side_eff_dict.items(),columns=['side_effect','compounds'])\n",
    "df.head()"
   ]
  },
  {
   "cell_type": "code",
   "execution_count": null,
   "id": "dbbc80cd-83bf-45dd-b728-241ea1dba13c",
   "metadata": {
    "tags": []
   },
   "outputs": [],
   "source": []
  },
  {
   "cell_type": "code",
   "execution_count": null,
   "id": "76f5ee7f-8dba-435f-8488-b8908b6d3921",
   "metadata": {
    "tags": []
   },
   "outputs": [],
   "source": []
  },
  {
   "cell_type": "code",
   "execution_count": 6,
   "id": "151ec23a-2ef8-4db2-a4ef-7412db8b178f",
   "metadata": {
    "tags": []
   },
   "outputs": [],
   "source": [
    "model=Word2Vec.load('../data/meta/compound_embeddings.bin')"
   ]
  },
  {
   "cell_type": "code",
   "execution_count": 7,
   "id": "9c009bfb-ab62-4924-a4f8-8575ea663de0",
   "metadata": {
    "tags": []
   },
   "outputs": [
    {
     "data": {
      "text/plain": [
       "[('db01395', 0.866726279258728),\n",
       " ('db00123', 0.8640450239181519),\n",
       " ('db00328', 0.8638545870780945),\n",
       " ('db01047', 0.8620090484619141),\n",
       " ('db01559', 0.8619389533996582)]"
      ]
     },
     "execution_count": 7,
     "metadata": {},
     "output_type": "execute_result"
    }
   ],
   "source": [
    "model.wv.most_similar('db00014',topn=5)"
   ]
  },
  {
   "cell_type": "code",
   "execution_count": 8,
   "id": "a84243d3-c673-4912-99f9-0ce39c2586ac",
   "metadata": {
    "tags": []
   },
   "outputs": [],
   "source": [
    "def get_similar_compounds(compound,top=5):\n",
    "    return model.wv.most_similar(compound,topn=top)\n",
    "def sigm(a):\n",
    "    return (1+e**-a)**-1\n",
    "def wrapper(col2,top=5):\n",
    "    lis =[]\n",
    "   \n",
    "    for comp in col2:\n",
    "        lis += get_similar_compounds(comp)\n",
    "        #insertion takes n and sorting is n logn, the current values of n are small enough to make the cost negligible.\n",
    "        #we will just sort at the end of the function and return only the top n compounds.\n",
    "    top_lis = []\n",
    "    keys={}\n",
    "    for i in lis:\n",
    "        if (not i[0] in col2) and (not i[0] in keys.keys()):\n",
    "            top_lis.append(i)\n",
    "        keys[i[0]] = 1\n",
    "    \n",
    "    top_lis.sort(key=lambda x:x[1],reverse=True)\n",
    "    return top_lis[0][0],sigm(top_lis[0][1]),[i[0] for i in top_lis[1:top+1]]\n",
    "\n",
    "            \n",
    "        "
   ]
  },
  {
   "cell_type": "code",
   "execution_count": 9,
   "id": "e5d4d67f-3204-45e6-b069-b2e336b9778d",
   "metadata": {
    "tags": []
   },
   "outputs": [
    {
     "data": {
      "text/html": [
       "<div>\n",
       "<style scoped>\n",
       "    .dataframe tbody tr th:only-of-type {\n",
       "        vertical-align: middle;\n",
       "    }\n",
       "\n",
       "    .dataframe tbody tr th {\n",
       "        vertical-align: top;\n",
       "    }\n",
       "\n",
       "    .dataframe thead th {\n",
       "        text-align: right;\n",
       "    }\n",
       "</style>\n",
       "<table border=\"1\" class=\"dataframe\">\n",
       "  <thead>\n",
       "    <tr style=\"text-align: right;\">\n",
       "      <th></th>\n",
       "      <th>side_effect</th>\n",
       "      <th>compounds</th>\n",
       "      <th>mostProbableUntestedCompound</th>\n",
       "      <th>score</th>\n",
       "      <th>otherPossibleCompounds</th>\n",
       "    </tr>\n",
       "  </thead>\n",
       "  <tbody>\n",
       "    <tr>\n",
       "      <th>0</th>\n",
       "      <td>c0032584</td>\n",
       "      <td>{db00740, db00736, db00448, db01132, db00313, ...</td>\n",
       "      <td>db06710</td>\n",
       "      <td>0.730506</td>\n",
       "      <td>[db00769, db01406, db00676, db01173, db00894]</td>\n",
       "    </tr>\n",
       "    <tr>\n",
       "      <th>1</th>\n",
       "      <td>c0424024</td>\n",
       "      <td>{db00575, db01024, db01238}</td>\n",
       "      <td>db00880</td>\n",
       "      <td>0.719511</td>\n",
       "      <td>[db00521, db00354, db01580, db01116, db00178]</td>\n",
       "    </tr>\n",
       "    <tr>\n",
       "      <th>2</th>\n",
       "      <td>c0235309</td>\n",
       "      <td>{db00740, db00921, db00523, db00422, db08815, ...</td>\n",
       "      <td>db00223</td>\n",
       "      <td>0.730743</td>\n",
       "      <td>[db00959, db01130, db00324, db01013, db01063]</td>\n",
       "    </tr>\n",
       "    <tr>\n",
       "      <th>3</th>\n",
       "      <td>c0014724</td>\n",
       "      <td>{db08827, db00375, db00989, db00503, db06777, ...</td>\n",
       "      <td>db01069</td>\n",
       "      <td>0.730691</td>\n",
       "      <td>[db00456, db01615, db09000, db08967, db00508]</td>\n",
       "    </tr>\n",
       "    <tr>\n",
       "      <th>4</th>\n",
       "      <td>c0001824</td>\n",
       "      <td>{db00740, db00190, db00441, db00934, db00301, ...</td>\n",
       "      <td>db00647</td>\n",
       "      <td>0.730709</td>\n",
       "      <td>[db08801, db00420, db00902, db01615, db01614]</td>\n",
       "    </tr>\n",
       "  </tbody>\n",
       "</table>\n",
       "</div>"
      ],
      "text/plain": [
       "  side_effect                                          compounds  \\\n",
       "0    c0032584  {db00740, db00736, db00448, db01132, db00313, ...   \n",
       "1    c0424024                        {db00575, db01024, db01238}   \n",
       "2    c0235309  {db00740, db00921, db00523, db00422, db08815, ...   \n",
       "3    c0014724  {db08827, db00375, db00989, db00503, db06777, ...   \n",
       "4    c0001824  {db00740, db00190, db00441, db00934, db00301, ...   \n",
       "\n",
       "  mostProbableUntestedCompound     score  \\\n",
       "0                      db06710  0.730506   \n",
       "1                      db00880  0.719511   \n",
       "2                      db00223  0.730743   \n",
       "3                      db01069  0.730691   \n",
       "4                      db00647  0.730709   \n",
       "\n",
       "                          otherPossibleCompounds  \n",
       "0  [db00769, db01406, db00676, db01173, db00894]  \n",
       "1  [db00521, db00354, db01580, db01116, db00178]  \n",
       "2  [db00959, db01130, db00324, db01013, db01063]  \n",
       "3  [db00456, db01615, db09000, db08967, db00508]  \n",
       "4  [db08801, db00420, db00902, db01615, db01614]  "
      ]
     },
     "execution_count": 9,
     "metadata": {},
     "output_type": "execute_result"
    }
   ],
   "source": [
    "\n",
    "df[['mostProbableUntestedCompound','score','otherPossibleCompounds']] = df.compounds.apply(lambda x:pd.Series(wrapper(x)))\n",
    "df.head()"
   ]
  },
  {
   "cell_type": "code",
   "execution_count": 11,
   "id": "894135b4-fd14-4b69-a52a-366bb69ce4b2",
   "metadata": {
    "tags": []
   },
   "outputs": [],
   "source": [
    "df.to_csv('../data/results/side_effect_compound_pred.csv',index=False)"
   ]
  },
  {
   "cell_type": "code",
   "execution_count": 12,
   "id": "bd233bfd-1c1f-4dfa-bae9-d2bfcc3d66ef",
   "metadata": {
    "tags": []
   },
   "outputs": [],
   "source": [
    "#score is sigmoid of the similarity (which is a cosine similarity)"
   ]
  },
  {
   "cell_type": "code",
   "execution_count": 13,
   "id": "20c7dccf-ada2-42b2-ac41-e32e62f5d10c",
   "metadata": {
    "tags": []
   },
   "outputs": [],
   "source": [
    "#we initially thought of using graph rags and a graph database and then create texts based on those.\n",
    "#however there are no graph databases which offer such services without some kind of subscription. So I changed my approach and thought of using embeddings.\n",
    "#i didnt use LLM because the model will focus on the text patterns and grammar more than on the compound names. However i want to see if what i \n",
    "#think is true by using the story based data with a very structured format, all rows would have only have 2 patterns which might make \n",
    "#it hard for the model to focus on the compound ids.\n"
   ]
  },
  {
   "cell_type": "code",
   "execution_count": null,
   "id": "19fa4848-b5ef-432b-8a19-d1bd7ba049d4",
   "metadata": {},
   "outputs": [],
   "source": []
  }
 ],
 "metadata": {
  "kernelspec": {
   "display_name": "mlenv",
   "language": "python",
   "name": "mlenv"
  },
  "language_info": {
   "codemirror_mode": {
    "name": "ipython",
    "version": 3
   },
   "file_extension": ".py",
   "mimetype": "text/x-python",
   "name": "python",
   "nbconvert_exporter": "python",
   "pygments_lexer": "ipython3",
   "version": "3.11.5"
  }
 },
 "nbformat": 4,
 "nbformat_minor": 5
}
