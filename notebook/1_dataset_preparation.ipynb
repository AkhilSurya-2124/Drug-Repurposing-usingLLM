{
 "cells": [
  {
   "cell_type": "markdown",
   "metadata": {
    "id": "S9zzmjbXMXnn"
   },
   "source": [
    "## Data Preprocessing"
   ]
  },
  {
   "cell_type": "code",
   "execution_count": 1,
   "metadata": {
    "colab": {
     "base_uri": "https://localhost:8080/",
     "height": 206
    },
    "id": "_D-vxJu9sD3Z",
    "outputId": "1f49b946-ac0b-43e2-dee1-6b372b462d7f"
   },
   "outputs": [
    {
     "data": {
      "text/html": [
       "<div>\n",
       "<style scoped>\n",
       "    .dataframe tbody tr th:only-of-type {\n",
       "        vertical-align: middle;\n",
       "    }\n",
       "\n",
       "    .dataframe tbody tr th {\n",
       "        vertical-align: top;\n",
       "    }\n",
       "\n",
       "    .dataframe thead th {\n",
       "        text-align: right;\n",
       "    }\n",
       "</style>\n",
       "<table border=\"1\" class=\"dataframe\">\n",
       "  <thead>\n",
       "    <tr style=\"text-align: right;\">\n",
       "      <th></th>\n",
       "      <th>node_a</th>\n",
       "      <th>relation</th>\n",
       "      <th>node_b</th>\n",
       "    </tr>\n",
       "  </thead>\n",
       "  <tbody>\n",
       "    <tr>\n",
       "      <th>0</th>\n",
       "      <td>Gene::2157</td>\n",
       "      <td>bioarx::HumGenHumGen:Gene:Gene</td>\n",
       "      <td>Gene::2157</td>\n",
       "    </tr>\n",
       "    <tr>\n",
       "      <th>1</th>\n",
       "      <td>Gene::2157</td>\n",
       "      <td>bioarx::HumGenHumGen:Gene:Gene</td>\n",
       "      <td>Gene::5264</td>\n",
       "    </tr>\n",
       "    <tr>\n",
       "      <th>2</th>\n",
       "      <td>Gene::2157</td>\n",
       "      <td>bioarx::HumGenHumGen:Gene:Gene</td>\n",
       "      <td>Gene::2158</td>\n",
       "    </tr>\n",
       "    <tr>\n",
       "      <th>3</th>\n",
       "      <td>Gene::2157</td>\n",
       "      <td>bioarx::HumGenHumGen:Gene:Gene</td>\n",
       "      <td>Gene::3309</td>\n",
       "    </tr>\n",
       "    <tr>\n",
       "      <th>4</th>\n",
       "      <td>Gene::2157</td>\n",
       "      <td>bioarx::HumGenHumGen:Gene:Gene</td>\n",
       "      <td>Gene::28912</td>\n",
       "    </tr>\n",
       "  </tbody>\n",
       "</table>\n",
       "</div>"
      ],
      "text/plain": [
       "       node_a                        relation       node_b\n",
       "0  Gene::2157  bioarx::HumGenHumGen:Gene:Gene   Gene::2157\n",
       "1  Gene::2157  bioarx::HumGenHumGen:Gene:Gene   Gene::5264\n",
       "2  Gene::2157  bioarx::HumGenHumGen:Gene:Gene   Gene::2158\n",
       "3  Gene::2157  bioarx::HumGenHumGen:Gene:Gene   Gene::3309\n",
       "4  Gene::2157  bioarx::HumGenHumGen:Gene:Gene  Gene::28912"
      ]
     },
     "execution_count": 1,
     "metadata": {},
     "output_type": "execute_result"
    }
   ],
   "source": [
    "import pandas as pd\n",
    "df = pd.read_csv('../data/raw/drkg.tsv', delimiter='\\t', names=['node_a', 'relation', 'node_b'])\n",
    "rel_df = pd.read_csv('../data/raw/relation_glossary.tsv', delimiter='\\t')\n",
    "\n",
    "df.head()"
   ]
  },
  {
   "cell_type": "code",
   "execution_count": 2,
   "metadata": {
    "colab": {
     "base_uri": "https://localhost:8080/"
    },
    "id": "eoeMog4VsOEw",
    "outputId": "c2785b15-c401-4b90-ab44-4a951d2c4b61"
   },
   "outputs": [
    {
     "name": "stderr",
     "output_type": "stream",
     "text": [
      "100%|██████████| 5874261/5874261 [00:30<00:00, 191201.12it/s]\n"
     ]
    }
   ],
   "source": [
    "from tqdm import tqdm\n",
    "from collections import Counter\n",
    "\n",
    "entity_type_a = [rel.split(':')[-2] for rel in df.relation]\n",
    "entity_type_b = [rel.split(':')[-1] for rel in df.relation]\n",
    "\n",
    "entity_type_set_a = list(set(entity_type_a))\n",
    "entity_type_set_b = list(set(entity_type_b))\n",
    "\n",
    "relation_counts = {}\n",
    "for en_a in entity_type_set_a:\n",
    "    for en_b in entity_type_set_b:\n",
    "        relation_counts[f\"{en_a}:{en_b}\"] = 0\n",
    "\n",
    "sources = []\n",
    "relation_types = []\n",
    "relation_entities = []\n",
    "for idx in tqdm(range(len(df.node_a))):\n",
    "    relations = df.relation[idx].split(':')\n",
    "    key = f\"{relations[-2]}:{relations[-1]}\"\n",
    "    relation_counts[key] += 1\n",
    "    sources.append(relations[0])\n",
    "    relation_types.append(relations[2])\n",
    "    relation_entities.append(key)\n",
    "\n",
    "df[\"relation_entities\"] = relation_entities\n",
    "df[\"relation_type\"] = relation_types\n",
    "df[\"source\"] = sources\n",
    "\n",
    "df.drop(\"relation\", inplace=True, axis=1)"
   ]
  },
  {
   "cell_type": "markdown",
   "metadata": {
    "id": "s7i0XuZ7ClIc"
   },
   "source": [
    "# Dataset Preparation"
   ]
  },
  {
   "cell_type": "markdown",
   "metadata": {
    "id": "ylBy6ehiDt-k"
   },
   "source": [
    "## Relationship Descriptions"
   ]
  },
  {
   "cell_type": "code",
   "execution_count": 3,
   "metadata": {},
   "outputs": [],
   "source": [
    "# structured description of relations\n",
    "\n",
    "with open(\"../data/structured/structured_relationship_descriptions.txt\", \"a\") as f:\n",
    "    for idx in range(rel_df.shape[0]):\n",
    "        for col in list(rel_df.columns):\n",
    "            if str(rel_df.iloc[idx][col]) != 'nan':\n",
    "                f.write(f\"{col}: {rel_df.iloc[idx][col]}\\n\")\n",
    "        f.write(\"\\n\")"
   ]
  },
  {
   "cell_type": "code",
   "execution_count": 4,
   "metadata": {
    "id": "0Jcgd3Hmdjy_"
   },
   "outputs": [],
   "source": [
    "# unstructured description of relations\n",
    "with open(\"../data/unstructured/unstructured_relationship_descriptions.txt\", \"a\") as f:\n",
    "    for idx in range(rel_df.shape[0]):\n",
    "        entities = rel_df.iloc[idx]['Connected entity-types'].split(':')\n",
    "        interaction_type = rel_df.iloc[idx]['Interaction-type']\n",
    "        description = rel_df.iloc[idx]['Description']\n",
    "        source = rel_df.iloc[idx]['Data-source']\n",
    "        f.write(f\"Relation \\\"{rel_df.iloc[idx]['Relation-name']}\\\" refers to \\\"{interaction_type}\\\" type interaction between \\\"{entities[0]}\\\" and \\\"{entities[1]}\\\". \")\n",
    "        if str(description) != 'nan':\n",
    "            f.write(f\"This interaction type can be described as \\\"{description}\\\". \",)\n",
    "        f.write(f\"Source database of this relation is {source}.\\n\")"
   ]
  },
  {
   "cell_type": "markdown",
   "metadata": {
    "id": "UcAcb5YVxsZx"
   },
   "source": [
    "## Entity Relations"
   ]
  },
  {
   "cell_type": "code",
   "execution_count": 5,
   "metadata": {
    "id": "TXbC3exMv2pf"
   },
   "outputs": [],
   "source": [
    "df_2 = pd.read_csv('../data/raw/drkg.tsv', delimiter='\\t', names=['node_a', 'relation', 'node_b'])"
   ]
  },
  {
   "cell_type": "code",
   "execution_count": 6,
   "metadata": {
    "colab": {
     "base_uri": "https://localhost:8080/"
    },
    "id": "9YTotxU6yZZl",
    "outputId": "838464fe-57e9-409e-c013-0536e4c69d96"
   },
   "outputs": [
    {
     "name": "stdout",
     "output_type": "stream",
     "text": [
      "Compound:Disease 10 ['Compound treats the disease', 'inhibits cell growth (esp. cancers)', 'role in disease pathogenesis', 'biomarkers (of disease progression)', 'alleviates, reduces', 'prevents, suppresses', 'side effect/adverse event', 'treatment/therapy (including investigatory)', 'palliation', 'treatment']\n",
      "Disease:Gene 15 ['drug targets', 'promotes progression', 'role in pathogenesis', 'improper regulation linked to disease', 'biomarkers (diagnostic)', 'possible therapeutic effect', 'causal mutations', 'mutations affecting disease course', 'overexpression in disease', 'polymorphisms alter risk', 'association', 'downregulation', 'upregulation', 'interaction', 'interaction']\n",
      "Disease:Disease NONE\n",
      "Compound:Side Effect 1 ['causes']\n",
      "Disease:Anatomy NONE\n",
      "Compound:Gene 34 ['activation', 'agonism', 'allosteric modulation', 'antagonism', 'antibody', 'binding', 'blocking', 'channel blocking', 'inhibition', 'modulation', 'other', 'partial agonism', 'positive allosteric modulation', 'carrier', 'enzyme', 'target', 'agonism, activation', 'antagonism, blocking', 'binding, ligand (esp. receptors)', 'increases expression/production', 'decreases expression/production', 'affects expression/production (neutral)', 'metabolism, pharmacokinetics', 'inhibits', 'transport, channels', 'enzyme activity', 'binding', 'downregulation', 'upregulation', 'association', 'direct interation', 'physical association', 'interaction', 'interaction']\n",
      "Gene:Pathway 1 ['participation']\n",
      "Gene:Tax 1 ['gene belongs to taxonomy']\n",
      "Compound:Compound 2 ['drug-drug interaction', 'resemblence']\n",
      "Gene:Biological Process NONE\n",
      "Disease:Symptom 1 ['presents']\n",
      "Compound:Atc NONE\n",
      "Gene:Molecular Function 1 ['participation']\n",
      "Gene:Cellular Component NONE\n",
      "Gene:Compound NONE\n",
      "Anatomy:Gene 3 ['downregulatation', 'expression', 'upregulation']\n",
      "Pharmacologic Class:Compound NONE\n",
      "Gene:Disease NONE\n",
      "Gene:Gene 32 ['binding, ligand (esp. receptors)', 'increases expression/production', 'affects expression/production (neutral)', 'same protein or complex', 'signaling pathway', 'production by cell population', 'regulation', 'activates, stimulates', 'enhances response', 'covariation', 'interaction', 'regulation', 'ADP ribosylation reaction', 'association', 'cleavage reaction', 'colocalization', 'dephosphorylation reaction', 'direct interation', 'phosphorylation reaction', 'physical association', 'protein cleavage', 'ubiquitination reaction', 'activation', 'binding', 'catalysis', 'expression', 'inhibition', 'other', 'post-translational modification', 'reaction', 'interaction', 'interaction']\n"
     ]
    }
   ],
   "source": [
    "for ent in set(df.relation_entities):\n",
    "    if rel_df[rel_df['Connected entity-types']==ent].shape[0]:\n",
    "        print(ent, rel_df[rel_df['Connected entity-types']==ent].shape[0], list(rel_df[rel_df['Connected entity-types']==ent][\"Interaction-type\"]))\n",
    "    else:\n",
    "        print(ent, \"NONE\")"
   ]
  },
  {
   "cell_type": "code",
   "execution_count": 7,
   "metadata": {
    "colab": {
     "base_uri": "https://localhost:8080/"
    },
    "id": "SE7HKvRdykUQ",
    "outputId": "1f640375-bad7-4666-d2bd-8402aec6a7c6"
   },
   "outputs": [
    {
     "data": {
      "text/plain": [
       "['Anatomy:Gene',\n",
       " 'Compound:Atc',\n",
       " 'Compound:Compound',\n",
       " 'Compound:Disease',\n",
       " 'Compound:Gene',\n",
       " 'Compound:Side Effect',\n",
       " 'Disease:Anatomy',\n",
       " 'Disease:Disease',\n",
       " 'Disease:Gene',\n",
       " 'Disease:Symptom',\n",
       " 'DrugHumGen:Compound:Gene',\n",
       " 'DrugVirGen:Compound:Gene',\n",
       " 'Gene:Biological Process',\n",
       " 'Gene:Cellular Component',\n",
       " 'Gene:Compound',\n",
       " 'Gene:Disease',\n",
       " 'Gene:Gene',\n",
       " 'Gene:Molecular Function',\n",
       " 'Gene:Pathway',\n",
       " 'Gene:Tax',\n",
       " 'HumGenHumGen:Gene:Gene',\n",
       " 'Pharmacologic Class:Compound',\n",
       " 'VirGenHumGen:Gene:Gene']"
      ]
     },
     "execution_count": 7,
     "metadata": {},
     "output_type": "execute_result"
    }
   ],
   "source": [
    "entities_set_new = []\n",
    "for s in set(df_2.relation):\n",
    "    entities_set_new.append(s.split('::')[-1])\n",
    "\n",
    "sorted(list(set(entities_set_new)))"
   ]
  },
  {
   "cell_type": "code",
   "execution_count": 8,
   "metadata": {
    "colab": {
     "base_uri": "https://localhost:8080/"
    },
    "id": "B6IZf-hY6F2J",
    "outputId": "3e863ee6-771d-4ca1-edd7-71bb17ec66d4"
   },
   "outputs": [
    {
     "name": "stdout",
     "output_type": "stream",
     "text": [
      "ID: 0, Description: An activator interaction is when a drug activates a biological response from a target, although the mechanism by which it does so may not be understood.\n",
      "ID: 1, Description: An agonist interaction occurs when a drug binds to a target receptor and activates the receptor to produce a biological response.\n",
      "ID: 2, Description: An allosteric modulator interaction occurs when drugs exert their effects on their protein targets via a different binding site than the natural (orthosteric) ligand site.\n",
      "ID: 3, Description: An antagonist interaction occurs when a drug blocks or dampens agonist-mediated responses rather than provoking a biological response itself upon binding to a target receptor.\n",
      "ID: 4, Description: An antibody interaction occurs when an antibody drug specifically binds the target molecule.\n",
      "ID: 5, Description: A binder interaction has drugs physically binding to their target.\n",
      "ID: 6, Description: Antagonist interactions are sometimes referred to as blocker interactions; examples include alpha blockers, beta blockers, and calcium channel blockers.\n",
      "ID: 8, Description: In inhibitor interactions, the drug binds to a target and decreases its expression or activity. Most interactions of this class are enzyme inhibitors, which bind an enzyme to reduce enzyme activity.\n",
      "ID: 9, Description: In modulator interactions, the drug regulates or changes the activity of its target. In contrast to allosteric modulators, this interaction type may not involve any direct binding to the target.\n",
      "ID: 10, Description: This is a label given by the reporting source to an interaction that doesn't belong to other interaction types, as defined by the reporting source.\n",
      "ID: 11, Description: In a partial antagonist interaction, a drug will only partially reduce the amplitude of a functional response at its target receptor, as compared to the reduction of response by a full antagonist.\n",
      "ID: 12, Description: In a positive allosteric modulator interaction, the drug increases activity of the target enzyme.\n",
      "ID: 13, Description: Gene acts as a carrier which binds to a drug and modifies its pharmacokinetics.\n",
      "ID: 14, Description: In DrugBank, this relation refers to a change in a drug's effect on the body when the drug is taken with other drugs.\n",
      "ID: 15, Description: Gene acts as an enzyme that facilitates the occurrence of a metabolic reaction by interacting with and transforming a drug or chemical to one or more specific metabolites.\n",
      "ID: 16, Description: The drug binds or otherwise interacts with the gene, resulting in an alteration of the normal function of the bound molecule and desirable therapeutic effects or unwanted adverse effects.\n",
      "ID: 17, Description: We extend the hierarchical ATC classification information of drugs from their corresponding ATC codes and connect entities representing each level of ATC into certain drugs.\n",
      "ID: 18, Description: We extract  the  associated  conditions  related  to  compound entities in the drugbank.\n",
      "ID: 80, Description: Involves the addition of one or more ADP-ribose moieties to proteins.\n",
      "ID: 81, Description: Interaction between molecules that may participate in formation of one, but possibly more, physical complexes.\n",
      "ID: 82, Description: Interaction between molecules that may participate in formation of one, but possibly more, physical complexes.\n",
      "ID: 83, Description: Covalent bond breakage in a molecule leading to the formation of smaller molecules.\n",
      "ID: 84, Description: Coincident occurrence of molecules in a given subcellular fraction observed with a low resolution methodology from which a physical interaction among those molecules cannot be inferred.\n",
      "ID: 85, Description: Phosphoresidues are cleaved and return D,C,H,S,T,Y or R residues.\n",
      "ID: 86, Description: Interaction between molecules that are in direct contact with each other.\n",
      "ID: 87, Description: Interaction between molecules that are in direct contact with each other.\n",
      "ID: 88, Description: Reversible reaction that can affect D,C,H,S,T,Y,R residues.\n",
      "ID: 89, Description: Interaction between molecules within the same physical complex.\n",
      "ID: 90, Description: Interaction between molecules within the same physical complex.\n",
      "ID: 91, Description: Covalent modification of a polypeptide occuring during its maturation or its proteolytic degradation.\n",
      "ID: 92, Description: Reversible reaction that create a covalent bond between a C-terminus G of ubiquitin and a K residue of the target.\n",
      "ID: 98, Description: interaction that doesn't belong to other interaction types.\n",
      "ID: 99, Description: Post-translational modification (PTM) refers to the covalent and generally enzymatic modification of proteins following protein biosynthesis.\n",
      "ID: 101, Description: Interactions between the 6 Covid-19 related  diseases namely IBV, HCoV-229E, HCoV-NL63, SARS, MERS and MHV, and 117 host proteins.\n",
      "ID: 102, Description: Interactions between 27 viral  proteins,  and 332 physically associated human genes.\n",
      "ID: 105, Description: Protein-protein interaction\n",
      "ID: 106, Description: Protein-protein interaction\n"
     ]
    }
   ],
   "source": [
    "for idx in range(rel_df.shape[0]):\n",
    "    description = rel_df.iloc[idx]['Description']\n",
    "    if str(description) != 'nan':\n",
    "        print(f\"ID: {idx}, Description: {description}\")"
   ]
  },
  {
   "cell_type": "code",
   "execution_count": 9,
   "metadata": {
    "colab": {
     "base_uri": "https://localhost:8080/"
    },
    "id": "8IwHIYK74hUS",
    "outputId": "cdeec43b-7074-4ea2-e586-8e56c59a3cd5"
   },
   "outputs": [
    {
     "data": {
      "text/plain": [
       "['DGIDB::ACTIVATOR::Gene:Compound',\n",
       " 'DGIDB::AGONIST::Gene:Compound',\n",
       " 'DGIDB::ALLOSTERIC MODULATOR::Gene:Compound',\n",
       " 'DGIDB::ANTAGONIST::Gene:Compound',\n",
       " 'DGIDB::ANTIBODY::Gene:Compound',\n",
       " 'DGIDB::BINDER::Gene:Compound',\n",
       " 'DGIDB::BLOCKER::Gene:Compound',\n",
       " 'DGIDB::CHANNEL BLOCKER::Gene:Compound',\n",
       " 'DGIDB::INHIBITOR::Gene:Compound',\n",
       " 'DGIDB::MODULATOR::Gene:Compound',\n",
       " 'DGIDB::OTHER::Gene:Compound',\n",
       " 'DGIDB::PARTIAL AGONIST::Gene:Compound',\n",
       " 'DGIDB::POSITIVE ALLOSTERIC MODULATOR::Gene:Compound',\n",
       " 'DRUGBANK::carrier::Compound:Gene',\n",
       " 'DRUGBANK::ddi-interactor-in::Compound:Compound',\n",
       " 'DRUGBANK::enzyme::Compound:Gene',\n",
       " 'DRUGBANK::target::Compound:Gene',\n",
       " 'DRUGBANK::treats::Compound:Disease',\n",
       " 'DRUGBANK::x-atc::Compound:Atc',\n",
       " 'GNBR::A+::Compound:Gene',\n",
       " 'GNBR::A-::Compound:Gene',\n",
       " 'GNBR::B::Compound:Gene',\n",
       " 'GNBR::B::Gene:Gene',\n",
       " 'GNBR::C::Compound:Disease',\n",
       " 'GNBR::D::Gene:Disease',\n",
       " 'GNBR::E+::Compound:Gene',\n",
       " 'GNBR::E+::Gene:Gene',\n",
       " 'GNBR::E-::Compound:Gene',\n",
       " 'GNBR::E::Compound:Gene',\n",
       " 'GNBR::E::Gene:Gene',\n",
       " 'GNBR::G::Gene:Disease',\n",
       " 'GNBR::H::Gene:Gene',\n",
       " 'GNBR::I::Gene:Gene',\n",
       " 'GNBR::J::Compound:Disease',\n",
       " 'GNBR::J::Gene:Disease',\n",
       " 'GNBR::K::Compound:Gene',\n",
       " 'GNBR::L::Gene:Disease',\n",
       " 'GNBR::Md::Gene:Disease',\n",
       " 'GNBR::Mp::Compound:Disease',\n",
       " 'GNBR::N::Compound:Gene',\n",
       " 'GNBR::O::Compound:Gene',\n",
       " 'GNBR::Pa::Compound:Disease',\n",
       " 'GNBR::Pr::Compound:Disease',\n",
       " 'GNBR::Q::Gene:Gene',\n",
       " 'GNBR::Rg::Gene:Gene',\n",
       " 'GNBR::Sa::Compound:Disease',\n",
       " 'GNBR::T::Compound:Disease',\n",
       " 'GNBR::Te::Gene:Disease',\n",
       " 'GNBR::U::Gene:Disease',\n",
       " 'GNBR::Ud::Gene:Disease',\n",
       " 'GNBR::V+::Gene:Gene',\n",
       " 'GNBR::W::Gene:Gene',\n",
       " 'GNBR::X::Gene:Disease',\n",
       " 'GNBR::Y::Gene:Disease',\n",
       " 'GNBR::Z::Compound:Gene',\n",
       " 'GNBR::in_tax::Gene:Tax',\n",
       " 'Hetionet::AdG::Anatomy:Gene',\n",
       " 'Hetionet::AeG::Anatomy:Gene',\n",
       " 'Hetionet::AuG::Anatomy:Gene',\n",
       " 'Hetionet::CbG::Compound:Gene',\n",
       " 'Hetionet::CcSE::Compound:Side Effect',\n",
       " 'Hetionet::CdG::Compound:Gene',\n",
       " 'Hetionet::CpD::Compound:Disease',\n",
       " 'Hetionet::CrC::Compound:Compound',\n",
       " 'Hetionet::CtD::Compound:Disease',\n",
       " 'Hetionet::CuG::Compound:Gene',\n",
       " 'Hetionet::DaG::Disease:Gene',\n",
       " 'Hetionet::DdG::Disease:Gene',\n",
       " 'Hetionet::DlA::Disease:Anatomy',\n",
       " 'Hetionet::DpS::Disease:Symptom',\n",
       " 'Hetionet::DrD::Disease:Disease',\n",
       " 'Hetionet::DuG::Disease:Gene',\n",
       " 'Hetionet::GcG::Gene:Gene',\n",
       " 'Hetionet::GiG::Gene:Gene',\n",
       " 'Hetionet::GpBP::Gene:Biological Process',\n",
       " 'Hetionet::GpCC::Gene:Cellular Component',\n",
       " 'Hetionet::GpMF::Gene:Molecular Function',\n",
       " 'Hetionet::GpPW::Gene:Pathway',\n",
       " 'Hetionet::Gr>G::Gene:Gene',\n",
       " 'Hetionet::PCiC::Pharmacologic Class:Compound',\n",
       " 'INTACT::ADP RIBOSYLATION REACTION::Gene:Gene',\n",
       " 'INTACT::ASSOCIATION::Compound:Gene',\n",
       " 'INTACT::ASSOCIATION::Gene:Gene',\n",
       " 'INTACT::CLEAVAGE REACTION::Gene:Gene',\n",
       " 'INTACT::COLOCALIZATION::Gene:Gene',\n",
       " 'INTACT::DEPHOSPHORYLATION REACTION::Gene:Gene',\n",
       " 'INTACT::DIRECT INTERACTION::Compound:Gene',\n",
       " 'INTACT::DIRECT INTERACTION::Gene:Gene',\n",
       " 'INTACT::PHOSPHORYLATION REACTION::Gene:Gene',\n",
       " 'INTACT::PHYSICAL ASSOCIATION::Compound:Gene',\n",
       " 'INTACT::PHYSICAL ASSOCIATION::Gene:Gene',\n",
       " 'INTACT::PROTEIN CLEAVAGE::Gene:Gene',\n",
       " 'INTACT::UBIQUITINATION REACTION::Gene:Gene',\n",
       " 'STRING::ACTIVATION::Gene:Gene',\n",
       " 'STRING::BINDING::Gene:Gene',\n",
       " 'STRING::CATALYSIS::Gene:Gene',\n",
       " 'STRING::EXPRESSION::Gene:Gene',\n",
       " 'STRING::INHIBITION::Gene:Gene',\n",
       " 'STRING::OTHER::Gene:Gene',\n",
       " 'STRING::PTMOD::Gene:Gene',\n",
       " 'STRING::REACTION::Gene:Gene',\n",
       " 'bioarx::Coronavirus_ass_host_gene::Disease:Gene',\n",
       " 'bioarx::Covid2_acc_host_gene::Disease:Gene',\n",
       " 'bioarx::DrugHumGen:Compound:Gene',\n",
       " 'bioarx::DrugVirGen:Compound:Gene',\n",
       " 'bioarx::HumGenHumGen:Gene:Gene',\n",
       " 'bioarx::VirGenHumGen:Gene:Gene']"
      ]
     },
     "execution_count": 9,
     "metadata": {},
     "output_type": "execute_result"
    }
   ],
   "source": [
    "sorted(list(set(df_2.relation)))"
   ]
  },
  {
   "cell_type": "markdown",
   "metadata": {},
   "source": [
    "For the project, we are focusing on **gene to disease** relations only."
   ]
  },
  {
   "cell_type": "code",
   "execution_count": 10,
   "metadata": {
    "colab": {
     "base_uri": "https://localhost:8080/",
     "height": 423
    },
    "id": "f4xNhs4Z3RHQ",
    "outputId": "a6c099f0-b05c-4b19-e2b6-d932f966fa24"
   },
   "outputs": [
    {
     "data": {
      "text/html": [
       "<div>\n",
       "<style scoped>\n",
       "    .dataframe tbody tr th:only-of-type {\n",
       "        vertical-align: middle;\n",
       "    }\n",
       "\n",
       "    .dataframe tbody tr th {\n",
       "        vertical-align: top;\n",
       "    }\n",
       "\n",
       "    .dataframe thead th {\n",
       "        text-align: right;\n",
       "    }\n",
       "</style>\n",
       "<table border=\"1\" class=\"dataframe\">\n",
       "  <thead>\n",
       "    <tr style=\"text-align: right;\">\n",
       "      <th></th>\n",
       "      <th>node_a</th>\n",
       "      <th>node_b</th>\n",
       "      <th>relation_entities</th>\n",
       "      <th>relation_type</th>\n",
       "      <th>source</th>\n",
       "    </tr>\n",
       "  </thead>\n",
       "  <tbody>\n",
       "    <tr>\n",
       "      <th>1694421</th>\n",
       "      <td>Gene::1</td>\n",
       "      <td>Disease::MESH:D005909</td>\n",
       "      <td>Gene:Disease</td>\n",
       "      <td>L</td>\n",
       "      <td>GNBR</td>\n",
       "    </tr>\n",
       "    <tr>\n",
       "      <th>1694422</th>\n",
       "      <td>Gene::10</td>\n",
       "      <td>Disease::MESH:C562839</td>\n",
       "      <td>Gene:Disease</td>\n",
       "      <td>U</td>\n",
       "      <td>GNBR</td>\n",
       "    </tr>\n",
       "    <tr>\n",
       "      <th>1694423</th>\n",
       "      <td>Gene::10</td>\n",
       "      <td>Disease::MESH:D001172</td>\n",
       "      <td>Gene:Disease</td>\n",
       "      <td>Y</td>\n",
       "      <td>GNBR</td>\n",
       "    </tr>\n",
       "    <tr>\n",
       "      <th>1694424</th>\n",
       "      <td>Gene::10</td>\n",
       "      <td>Disease::MESH:D001932</td>\n",
       "      <td>Gene:Disease</td>\n",
       "      <td>Y</td>\n",
       "      <td>GNBR</td>\n",
       "    </tr>\n",
       "    <tr>\n",
       "      <th>1694425</th>\n",
       "      <td>Gene::10</td>\n",
       "      <td>Disease::MESH:D003110</td>\n",
       "      <td>Gene:Disease</td>\n",
       "      <td>J</td>\n",
       "      <td>GNBR</td>\n",
       "    </tr>\n",
       "    <tr>\n",
       "      <th>...</th>\n",
       "      <td>...</td>\n",
       "      <td>...</td>\n",
       "      <td>...</td>\n",
       "      <td>...</td>\n",
       "      <td>...</td>\n",
       "    </tr>\n",
       "    <tr>\n",
       "      <th>1789815</th>\n",
       "      <td>Gene::99982</td>\n",
       "      <td>Disease::MESH:D004715</td>\n",
       "      <td>Gene:Disease</td>\n",
       "      <td>L</td>\n",
       "      <td>GNBR</td>\n",
       "    </tr>\n",
       "    <tr>\n",
       "      <th>1789816</th>\n",
       "      <td>Gene::99982</td>\n",
       "      <td>Disease::MESH:D006973</td>\n",
       "      <td>Gene:Disease</td>\n",
       "      <td>J</td>\n",
       "      <td>GNBR</td>\n",
       "    </tr>\n",
       "    <tr>\n",
       "      <th>1789817</th>\n",
       "      <td>Gene::99982</td>\n",
       "      <td>Disease::MESH:D009362</td>\n",
       "      <td>Gene:Disease</td>\n",
       "      <td>J</td>\n",
       "      <td>GNBR</td>\n",
       "    </tr>\n",
       "    <tr>\n",
       "      <th>1789818</th>\n",
       "      <td>Gene::99982</td>\n",
       "      <td>Disease::MESH:D013274</td>\n",
       "      <td>Gene:Disease</td>\n",
       "      <td>L</td>\n",
       "      <td>GNBR</td>\n",
       "    </tr>\n",
       "    <tr>\n",
       "      <th>1789819</th>\n",
       "      <td>Gene::99982</td>\n",
       "      <td>Disease::MESH:D018205</td>\n",
       "      <td>Gene:Disease</td>\n",
       "      <td>L</td>\n",
       "      <td>GNBR</td>\n",
       "    </tr>\n",
       "  </tbody>\n",
       "</table>\n",
       "<p>95399 rows × 5 columns</p>\n",
       "</div>"
      ],
      "text/plain": [
       "              node_a                 node_b relation_entities relation_type  \\\n",
       "1694421      Gene::1  Disease::MESH:D005909      Gene:Disease             L   \n",
       "1694422     Gene::10  Disease::MESH:C562839      Gene:Disease             U   \n",
       "1694423     Gene::10  Disease::MESH:D001172      Gene:Disease             Y   \n",
       "1694424     Gene::10  Disease::MESH:D001932      Gene:Disease             Y   \n",
       "1694425     Gene::10  Disease::MESH:D003110      Gene:Disease             J   \n",
       "...              ...                    ...               ...           ...   \n",
       "1789815  Gene::99982  Disease::MESH:D004715      Gene:Disease             L   \n",
       "1789816  Gene::99982  Disease::MESH:D006973      Gene:Disease             J   \n",
       "1789817  Gene::99982  Disease::MESH:D009362      Gene:Disease             J   \n",
       "1789818  Gene::99982  Disease::MESH:D013274      Gene:Disease             L   \n",
       "1789819  Gene::99982  Disease::MESH:D018205      Gene:Disease             L   \n",
       "\n",
       "        source  \n",
       "1694421   GNBR  \n",
       "1694422   GNBR  \n",
       "1694423   GNBR  \n",
       "1694424   GNBR  \n",
       "1694425   GNBR  \n",
       "...        ...  \n",
       "1789815   GNBR  \n",
       "1789816   GNBR  \n",
       "1789817   GNBR  \n",
       "1789818   GNBR  \n",
       "1789819   GNBR  \n",
       "\n",
       "[95399 rows x 5 columns]"
      ]
     },
     "execution_count": 10,
     "metadata": {},
     "output_type": "execute_result"
    }
   ],
   "source": [
    "relationship_in_focus = 'Gene:Disease'\n",
    "df[df.relation_entities==relationship_in_focus]"
   ]
  },
  {
   "cell_type": "code",
   "execution_count": 11,
   "metadata": {
    "colab": {
     "base_uri": "https://localhost:8080/"
    },
    "id": "HnKprSre6a9F",
    "outputId": "1bf6c490-04df-4b35-ee44-991188302654"
   },
   "outputs": [
    {
     "name": "stderr",
     "output_type": "stream",
     "text": [
      "100%|██████████| 95399/95399 [00:14<00:00, 6394.76it/s]\n"
     ]
    }
   ],
   "source": [
    "from tqdm import tqdm\n",
    "\n",
    "# getting relationship description\n",
    "rel_desc = []\n",
    "for each in tqdm([f\"GNBR::{rel}::{relationship_in_focus}\" for rel in list(df[df.relation_entities==relationship_in_focus]['relation_type'])]):\n",
    "    rel_desc.append(rel_df[rel_df['Relation-name']==each]['Interaction-type'].values[0])"
   ]
  },
  {
   "cell_type": "markdown",
   "metadata": {},
   "source": [
    "### Structured Dataset Generation"
   ]
  },
  {
   "cell_type": "code",
   "execution_count": 12,
   "metadata": {
    "colab": {
     "base_uri": "https://localhost:8080/",
     "height": 865
    },
    "id": "B3VSvNxb7J1Z",
    "outputId": "b159b6e1-8d20-4c35-c199-4e781e057ea5"
   },
   "outputs": [
    {
     "name": "stderr",
     "output_type": "stream",
     "text": [
      "/scratch/local/ipykernel_61217/3527954743.py:2: SettingWithCopyWarning: \n",
      "A value is trying to be set on a copy of a slice from a DataFrame.\n",
      "Try using .loc[row_indexer,col_indexer] = value instead\n",
      "\n",
      "See the caveats in the documentation: https://pandas.pydata.org/pandas-docs/stable/user_guide/indexing.html#returning-a-view-versus-a-copy\n",
      "  structured_data[\"relation_name\"] = rel_desc\n"
     ]
    },
    {
     "data": {
      "text/html": [
       "<div>\n",
       "<style scoped>\n",
       "    .dataframe tbody tr th:only-of-type {\n",
       "        vertical-align: middle;\n",
       "    }\n",
       "\n",
       "    .dataframe tbody tr th {\n",
       "        vertical-align: top;\n",
       "    }\n",
       "\n",
       "    .dataframe thead th {\n",
       "        text-align: right;\n",
       "    }\n",
       "</style>\n",
       "<table border=\"1\" class=\"dataframe\">\n",
       "  <thead>\n",
       "    <tr style=\"text-align: right;\">\n",
       "      <th></th>\n",
       "      <th>node_a</th>\n",
       "      <th>node_b</th>\n",
       "      <th>relation_entities</th>\n",
       "      <th>relation_type</th>\n",
       "      <th>source</th>\n",
       "      <th>relation_name</th>\n",
       "    </tr>\n",
       "  </thead>\n",
       "  <tbody>\n",
       "    <tr>\n",
       "      <th>1694421</th>\n",
       "      <td>Gene::1</td>\n",
       "      <td>Disease::MESH:D005909</td>\n",
       "      <td>Gene:Disease</td>\n",
       "      <td>L</td>\n",
       "      <td>GNBR</td>\n",
       "      <td>improper regulation linked to disease</td>\n",
       "    </tr>\n",
       "    <tr>\n",
       "      <th>1694422</th>\n",
       "      <td>Gene::10</td>\n",
       "      <td>Disease::MESH:C562839</td>\n",
       "      <td>Gene:Disease</td>\n",
       "      <td>U</td>\n",
       "      <td>GNBR</td>\n",
       "      <td>causal mutations</td>\n",
       "    </tr>\n",
       "    <tr>\n",
       "      <th>1694423</th>\n",
       "      <td>Gene::10</td>\n",
       "      <td>Disease::MESH:D001172</td>\n",
       "      <td>Gene:Disease</td>\n",
       "      <td>Y</td>\n",
       "      <td>GNBR</td>\n",
       "      <td>polymorphisms alter risk</td>\n",
       "    </tr>\n",
       "    <tr>\n",
       "      <th>1694424</th>\n",
       "      <td>Gene::10</td>\n",
       "      <td>Disease::MESH:D001932</td>\n",
       "      <td>Gene:Disease</td>\n",
       "      <td>Y</td>\n",
       "      <td>GNBR</td>\n",
       "      <td>polymorphisms alter risk</td>\n",
       "    </tr>\n",
       "    <tr>\n",
       "      <th>1694425</th>\n",
       "      <td>Gene::10</td>\n",
       "      <td>Disease::MESH:D003110</td>\n",
       "      <td>Gene:Disease</td>\n",
       "      <td>J</td>\n",
       "      <td>GNBR</td>\n",
       "      <td>role in pathogenesis</td>\n",
       "    </tr>\n",
       "    <tr>\n",
       "      <th>...</th>\n",
       "      <td>...</td>\n",
       "      <td>...</td>\n",
       "      <td>...</td>\n",
       "      <td>...</td>\n",
       "      <td>...</td>\n",
       "      <td>...</td>\n",
       "    </tr>\n",
       "    <tr>\n",
       "      <th>1789815</th>\n",
       "      <td>Gene::99982</td>\n",
       "      <td>Disease::MESH:D004715</td>\n",
       "      <td>Gene:Disease</td>\n",
       "      <td>L</td>\n",
       "      <td>GNBR</td>\n",
       "      <td>improper regulation linked to disease</td>\n",
       "    </tr>\n",
       "    <tr>\n",
       "      <th>1789816</th>\n",
       "      <td>Gene::99982</td>\n",
       "      <td>Disease::MESH:D006973</td>\n",
       "      <td>Gene:Disease</td>\n",
       "      <td>J</td>\n",
       "      <td>GNBR</td>\n",
       "      <td>role in pathogenesis</td>\n",
       "    </tr>\n",
       "    <tr>\n",
       "      <th>1789817</th>\n",
       "      <td>Gene::99982</td>\n",
       "      <td>Disease::MESH:D009362</td>\n",
       "      <td>Gene:Disease</td>\n",
       "      <td>J</td>\n",
       "      <td>GNBR</td>\n",
       "      <td>role in pathogenesis</td>\n",
       "    </tr>\n",
       "    <tr>\n",
       "      <th>1789818</th>\n",
       "      <td>Gene::99982</td>\n",
       "      <td>Disease::MESH:D013274</td>\n",
       "      <td>Gene:Disease</td>\n",
       "      <td>L</td>\n",
       "      <td>GNBR</td>\n",
       "      <td>improper regulation linked to disease</td>\n",
       "    </tr>\n",
       "    <tr>\n",
       "      <th>1789819</th>\n",
       "      <td>Gene::99982</td>\n",
       "      <td>Disease::MESH:D018205</td>\n",
       "      <td>Gene:Disease</td>\n",
       "      <td>L</td>\n",
       "      <td>GNBR</td>\n",
       "      <td>improper regulation linked to disease</td>\n",
       "    </tr>\n",
       "  </tbody>\n",
       "</table>\n",
       "<p>95399 rows × 6 columns</p>\n",
       "</div>"
      ],
      "text/plain": [
       "              node_a                 node_b relation_entities relation_type  \\\n",
       "1694421      Gene::1  Disease::MESH:D005909      Gene:Disease             L   \n",
       "1694422     Gene::10  Disease::MESH:C562839      Gene:Disease             U   \n",
       "1694423     Gene::10  Disease::MESH:D001172      Gene:Disease             Y   \n",
       "1694424     Gene::10  Disease::MESH:D001932      Gene:Disease             Y   \n",
       "1694425     Gene::10  Disease::MESH:D003110      Gene:Disease             J   \n",
       "...              ...                    ...               ...           ...   \n",
       "1789815  Gene::99982  Disease::MESH:D004715      Gene:Disease             L   \n",
       "1789816  Gene::99982  Disease::MESH:D006973      Gene:Disease             J   \n",
       "1789817  Gene::99982  Disease::MESH:D009362      Gene:Disease             J   \n",
       "1789818  Gene::99982  Disease::MESH:D013274      Gene:Disease             L   \n",
       "1789819  Gene::99982  Disease::MESH:D018205      Gene:Disease             L   \n",
       "\n",
       "        source                          relation_name  \n",
       "1694421   GNBR  improper regulation linked to disease  \n",
       "1694422   GNBR                       causal mutations  \n",
       "1694423   GNBR               polymorphisms alter risk  \n",
       "1694424   GNBR               polymorphisms alter risk  \n",
       "1694425   GNBR                   role in pathogenesis  \n",
       "...        ...                                    ...  \n",
       "1789815   GNBR  improper regulation linked to disease  \n",
       "1789816   GNBR                   role in pathogenesis  \n",
       "1789817   GNBR                   role in pathogenesis  \n",
       "1789818   GNBR  improper regulation linked to disease  \n",
       "1789819   GNBR  improper regulation linked to disease  \n",
       "\n",
       "[95399 rows x 6 columns]"
      ]
     },
     "execution_count": 12,
     "metadata": {},
     "output_type": "execute_result"
    }
   ],
   "source": [
    "structured_data = df[df.relation_entities==relationship_in_focus]\n",
    "structured_data[\"relation_name\"] = rel_desc\n",
    "structured_data"
   ]
  },
  {
   "cell_type": "code",
   "execution_count": 13,
   "metadata": {
    "id": "IKrg5sbZ6w9W"
   },
   "outputs": [],
   "source": [
    "structured_data.to_csv(f'../data/structured/structured_gene_disease.csv')"
   ]
  },
  {
   "cell_type": "markdown",
   "metadata": {},
   "source": [
    "### Semi-structured Dataset Generation"
   ]
  },
  {
   "cell_type": "code",
   "execution_count": 14,
   "metadata": {
    "colab": {
     "base_uri": "https://localhost:8080/"
    },
    "id": "XpiSrhE5WodF",
    "outputId": "9b06af53-1c5e-4d6c-d5dc-8d62d43c24d6"
   },
   "outputs": [
    {
     "name": "stderr",
     "output_type": "stream",
     "text": [
      "100%|██████████| 10/10 [00:00<00:00, 2373.15it/s]"
     ]
    },
    {
     "name": "stdout",
     "output_type": "stream",
     "text": [
      "interaction-entities: Gene::1 and Disease::MESH:D005909\n",
      "interaction-type: improper regulation linked to disease\n",
      "\n",
      "interaction-entities: Gene::10 and Disease::MESH:C562839\n",
      "interaction-type: causal mutations\n",
      "\n",
      "interaction-entities: Gene::10 and Disease::MESH:D001172\n",
      "interaction-type: polymorphisms alter risk\n",
      "\n",
      "interaction-entities: Gene::10 and Disease::MESH:D001932\n",
      "interaction-type: polymorphisms alter risk\n",
      "\n",
      "interaction-entities: Gene::10 and Disease::MESH:D003110\n",
      "interaction-type: role in pathogenesis\n",
      "\n",
      "interaction-entities: Gene::10 and Disease::MESH:D004409\n",
      "interaction-type: polymorphisms alter risk\n",
      "\n",
      "interaction-entities: Gene::10 and Disease::MESH:D006331\n",
      "interaction-type: polymorphisms alter risk\n",
      "\n",
      "interaction-entities: Gene::10 and Disease::MESH:D010190\n",
      "interaction-type: polymorphisms alter risk\n",
      "\n",
      "interaction-entities: Gene::10 and Disease::MESH:D015179\n",
      "interaction-type: role in pathogenesis\n",
      "\n",
      "interaction-entities: Gene::10 and Disease::MESH:D015212\n",
      "interaction-type: polymorphisms alter risk\n",
      "\n"
     ]
    },
    {
     "name": "stderr",
     "output_type": "stream",
     "text": [
      "\n"
     ]
    }
   ],
   "source": [
    "for idx in tqdm(range(10)):\n",
    "    relationship_description = rel_df[f\"{structured_data.iloc[idx]['source']}::{structured_data.iloc[idx]['relation_type']}::{structured_data.iloc[idx]['relation_entities']}\"==rel_df['Relation-name']]\n",
    "    print(f\"interaction-entities: {structured_data.iloc[idx].node_a} and {structured_data.iloc[idx].node_b}\\ninteraction-type: {relationship_description['Interaction-type'].values[0]}\\n\")"
   ]
  },
  {
   "cell_type": "code",
   "execution_count": 15,
   "metadata": {
    "colab": {
     "base_uri": "https://localhost:8080/"
    },
    "id": "tXE53SKG7pWK",
    "outputId": "f17607b7-4a49-46ba-b6eb-396ec36313a6"
   },
   "outputs": [
    {
     "name": "stderr",
     "output_type": "stream",
     "text": [
      "100%|██████████| 95399/95399 [00:29<00:00, 3181.55it/s]\n"
     ]
    }
   ],
   "source": [
    "with open(\"../data/semi_structured/semi_structured_gene_disease.txt\", \"a\") as f:\n",
    "    for idx in tqdm(range(structured_data.shape[0])):\n",
    "        relationship_description = rel_df[f\"{structured_data.iloc[idx]['source']}::{structured_data.iloc[idx]['relation_type']}::{structured_data.iloc[idx]['relation_entities']}\"==rel_df['Relation-name']]\n",
    "        f.write(f\"interaction-entities: {structured_data.iloc[idx].node_a} and {structured_data.iloc[idx].node_b}\\ninteraction-type: {relationship_description['Interaction-type'].values[0]}\\n\")\n",
    "        f.write(\"\\n\")"
   ]
  },
  {
   "cell_type": "markdown",
   "metadata": {},
   "source": [
    "### Unstructured (Language like) Dataset Generation\n",
    "\n",
    "For each of 107 entity relations type, we have generated a template to convert the structured data to human language like unstructured dataset."
   ]
  },
  {
   "cell_type": "code",
   "execution_count": 16,
   "metadata": {
    "id": "TQ2a3iek9ujb"
   },
   "outputs": [],
   "source": [
    "def generate_sentence(entity_a, entity_b, interaction_type):\n",
    "    \"\"\"\n",
    "    Generate a context-rich sentence based on the interaction type, entities, and optionally a description.\n",
    "\n",
    "    Args:\n",
    "    - entities (str): The entities involved in the interaction.\n",
    "    - interaction_type (str): The type of interaction.\n",
    "    - description (str, optional): A brief description of the interaction. Default is None.\n",
    "\n",
    "    Returns:\n",
    "    - str: A context-rich sentence describing the interaction.\n",
    "    \"\"\"\n",
    "\n",
    "    # source of the templates: https://chat.openai.com/share/dd3533f8-06b0-4837-9ec0-b425dbc944b8\n",
    "    # Mapping of interaction types to sentence templates\n",
    "    templates = {\n",
    "        'activation [Compound:Gene]': \"{entity_a} interacts with {entity_b} through activation, meaning the drug triggers a biological response from this gene, though the exact mechanism is not fully understood.\",\n",
    "        'activation [Gene:Gene]': \"{entity_a} and {entity_b} interact through activation, suggesting one gene activates or enhances the function of the other.\",\n",
    "\n",
    "        'binding [Compound:Gene]': \"A binding interaction is observed between {entity_a} and {entity_b}, indicating the compound physically binds to the gene or its product.\",\n",
    "        'binding [Gene:Gene]': \"{entity_a} and {entity_b} are involved in a binding interaction, indicating a physical association between them.\",\n",
    "\n",
    "        'inhibition [Compound:Gene]': \"{entity_a} and {entity_b} exhibit inhibition, where the drug binds to the gene and reduces its expression or activity, commonly seen in enzyme inhibitors.\",\n",
    "        'inhibition [Gene:Gene]': \"{entity_a} and {entity_b} are involved in an inhibition interaction, suggesting one gene inhibits the activity of the other.\",\n",
    "\n",
    "        'binding, ligand (esp. receptors) [Compound:Gene]': \"There is a binding to ligand (especially receptors) type interaction between {entity_a} and {entity_b}, highlighting the drug's role in receptor binding.\",\n",
    "        'binding, ligand (esp. receptors) [Gene:Gene]': \"{entity_a} and {entity_b} interact through a binding to ligand (especially receptors) mechanism, suggesting a specific receptor-ligand dynamic.\",\n",
    "\n",
    "        'increases expression/production [Compound:Gene]': \"{entity_a} and {entity_b} interact, leading to an increase in expression or production of the gene.\",\n",
    "        'increases expression/production [Gene:Gene]': \"An interaction between {entity_a} and {entity_b} results in increased expression or production, indicating a regulatory relationship.\",\n",
    "\n",
    "        'affects expression/production (neutral) [Compound:Gene]': \"{entity_a} interacts with {entity_b} in a way that affects expression or production neutrally.\",\n",
    "        'affects expression/production (neutral) [Gene:Gene]': \"{entity_a} and {entity_b} interact, affecting each other's expression or production in a neutral manner.\",\n",
    "\n",
    "        'expression [Anatomy:Gene]': \"{entity_a} and {entity_b} show an expression interaction, suggesting the gene is actively expressed in a specific anatomical region.\",\n",
    "        'expression [Gene:Gene]': \"{entity_a} and {entity_b} show an expression interaction, indicating gene expression modulation.\",\n",
    "\n",
    "        'upregulation [Anatomy:Gene]': \"{entity_a} and {entity_b} are involved in an upregulation interaction, indicating increased gene expression in a particular anatomical context.\",\n",
    "        'upregulation [Compound:Gene]': \"{entity_a} and {entity_b} show an upregulation interaction, where the compound increases the gene's expression or activity.\",\n",
    "        'upregulation [Disease:Gene]': \"{entity_a} and {entity_b} are involved in an upregulation interaction, where the disease increases the gene's expression or activity.\",\n",
    "\n",
    "        'downregulatation': \"{entity_a} and {entity_b} are involved in a downregulation interaction, indicating a decrease in gene expression in a specific anatomical context.\",\n",
    "        'downregulation [Compound:Gene]': \"{entity_a} and {entity_b} are involved in a downregulation interaction, where the compound decreases the gene's expression or activity.\",\n",
    "        'downregulation [Disease:Gene]': \"{entity_a} and {entity_b} demonstrate a downregulation interaction, suggesting the disease decreases the gene's expression or activity.\",\n",
    "\n",
    "        'resemblence [Compound:Compound]': \"{entity_a} and {entity_b} are linked by a resemblance interaction, suggesting similarity in compound structure or function.\",\n",
    "        'resemblence [Disease:Disease]': \"{entity_a} and {entity_b} are related by resemblance, suggesting similarities in disease symptoms or pathology.\",\n",
    "\n",
    "        'association [Disease:Gene]': \"{entity_a} and {entity_b} are associated, indicating a connection between the gene and the disease.\",\n",
    "        'association [Compound:Gene]': \"{entity_a} and {entity_b} exhibit an association interaction, potentially forming physical complexes.\",\n",
    "        'association [Gene:Gene]': \"{entity_a} associates with another gene {entity_b}, possibly participating in the formation of one or more physical complexes.\",\n",
    "\n",
    "        'interaction [Disease:Gene]': \"{entity_a} and {entity_b} interact, showing a connection between the disease and the gene.\",\n",
    "        'interaction [Compound:Gene]': \"{entity_a} interacts with {entity_b}, suggesting a direct or indirect influence of the compound on the gene.\",\n",
    "        'interaction [Gene:GeneSelf]': \"{entity_a} shows a protein-protein interaction with itself, indicating a homodimer or similar self-association.\",\n",
    "        'interaction [Gene:Gene]': \"{entity_a} and {entity_b} interact, suggesting a protein-protein interaction between them.\",\n",
    "\n",
    "        'participation': \"{entity_a} participates in {entity_b}, suggesting its involvement in a specific biochemical pathway or molecular process.\",\n",
    "        'direct interation': \"{entity_a} and {entity_b} show a direct interaction, indicating physical contact between the molecules.\",\n",
    "        'physical association': \"{entity_a} and {entity_b} are part of a physical association, indicating their presence in the same physical complex.\",\n",
    "\n",
    "        'agonism': \"{entity_a} and {entity_b} exhibit an agonism interaction, where the drug binds to the gene's receptor and activates it to produce a biological response.\",\n",
    "        'allosteric modulation': \"An allosteric modulation occurs between {entity_a} and {entity_b}, where the drug affects the gene by binding to a different site than the natural ligand.\",\n",
    "        'antagonism': \"{entity_a} and {entity_b} engage in antagonism, where the drug blocks or reduces the response mediated by the gene's agonist without initiating a biological response itself.\",\n",
    "        'antibody': \"{entity_a} is targeted by {entity_b} in an antibody interaction, where the antibody drug specifically binds to the gene.\",\n",
    "        'blocking': \"{entity_a} and {entity_b} demonstrate a blocking interaction, a type of antagonism such as alpha, beta, or calcium channel blocking.\",\n",
    "        'channel blocking': \"{entity_a} and {entity_b} are involved in channel blocking, a specific type of interaction.\",\n",
    "        'modulation': \"Modulation is the interaction type between {entity_a} and {entity_b}, where the drug alters the activity of the gene, potentially without direct binding.\",\n",
    "        'other': \"{entity_a} interacts with {entity_b}. The exact type of interaction is unknown but it different from the other interactions.\",\n",
    "        'partial agonism': \"There is a partial agonism interaction between {entity_a} and {entity_b}, where the drug partially reduces the functional response of the target receptor compared to a full antagonist.\",\n",
    "        'positive allosteric modulation': \"{entity_a} and {entity_b} are involved in positive allosteric modulation, where the drug increases the activity of the target enzyme.\",\n",
    "        'carrier': \"{entity_b} acts as a carrier for {entity_a}, altering the pharmacokinetics of the drug through binding.\",\n",
    "        'drug-drug interaction': \"A drug-drug interaction occurs between {entity_a} and {entity_b}, indicating a change in the drug's effect when taken together.\",\n",
    "        'enzyme': \"{entity_a} serves as an enzyme for {entity_b}, facilitating the metabolic transformation of the drug into specific metabolites.\",\n",
    "        'target': \"{entity_a} targets {entity_b}, interacting with the gene to alter its normal function, leading to therapeutic or adverse effects.\",\n",
    "        'Compound treats the disease': \"{entity_a} treats {entity_b}, illustrating a compound's therapeutic relationship with a specific disease.\",\n",
    "        'Compound belongs to Anatomical Therapeutic Chemical (ATC) code.': \"{entity_a} belongs to the Anatomical Therapeutic Chemical (ATC) code {entity_b}, linking the drug to a specific classification in the hierarchical ATC system.\",\n",
    "        'agonism, activation': \"{entity_a} exhibits both agonism and activation interactions with {entity_b}, indicating multiple modes of drug action.\",\n",
    "        'antagonism, blocking': \"{entity_a} and {entity_b} are involved in an interaction characterized by both antagonism and blocking, indicating a multi-faceted drug action.\",\n",
    "        'inhibits cell growth (esp. cancers)': \"{entity_a} and {entity_b} show an interaction where the compound inhibits cell growth, particularly relevant in cancers.\",\n",
    "        'drug targets': \"{entity_a} and {entity_b} are linked in a drug target interaction, highlighting the gene's role in the disease's mechanism.\",\n",
    "        'decreases expression/production': \"{entity_a} decreases expression or production of {entity_b}.\",\n",
    "        'promotes progression': \"{entity_a} promotes the progression of {entity_b}.\",\n",
    "        'same protein or complex': \"{entity_a} and {entity_b} demonstrate an interaction where they form the same protein or complex.\",\n",
    "        'signaling pathway': \"{entity_a} and {entity_b} are part of a signaling pathway interaction, indicating a complex network of gene interactions.\",\n",
    "        'role in disease pathogenesis': \"{entity_a} plays a role in disease pathogenesis of {entity_b}\",\n",
    "        'role in pathogenesis': \"{entity_a} plays a role in disease pathogenesis of {entity_b}\",\n",
    "        'regulation': \"{entity_a} and {entity_b} are involved in a regulatory interaction, indicating a mutual influence on each other's function.\",\n",
    "        'metabolism, pharmacokinetics': \"{entity_a} and {entity_b} interact in the context of metabolism and pharmacokinetics, highlighting the drug's metabolic effects.\",\n",
    "        'improper regulation linked to disease': \"{entity_a} and {entity_b} show an improper regulation interaction linked to the disease, suggesting a pathogenic mechanism.\",\n",
    "        'biomarkers (diagnostic)': \"{entity_a} and {entity_b} are associated in a biomarker diagnostic interaction, indicating the gene's potential as a disease biomarker.\",\n",
    "        'biomarkers (of disease progression)': \"{entity_a} and {entity_b} interact as biomarkers of disease progression, suggesting a role in monitoring disease evolution.\",\n",
    "        'inhibits': \"{entity_a} and {entity_b} are involved in an inhibitory interaction, with the compound acting to inhibit the gene's function.\",\n",
    "        'transport, channels': \"{entity_a} and {entity_b} interact in a way that involves transport and channel functions, suggesting a role in cellular transport mechanisms.\",\n",
    "        'alleviates, reduces': \"{entity_a} and {entity_b} show an interaction where the compound alleviates or reduces the symptoms of the disease.\",\n",
    "        'prevents, suppresses': \"{entity_a} and {entity_b} are involved in an interaction that prevents or suppresses the development of the disease.\",\n",
    "        'production by cell population': \"{entity_a} and {entity_b} demonstrate a production by cell population interaction, indicating a joint role in cellular processes.\",\n",
    "        'side effect/adverse event': \"{entity_a} and {entity_b} interact in a way that causes a side effect or adverse event, highlighting potential negative drug reactions.\",\n",
    "        'treatment/therapy (including investigatory)': \"{entity_a} and {entity_b} are linked in a treatment or therapy interaction, suggesting the compound's role in addressing the disease.\",\n",
    "        'possible therapeutic effect': \"{entity_a} and {entity_b} demonstrate a possible therapeutic effect interaction, indicating the gene's potential role in disease treatment.\",\n",
    "        'causal mutations': \"{entity_a} and {entity_b} are involved in an interaction related to causal mutations, suggesting a genetic link to the disease.\",\n",
    "        'mutations affecting disease course': \"{entity_a} and {entity_b} show an interaction where mutations affect the disease course, highlighting genetic influences on disease progression.\",\n",
    "        'activates, stimulates': \"{entity_a} and {entity_b} interact through activation or stimulation, indicating a role in initiating or enhancing a biological response.\",\n",
    "        'enhances response': \"{entity_a} and {entity_b} demonstrate an interaction that enhances response, suggesting a synergistic effect on biological processes.\",\n",
    "        'overexpression in disease': \"{entity_a} and {entity_b} are involved in an overexpression interaction in the disease, indicating a gene's heightened activity in disease states.\",\n",
    "        'polymorphisms alter risk': \"{entity_a} and {entity_b} are linked through an interaction where polymorphisms alter risk, suggesting genetic variations influence disease susceptibility.\",\n",
    "        'enzyme activity': \"{entity_a} and {entity_b} interact in a way that involves enzyme activity, highlighting the compound's influence on metabolic processes.\",\n",
    "        'gene belongs to taxonomy': \"{entity_a} and {entity_b} show an interaction where the gene belongs to a specific taxonomy, indicating its classification in the biological hierarchy.\",\n",
    "        'causes': \"{entity_a} causes a specific side effect, as indicated by its interaction with {entity_b}.\",\n",
    "        'palliation': \"{entity_a} and {entity_b} interact in a palliative manner, indicating the compound's role in alleviating the symptoms of the disease.\",\n",
    "        'treatment': \"{entity_a} is used in the treatment of {entity_b}, indicating its therapeutic application.\",\n",
    "        'localization': \"{entity_a} and {entity_b} are linked by a localization interaction, indicating the disease's manifestation in a specific anatomical region.\",\n",
    "        'presents': \"{entity_a} presents {entity_b}, indicating the symptom as a characteristic of the disease.\",\n",
    "        'covariation': \"{entity_a} and {entity_b} show a covariation interaction, indicating a correlation in their expression or function.\",\n",
    "        'inclusion': \"{entity_a} includes {entity_b}, indicating the compound's classification in a specific pharmacological category.\",\n",
    "        'ADP ribosylation reaction': \"{entity_a} and {entity_b} are involved in an ADP ribosylation reaction, where one or more ADP-ribose moieties are added to proteins.\",\n",
    "        'cleavage reaction': \"{entity_a} and {entity_b} engage in a cleavage reaction, leading to the formation of smaller molecules through covalent bond breakage.\",\n",
    "        'colocalization': \"{entity_a} and {entity_b} are involved in a colocalization interaction, indicating their coincident occurrence in a specific subcellular location.\",\n",
    "        'dephosphorylation reaction': \"{entity_a} and {entity_b} participate in a dephosphorylation reaction, where phosphoresidues are cleaved from proteins.\",\n",
    "        'phosphorylation reaction': \"{entity_a} and {entity_b} engage in a phosphorylation reaction, a reversible process affecting protein residues.\",\n",
    "        'protein cleavage': \"{entity_a} and {entity_b} are involved in protein cleavage, a modification occurring during protein maturation or degradation.\",\n",
    "        'ubiquitination reaction': \"{entity_a} and {entity_b} participate in a ubiquitination reaction, involving the addition of ubiquitin to target proteins.\",\n",
    "        'catalysis': \"{entity_a} and {entity_b} engage in catalysis, suggesting they facilitate a chemical reaction.\",\n",
    "        'post-translational modification': \"{entity_a} and {entity_b} are part of a post-translational modification interaction, involving enzymatic changes to proteins after biosynthesis.\",\n",
    "        'reaction': \"{entity_a} and {entity_b} are involved in a reaction, suggesting a chemical process between them.\",\n",
    "        # Add other templates for different interaction types here\n",
    "    }\n",
    "\n",
    "    # Format the entities for readability\n",
    "    # formatted_entities = ' and '.join([f\"{entity.split('::')[0]} {entity.split('::')[1]}\" for entity in entities.split(' and ')])\n",
    "\n",
    "    # Format the description\n",
    "    # formatted_description = f\", where {description.lower()}\" if description else \"\"\n",
    "    description = \"\"\n",
    "    formatted_description = \"\"\n",
    "\n",
    "    # Select the appropriate template\n",
    "    template = templates.get(interaction_type, \"{entity_a} and {entity_b} have an interaction of type '{interaction_type}'{description}.\")\n",
    "\n",
    "    # Format the sentence\n",
    "    sentence = template.format(entity_a=entity_a, entity_b=entity_b, interaction_type=interaction_type, description=formatted_description)\n",
    "\n",
    "    return sentence"
   ]
  },
  {
   "cell_type": "code",
   "execution_count": 17,
   "metadata": {
    "colab": {
     "base_uri": "https://localhost:8080/"
    },
    "id": "lUOeet409-F2",
    "outputId": "99bee43a-66b2-467b-92a0-6dd3f0bf7106"
   },
   "outputs": [
    {
     "name": "stderr",
     "output_type": "stream",
     "text": [
      "100%|██████████| 95399/95399 [00:30<00:00, 3140.17it/s]\n"
     ]
    }
   ],
   "source": [
    "with open(\"../data/unstructured/unstructured_gene_disease.txt\", \"a\") as f:\n",
    "    for idx in tqdm(range(structured_data.shape[0])):\n",
    "        row = structured_data.iloc[idx]\n",
    "        entity_a = row.node_a\n",
    "        entity_b = row.node_b\n",
    "        rel_row = rel_df[rel_df['Relation-name']==f\"{structured_data.iloc[idx]['source']}::{structured_data.iloc[idx]['relation_type']}::{structured_data.iloc[idx]['relation_entities']}\"]\n",
    "        interaction_type = rel_row['Interaction-type'].values[0]\n",
    "        interaction_description = rel_row['Description'].values[0]\n",
    "\n",
    "        if interaction_type == 'interaction':\n",
    "            entity_type = rel_row['Connected entity-types'].values[0]\n",
    "            if entity_type == \"Gene:Gene\" and row.node_a==row.node_b:\n",
    "                interaction_type = \"interaction [Gene:GeneSelf]\"\n",
    "            else:\n",
    "                interaction_type = f\"{interaction_type} [{entity_type}]\"\n",
    "        elif interaction_type in [\"activation\", \"binding\", \"inhibition\", \"binding, ligand (esp. receptors)\",\n",
    "                                \"increases expression/production\", \"affects expression/production (neutral)\",\n",
    "                                \"expression\", \"upregulation\", \"downregulation\", \"resemblence\", \"association\",\n",
    "                                \"interaction\"]:\n",
    "            interaction_type = f\"{interaction_type} [{entity_type}]\"\n",
    "\n",
    "        f.write(f\"{generate_sentence(entity_a, entity_b, interaction_type)}\\n\")"
   ]
  },
  {
   "cell_type": "markdown",
   "metadata": {
    "id": "O7UEliXzeUdv"
   },
   "source": [
    "## Metadata\n",
    "\n",
    "As the genes, compound and diseases are describled in IDs from different well-known biological datasets, it would be easier for the LLMs. However, we will explore more on these metadata on our future study i.e., we did not used any metadata in our current study."
   ]
  },
  {
   "cell_type": "code",
   "execution_count": null,
   "metadata": {
    "colab": {
     "base_uri": "https://localhost:8080/"
    },
    "id": "lvae5Vu3ub_8",
    "outputId": "f98559c5-966d-490f-9830-87c0b84079c4"
   },
   "outputs": [
    {
     "data": {
      "text/plain": [
       "(5103, 39220, 24313)"
      ]
     },
     "execution_count": 66,
     "metadata": {},
     "output_type": "execute_result"
    }
   ],
   "source": [
    "def get_entities(key):\n",
    "    node_a = set([node for node in df.node_a])\n",
    "    entities_a = [node for node in node_a if node.split('::')[0] == key]\n",
    "\n",
    "    node_b = set([node for node in df.node_b])\n",
    "    entities_b = [node for node in node_b if node.split('::')[0] == key]\n",
    "\n",
    "    return list(set(entities_a + entities_b))\n",
    "\n",
    "diseases = get_entities(\"Disease\")\n",
    "genes = get_entities(\"Gene\")\n",
    "compounds = get_entities(\"Compound\")\n",
    "\n",
    "len(diseases), len(genes), len(compounds)"
   ]
  },
  {
   "cell_type": "code",
   "execution_count": null,
   "metadata": {
    "colab": {
     "base_uri": "https://localhost:8080/"
    },
    "id": "N714bxTr4l5S",
    "outputId": "87020171-d97a-4574-a2f1-182b1cabe2f2"
   },
   "outputs": [
    {
     "data": {
      "text/plain": [
       "(2097, 306)"
      ]
     },
     "execution_count": 109,
     "metadata": {},
     "output_type": "execute_result"
    }
   ],
   "source": [
    "len(drugbank_id), len(other_id)"
   ]
  },
  {
   "cell_type": "code",
   "execution_count": null,
   "metadata": {
    "id": "i5n4OBLV1_H8"
   },
   "outputs": [],
   "source": [
    "entrez_id = []\n",
    "drugbank_id = []\n",
    "other_id = []\n",
    "\n",
    "for g in genes:\n",
    "    try:\n",
    "        x = int(g.split(\":\")[2])\n",
    "        entrez_id.append(x)\n",
    "    except:\n",
    "        if g.split(\":\")[2] == \"drugbank\":\n",
    "            drugbank_id.append(g.split(\":\")[3])\n",
    "        elif \";\" in g.split(\":\")[2]:\n",
    "            entrez_id.extend([int(i) for i in g.split(\":\")[2].split(';')])\n",
    "        elif len(g.split(\":\")[2]) != 0 and g.split(\":\")[2][0] == \"N\":\n",
    "            other_id.append(g.split(\":\")[2])"
   ]
  },
  {
   "cell_type": "code",
   "execution_count": null,
   "metadata": {
    "colab": {
     "base_uri": "https://localhost:8080/"
    },
    "id": "PpptQO91eG1v",
    "outputId": "ed29508b-0c0f-44f8-c8f5-149a3c1245d1"
   },
   "outputs": [
    {
     "name": "stderr",
     "output_type": "stream",
     "text": [
      "100%|██████████| 4/4 [00:51<00:00, 12.78s/it]\n"
     ]
    }
   ],
   "source": [
    "from Bio import Entrez\n",
    "Entrez.email = 'A.N.Other@example.com'\n",
    "\n",
    "def get_gene_summary(gene_id):\n",
    "    \"\"\"Gets the summary for a given gene ID from NCBI's Entrez database.\n",
    "\n",
    "    Args:\n",
    "        gene_id: The ID of the gene to get the summary for.\n",
    "\n",
    "    Returns:\n",
    "        A string containing the summary for the gene.\n",
    "    \"\"\"\n",
    "    handle = Entrez.esummary(db=\"gene\", id=gene_id)\n",
    "    result = Entrez.read(handle, validate=False)\n",
    "    return result\n",
    "\n",
    "chunk_rate = 9950\n",
    "with open(\"../data/semi_structured/entrez_gene_description.txt\", \"a\") as f:\n",
    "    for i in tqdm(range(0, len(entrez_id), chunk_rate)):\n",
    "        gene_ids = entrez_id[i:i+chunk_rate]\n",
    "        data = get_gene_summary(gene_ids)\n",
    "        summary = data['DocumentSummarySet']['DocumentSummary']\n",
    "        for idx in range(len(summary)):\n",
    "            f.write(f\"Entrez ID: {gene_ids[idx]}\\n\")\n",
    "            if summary[idx]['Summary']:\n",
    "                f.write(f\"Summary: {summary[idx]['Summary']}\\n\")\n",
    "            if summary[idx]['Name']:\n",
    "                f.write(f\"Symbol: {summary[idx]['Name']}\\n\")\n",
    "            if summary[idx]['NomenclatureName']:\n",
    "                f.write(f\"Name: {summary[idx]['NomenclatureName']}\\n\")\n",
    "            if summary[idx]['OtherAliases']:\n",
    "                f.write(f\"Also known as: {summary[idx]['OtherAliases']}\\n\")\n",
    "            f.write(\"\\n\")"
   ]
  },
  {
   "cell_type": "markdown",
   "metadata": {
    "id": "EPpooo737tx2"
   },
   "source": [
    "### Disease"
   ]
  },
  {
   "cell_type": "code",
   "execution_count": null,
   "metadata": {
    "colab": {
     "base_uri": "https://localhost:8080/",
     "height": 331
    },
    "id": "61pnim448n0j",
    "outputId": "7bf986ec-2c00-45f7-ac93-6c7a2caff1b2"
   },
   "outputs": [
    {
     "name": "stdout",
     "output_type": "stream",
     "text": [
      "b'1: cannot get document summary\\n'\n"
     ]
    },
    {
     "ename": "ParseError",
     "evalue": "ignored",
     "output_type": "error",
     "traceback": [
      "Traceback \u001b[0;36m(most recent call last)\u001b[0m:\n",
      "  File \u001b[1;32m\"/usr/local/lib/python3.10/dist-packages/IPython/core/interactiveshell.py\"\u001b[0m, line \u001b[1;32m3553\u001b[0m, in \u001b[1;35mrun_code\u001b[0m\n    exec(code_obj, self.user_global_ns, self.user_ns)\n",
      "  File \u001b[1;32m\"<ipython-input-121-38445d719330>\"\u001b[0m, line \u001b[1;32m17\u001b[0m, in \u001b[1;35m<cell line: 15>\u001b[0m\n    root = ET.fromstring(response.content)\n",
      "\u001b[0;36m  File \u001b[0;32m\"/usr/lib/python3.10/xml/etree/ElementTree.py\"\u001b[0;36m, line \u001b[0;32m1342\u001b[0;36m, in \u001b[0;35mXML\u001b[0;36m\u001b[0m\n\u001b[0;31m    parser.feed(text)\u001b[0m\n",
      "\u001b[0;36m  File \u001b[0;32m\"<string>\"\u001b[0;36m, line \u001b[0;32munknown\u001b[0m\n\u001b[0;31mParseError\u001b[0m\u001b[0;31m:\u001b[0m syntax error: line 1, column 0\n"
     ]
    }
   ],
   "source": [
    "import requests\n",
    "import xml.etree.ElementTree as ET\n",
    "\n",
    "# MeSH term unique identifier\n",
    "mesh_id = 'D014138'  # Example ID\n",
    "\n",
    "# E-Utilities URL for fetching MeSH term data\n",
    "url = f'https://eutils.ncbi.nlm.nih.gov/entrez/eutils/efetch.fcgi?db=mesh&id={mesh_id}&retmode=xml'\n",
    "\n",
    "# Making the request\n",
    "response = requests.get(url)\n",
    "\n",
    "# Check if the request was successful\n",
    "print(response.content)\n",
    "if response.status_code == 200:\n",
    "    # Parsing the XML response\n",
    "    root = ET.fromstring(response.content)\n",
    "\n",
    "    # Process the XML to extract necessary information\n",
    "    # This part depends on the structure of the MeSH XML data\n",
    "    # Example: print the whole XML response\n",
    "    print(ET.tostring(root, encoding='utf-8').decode())\n",
    "else:\n",
    "    print(\"Failed to retrieve data:\", response.status_code)\n"
   ]
  },
  {
   "cell_type": "code",
   "execution_count": null,
   "metadata": {
    "id": "_EyVGcni8uaj"
   },
   "outputs": [],
   "source": [
    "# Making the request\n",
    "response = requests.get(url)\n",
    "\n",
    "# Check if the request was successful\n",
    "if response.status_code == 200:\n",
    "    # Parsing the XML response\n",
    "    root = ET.fromstring(response.content)\n",
    "\n",
    "    # Process the XML to extract necessary information\n",
    "    # This part depends on the structure of the MeSH XML data\n",
    "    # Example: print the whole XML response\n",
    "    print(ET.tostring(root, encoding='utf-8').decode())\n",
    "else:\n",
    "    print(\"Failed to retrieve data:\", response.status_code)\n"
   ]
  },
  {
   "cell_type": "code",
   "execution_count": null,
   "metadata": {
    "colab": {
     "base_uri": "https://localhost:8080/"
    },
    "id": "RsRn_5x-8wol",
    "outputId": "b5545753-d0dc-4de7-b33e-9d49116b9f46"
   },
   "outputs": [
    {
     "data": {
      "text/plain": [
       "b'1: cannot get document summary\\n'"
      ]
     },
     "execution_count": 116,
     "metadata": {},
     "output_type": "execute_result"
    }
   ],
   "source": [
    "response.content"
   ]
  },
  {
   "cell_type": "code",
   "execution_count": null,
   "metadata": {
    "colab": {
     "base_uri": "https://localhost:8080/",
     "height": 313
    },
    "id": "ix_O2cjB8yRe",
    "outputId": "acce175a-4c12-44d0-8011-f0109e423460"
   },
   "outputs": [
    {
     "ename": "ParseError",
     "evalue": "ignored",
     "output_type": "error",
     "traceback": [
      "Traceback \u001b[0;36m(most recent call last)\u001b[0m:\n",
      "  File \u001b[1;32m\"/usr/local/lib/python3.10/dist-packages/IPython/core/interactiveshell.py\"\u001b[0m, line \u001b[1;32m3553\u001b[0m, in \u001b[1;35mrun_code\u001b[0m\n    exec(code_obj, self.user_global_ns, self.user_ns)\n",
      "  File \u001b[1;32m\"<ipython-input-118-6ee7e7d84aac>\"\u001b[0m, line \u001b[1;32m4\u001b[0m, in \u001b[1;35m<cell line: 2>\u001b[0m\n    root = ET.fromstring(response.content)\n",
      "\u001b[0;36m  File \u001b[0;32m\"/usr/lib/python3.10/xml/etree/ElementTree.py\"\u001b[0;36m, line \u001b[0;32m1342\u001b[0;36m, in \u001b[0;35mXML\u001b[0;36m\u001b[0m\n\u001b[0;31m    parser.feed(text)\u001b[0m\n",
      "\u001b[0;36m  File \u001b[0;32m\"<string>\"\u001b[0;36m, line \u001b[0;32munknown\u001b[0m\n\u001b[0;31mParseError\u001b[0m\u001b[0;31m:\u001b[0m syntax error: line 1, column 0\n"
     ]
    }
   ],
   "source": [
    "\n",
    "# Check if the request was successful\n",
    "if response.status_code == 200:\n",
    "    # Parsing the XML response\n",
    "    root = ET.fromstring(response.content)\n",
    "    print(root)\n",
    "\n",
    "    # Process the XML to extract necessary information\n",
    "    # This part depends on the structure of the MeSH XML data\n",
    "    # Example: print the whole XML response\n",
    "#     print(ET.tostring(root, encoding='utf-8').decode())\n",
    "# else:\n",
    "#     print(\"Failed to retrieve data:\", response.status_code)\n"
   ]
  },
  {
   "cell_type": "code",
   "execution_count": null,
   "metadata": {
    "colab": {
     "base_uri": "https://localhost:8080/"
    },
    "id": "g4F5K0_u-uTs",
    "outputId": "1d2b2ec2-a681-4471-f50e-b93da0942d76"
   },
   "outputs": [
    {
     "name": "stdout",
     "output_type": "stream",
     "text": [
      "Failed to retrieve data: 404\n"
     ]
    }
   ],
   "source": [
    "import requests\n",
    "\n",
    "# Disease Ontology ID\n",
    "api_key = 'c9ac5621-48d4-4fbc-a4e1-0e143f272ee2'\n",
    "doid = 'DOID:13223'\n",
    "\n",
    "# BioPortal API endpoint for fetching disease information\n",
    "# Note: You may need an API key for extensive use\n",
    "url = f'http://data.bioontology.org/ontologies/DOID/classes/http%3A%2F%2Fpurl.obolibrary.org%2Fobo%2F{doid}?apikey={api_key}'\n",
    "\n",
    "# Making the request\n",
    "response = requests.get(url, headers={'Accept': 'application/json'})\n",
    "\n",
    "# Check if the request was successful\n",
    "if response.status_code == 200:\n",
    "    # Parsing the JSON response\n",
    "    disease_data = response.json()\n",
    "    # Process and print the data\n",
    "    print(disease_data)\n",
    "else:\n",
    "    print(\"Failed to retrieve data:\", response.status_code)\n"
   ]
  },
  {
   "cell_type": "code",
   "execution_count": null,
   "metadata": {
    "colab": {
     "base_uri": "https://localhost:8080/"
    },
    "id": "On5WH29n7vGW",
    "outputId": "8768e4ed-4447-4061-830a-9b8f863dc15c"
   },
   "outputs": [
    {
     "name": "stdout",
     "output_type": "stream",
     "text": [
      "Disease::DOID:1595\n",
      "Disease::DOID:11476\n",
      "Disease::DOID:8398\n",
      "Disease::DOID:10534\n",
      "Disease::DOID:11949\n",
      "Disease::OMIM:155310\n",
      "Disease::DOID:2377\n",
      "Disease::DOID:8778\n",
      "Disease::OMIM:181800\n",
      "Disease::DOID:594\n",
      "Disease::OMIM:143470\n",
      "Disease::OMIM:188890\n",
      "Disease::OMIM:141500\n",
      "Disease::OMIM:132100\n",
      "Disease::DOID:10976\n",
      "Disease::OMIM:217000\n",
      "Disease::OMIM:193235\n",
      "Disease::OMIM:301050\n",
      "Disease::DOID:3312\n",
      "Disease::OMIM:142700\n",
      "Disease::DOID:0060119\n",
      "Disease::DOID:5559\n",
      "Disease::DOID:8577\n",
      "Disease::OMIM:167959\n",
      "Disease::DOID:7147\n",
      "Disease::DOID:263\n",
      "Disease::DOID:13499\n",
      "Disease::OMIM:612348\n",
      "Disease::DOID:1312\n",
      "Disease::OMIM:233300\n",
      "Disease::OMIM:120970\n",
      "Disease::DOID:0050742\n",
      "Disease::DOID:4989\n",
      "Disease::DOID:1781\n",
      "Disease::OMIM:150800\n",
      "Disease::DOID:14268\n",
      "Disease::DOID:0060073\n",
      "Disease::OMIM:191900\n",
      "Disease::OMIM:258660\n",
      "Disease::DOID:1826\n",
      "Disease::DOID:11119\n",
      "Disease::DOID:11612\n",
      "Disease::DOID:0050156\n",
      "Disease::DOID:1725\n",
      "Disease::OMIM:168600\n",
      "Disease::DOID:10608\n",
      "Disease::DOID:5099\n",
      "Disease::OMIM:609165\n",
      "Disease::OMIM:252500\n",
      "Disease::OMIM:135300\n",
      "Disease::DOID:3310\n",
      "Disease::OMIM:162000\n",
      "Disease::OMIM:211750\n",
      "Disease::OMIM:275120\n",
      "Disease::DOID:1936\n",
      "Disease::DOID:363\n",
      "Disease::OMIM:157700\n",
      "Disease::OMIM:611809\n",
      "Disease::OMIM:277000\n",
      "Disease::OMIM:121700\n",
      "Disease::DOID:10153\n",
      "Disease::DOID:1024\n",
      "Disease::OMIM:613729\n",
      "Disease::DOID:6364\n",
      "Disease::DOID:9008\n",
      "Disease::OMIM:143890\n",
      "Disease::DOID:1319\n",
      "Disease::DOID:12930\n",
      "Disease::OMIM:613207\n",
      "Disease::OMIM:302045\n",
      "Disease::OMIM:157600\n",
      "Disease::DOID:9970\n",
      "Disease::DOID:3277\n",
      "Disease::OMIM:606035\n",
      "Disease::DOID:2994\n",
      "Disease::OMIM:151900\n",
      "Disease::DOID:11819\n",
      "Disease::OMIM:215150\n",
      "Disease::DOID:1094\n",
      "Disease::DOID:1612\n",
      "Disease::OMIM:165800\n",
      "Disease::DOID:10941\n",
      "Disease::OMIM:311250\n",
      "Disease::OMIM:610251\n",
      "Disease::DOID:986\n",
      "Disease::OMIM:605376\n",
      "Disease::OMIM:603663\n",
      "Disease::DOID:1686\n",
      "Disease::DOID:3070\n",
      "Disease::OMIM:203700\n",
      "Disease::DOID:1964\n",
      "Disease::DOID:2174\n",
      "Disease::DOID:10652\n",
      "Disease::DOID:8986\n",
      "Disease::DOID:635\n",
      "Disease::DOID:1245\n",
      "Disease::DOID:4045\n",
      "Disease::OMIM:303800\n",
      "Disease::DOID:1790\n",
      "Disease::DOID:9074\n",
      "Disease::OMIM:612551\n",
      "Disease::DOID:332\n",
      "Disease::DOID:11934\n",
      "Disease::OMIM:256600\n",
      "Disease::DOID:10871\n",
      "Disease::OMIM:604273\n",
      "Disease::DOID:11615\n",
      "Disease::OMIM:138800\n",
      "Disease::DOID:9835\n",
      "Disease::DOID:784\n",
      "Disease::DOID:1459\n",
      "Disease::OMIM:602081\n",
      "Disease::DOID:5041\n",
      "Disease::OMIM:600791\n",
      "Disease::DOID:10811\n",
      "Disease::OMIM:300082\n",
      "Disease::OMIM:123320\n",
      "Disease::DOID:1793\n",
      "Disease::OMIM:113900\n",
      "Disease::DOID:5875\n",
      "Disease::DOID:3083\n",
      "Disease::DOID:10283\n",
      "Disease::OMIM:115650\n",
      "Disease::DOID:184\n",
      "Disease::DOID:12365\n",
      "Disease::OMIM:102530\n",
      "Disease::DOID:14330\n",
      "Disease::OMIM:277580\n",
      "Disease::OMIM:184460\n",
      "Disease::DOID:9206\n",
      "Disease::DOID:13378\n",
      "Disease::DOID:1324\n",
      "Disease::OMIM:108420\n",
      "Disease::DOID:219\n",
      "Disease::DOID:1909\n",
      "Disease::DOID:2043\n",
      "Disease::OMIM:255310\n",
      "Disease::DOID:4362\n",
      "Disease::DOID:5612\n",
      "Disease::DOID:7148\n",
      "Disease::OMIM:613091\n",
      "Disease::OMIM:171200\n",
      "Disease::DOID:585\n",
      "Disease::DOID:90\n",
      "Disease::DOID:14221\n",
      "Disease::DOID:5419\n",
      "Disease::OMIM:613290\n",
      "Disease::OMIM:601696\n",
      "Disease::DOID:4159\n",
      "Disease::DOID:13223\n",
      "Disease::OMIM:612862\n",
      "Disease::DOID:2596\n",
      "Disease::OMIM:604391\n",
      "Disease::DOID:12306\n",
      "Disease::OMIM:270100\n",
      "Disease::DOID:12849\n",
      "Disease::DOID:0050425\n",
      "Disease::OMIM:612852\n",
      "Disease::DOID:8850\n",
      "Disease::DOID:7693\n",
      "Disease::DOID:10021\n",
      "Disease::DOID:1115\n",
      "Disease::DOID:5408\n",
      "Disease::DOID:1993\n",
      "Disease::DOID:12995\n",
      "Disease::DOID:3121\n",
      "Disease::DOID:12185\n",
      "Disease::DOID:3571\n",
      "Disease::DOID:2841\n",
      "Disease::OMIM:604588\n",
      "Disease::DOID:4481\n",
      "Disease::OMIM:102510\n",
      "Disease::DOID:12236\n",
      "Disease::DOID:14227\n",
      "Disease::DOID:9744\n",
      "Disease::OMIM:277300\n",
      "Disease::DOID:12361\n",
      "Disease::DOID:2531\n",
      "Disease::OMIM:613508\n",
      "Disease::DOID:11054\n",
      "Disease::OMIM:166260\n",
      "Disease::DOID:824\n",
      "Disease::DOID:10763\n",
      "Disease::DOID:0050741\n",
      "Disease::DOID:175\n",
      "Disease::OMIM:601308\n",
      "Disease::DOID:14004\n",
      "Disease::OMIM:180500\n",
      "Disease::DOID:3565\n",
      "Disease::DOID:119\n",
      "Disease::DOID:9352\n",
      "Disease::DOID:1192\n",
      "Disease::DOID:3393\n",
      "Disease::OMIM:613724\n",
      "Disease::DOID:11920\n",
      "Disease::DOID:11714\n",
      "Disease::DOID:13189\n",
      "Disease::DOID:418\n",
      "Disease::DOID:2998\n",
      "Disease::DOID:8893\n",
      "Disease::OMIM:300049\n",
      "Disease::OMIM:155600\n",
      "Disease::OMIM:143095\n",
      "Disease::DOID:2394\n",
      "Disease::OMIM:160800\n"
     ]
    }
   ],
   "source": [
    "set([d.split(\":\")[2] for d in diseases])\n",
    "\n",
    "for d in diseases:\n",
    "    if \"MESH\" not in d and \"SARS\" not in d:\n",
    "        print(d)"
   ]
  }
 ],
 "metadata": {
  "anaconda-cloud": {},
  "colab": {
   "provenance": []
  },
  "kernelspec": {
   "display_name": "Python 3 (ipykernel)",
   "language": "python",
   "name": "python3"
  },
  "language_info": {
   "codemirror_mode": {
    "name": "ipython",
    "version": 3
   },
   "file_extension": ".py",
   "mimetype": "text/x-python",
   "name": "python",
   "nbconvert_exporter": "python",
   "pygments_lexer": "ipython3",
   "version": "3.11.4"
  }
 },
 "nbformat": 4,
 "nbformat_minor": 1
}
