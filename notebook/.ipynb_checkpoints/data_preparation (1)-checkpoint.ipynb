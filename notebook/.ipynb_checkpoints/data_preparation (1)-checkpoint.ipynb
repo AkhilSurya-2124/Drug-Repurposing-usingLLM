{
 "cells": [
  {
   "cell_type": "code",
   "execution_count": 1,
   "id": "9c3819d5-83c8-4962-8a39-0d6098cb6cc8",
   "metadata": {
    "tags": []
   },
   "outputs": [],
   "source": [
    "#we should transform the data to make it suitable to our model\n",
    "#selecting a few types of triplets (documents/relations) and make questions out of them"
   ]
  },
  {
   "cell_type": "code",
   "execution_count": 2,
   "id": "41702508-a231-4ea8-8436-90e8ee2dc402",
   "metadata": {
    "tags": []
   },
   "outputs": [],
   "source": [
    "import pandas as pd"
   ]
  },
  {
   "cell_type": "code",
   "execution_count": 3,
   "id": "26740359-26d9-432a-983a-494066e27105",
   "metadata": {
    "tags": []
   },
   "outputs": [
    {
     "name": "stdout",
     "output_type": "stream",
     "text": [
      "(5874261, 3)\n"
     ]
    },
    {
     "data": {
      "text/html": [
       "<div>\n",
       "<style scoped>\n",
       "    .dataframe tbody tr th:only-of-type {\n",
       "        vertical-align: middle;\n",
       "    }\n",
       "\n",
       "    .dataframe tbody tr th {\n",
       "        vertical-align: top;\n",
       "    }\n",
       "\n",
       "    .dataframe thead th {\n",
       "        text-align: right;\n",
       "    }\n",
       "</style>\n",
       "<table border=\"1\" class=\"dataframe\">\n",
       "  <thead>\n",
       "    <tr style=\"text-align: right;\">\n",
       "      <th></th>\n",
       "      <th>e1</th>\n",
       "      <th>relation</th>\n",
       "      <th>e2</th>\n",
       "    </tr>\n",
       "  </thead>\n",
       "  <tbody>\n",
       "    <tr>\n",
       "      <th>0</th>\n",
       "      <td>Gene::2157</td>\n",
       "      <td>bioarx::HumGenHumGen:Gene:Gene</td>\n",
       "      <td>Gene::2157</td>\n",
       "    </tr>\n",
       "    <tr>\n",
       "      <th>1</th>\n",
       "      <td>Gene::2157</td>\n",
       "      <td>bioarx::HumGenHumGen:Gene:Gene</td>\n",
       "      <td>Gene::5264</td>\n",
       "    </tr>\n",
       "    <tr>\n",
       "      <th>2</th>\n",
       "      <td>Gene::2157</td>\n",
       "      <td>bioarx::HumGenHumGen:Gene:Gene</td>\n",
       "      <td>Gene::2158</td>\n",
       "    </tr>\n",
       "    <tr>\n",
       "      <th>3</th>\n",
       "      <td>Gene::2157</td>\n",
       "      <td>bioarx::HumGenHumGen:Gene:Gene</td>\n",
       "      <td>Gene::3309</td>\n",
       "    </tr>\n",
       "    <tr>\n",
       "      <th>4</th>\n",
       "      <td>Gene::2157</td>\n",
       "      <td>bioarx::HumGenHumGen:Gene:Gene</td>\n",
       "      <td>Gene::28912</td>\n",
       "    </tr>\n",
       "  </tbody>\n",
       "</table>\n",
       "</div>"
      ],
      "text/plain": [
       "           e1                        relation           e2\n",
       "0  Gene::2157  bioarx::HumGenHumGen:Gene:Gene   Gene::2157\n",
       "1  Gene::2157  bioarx::HumGenHumGen:Gene:Gene   Gene::5264\n",
       "2  Gene::2157  bioarx::HumGenHumGen:Gene:Gene   Gene::2158\n",
       "3  Gene::2157  bioarx::HumGenHumGen:Gene:Gene   Gene::3309\n",
       "4  Gene::2157  bioarx::HumGenHumGen:Gene:Gene  Gene::28912"
      ]
     },
     "execution_count": 3,
     "metadata": {},
     "output_type": "execute_result"
    }
   ],
   "source": [
    "dr = pd.read_csv('drkg1.tsv')\n",
    "print(dr.shape)\n",
    "dr.head()"
   ]
  },
  {
   "cell_type": "code",
   "execution_count": 4,
   "id": "2f886826-0d16-43a5-93dd-bee8f3b9cb03",
   "metadata": {
    "tags": []
   },
   "outputs": [
    {
     "data": {
      "text/html": [
       "<div>\n",
       "<style scoped>\n",
       "    .dataframe tbody tr th:only-of-type {\n",
       "        vertical-align: middle;\n",
       "    }\n",
       "\n",
       "    .dataframe tbody tr th {\n",
       "        vertical-align: top;\n",
       "    }\n",
       "\n",
       "    .dataframe thead th {\n",
       "        text-align: right;\n",
       "    }\n",
       "</style>\n",
       "<table border=\"1\" class=\"dataframe\">\n",
       "  <thead>\n",
       "    <tr style=\"text-align: right;\">\n",
       "      <th></th>\n",
       "      <th>e1</th>\n",
       "      <th>relation</th>\n",
       "      <th>e2</th>\n",
       "    </tr>\n",
       "  </thead>\n",
       "  <tbody>\n",
       "    <tr>\n",
       "      <th>0</th>\n",
       "      <td>gene::2157</td>\n",
       "      <td>bioarx::humgenhumgen:gene:gene</td>\n",
       "      <td>gene::2157</td>\n",
       "    </tr>\n",
       "    <tr>\n",
       "      <th>1</th>\n",
       "      <td>gene::2157</td>\n",
       "      <td>bioarx::humgenhumgen:gene:gene</td>\n",
       "      <td>gene::5264</td>\n",
       "    </tr>\n",
       "    <tr>\n",
       "      <th>2</th>\n",
       "      <td>gene::2157</td>\n",
       "      <td>bioarx::humgenhumgen:gene:gene</td>\n",
       "      <td>gene::2158</td>\n",
       "    </tr>\n",
       "    <tr>\n",
       "      <th>3</th>\n",
       "      <td>gene::2157</td>\n",
       "      <td>bioarx::humgenhumgen:gene:gene</td>\n",
       "      <td>gene::3309</td>\n",
       "    </tr>\n",
       "    <tr>\n",
       "      <th>4</th>\n",
       "      <td>gene::2157</td>\n",
       "      <td>bioarx::humgenhumgen:gene:gene</td>\n",
       "      <td>gene::28912</td>\n",
       "    </tr>\n",
       "  </tbody>\n",
       "</table>\n",
       "</div>"
      ],
      "text/plain": [
       "           e1                        relation           e2\n",
       "0  gene::2157  bioarx::humgenhumgen:gene:gene   gene::2157\n",
       "1  gene::2157  bioarx::humgenhumgen:gene:gene   gene::5264\n",
       "2  gene::2157  bioarx::humgenhumgen:gene:gene   gene::2158\n",
       "3  gene::2157  bioarx::humgenhumgen:gene:gene   gene::3309\n",
       "4  gene::2157  bioarx::humgenhumgen:gene:gene  gene::28912"
      ]
     },
     "execution_count": 4,
     "metadata": {},
     "output_type": "execute_result"
    }
   ],
   "source": [
    "#exploring the dataset\n",
    "for i in dr.columns:\n",
    "    dr[i] = dr[i].apply(str.lower)\n",
    "# dr.relation = dr.relation.apply(str.lower)\n",
    "dr.head()"
   ]
  },
  {
   "cell_type": "code",
   "execution_count": 5,
   "id": "01c8d42d-5782-4c53-9305-baf97f6bb94c",
   "metadata": {
    "tags": []
   },
   "outputs": [
    {
     "data": {
      "text/html": [
       "<div>\n",
       "<style scoped>\n",
       "    .dataframe tbody tr th:only-of-type {\n",
       "        vertical-align: middle;\n",
       "    }\n",
       "\n",
       "    .dataframe tbody tr th {\n",
       "        vertical-align: top;\n",
       "    }\n",
       "\n",
       "    .dataframe thead th {\n",
       "        text-align: right;\n",
       "    }\n",
       "</style>\n",
       "<table border=\"1\" class=\"dataframe\">\n",
       "  <thead>\n",
       "    <tr style=\"text-align: right;\">\n",
       "      <th></th>\n",
       "      <th>e1</th>\n",
       "      <th>relation</th>\n",
       "      <th>e2</th>\n",
       "    </tr>\n",
       "  </thead>\n",
       "  <tbody>\n",
       "    <tr>\n",
       "      <th>3456051</th>\n",
       "      <td>compound::db00448</td>\n",
       "      <td>hetionet::ccse::compound:side effect</td>\n",
       "      <td>side effect::c0032584</td>\n",
       "    </tr>\n",
       "    <tr>\n",
       "      <th>3456052</th>\n",
       "      <td>compound::db00575</td>\n",
       "      <td>hetionet::ccse::compound:side effect</td>\n",
       "      <td>side effect::c0424024</td>\n",
       "    </tr>\n",
       "    <tr>\n",
       "      <th>3456053</th>\n",
       "      <td>compound::db00734</td>\n",
       "      <td>hetionet::ccse::compound:side effect</td>\n",
       "      <td>side effect::c0235309</td>\n",
       "    </tr>\n",
       "    <tr>\n",
       "      <th>3456054</th>\n",
       "      <td>compound::db06817</td>\n",
       "      <td>hetionet::ccse::compound:side effect</td>\n",
       "      <td>side effect::c0014724</td>\n",
       "    </tr>\n",
       "    <tr>\n",
       "      <th>3456055</th>\n",
       "      <td>compound::db00448</td>\n",
       "      <td>hetionet::ccse::compound:side effect</td>\n",
       "      <td>side effect::c0001824</td>\n",
       "    </tr>\n",
       "    <tr>\n",
       "      <th>...</th>\n",
       "      <td>...</td>\n",
       "      <td>...</td>\n",
       "      <td>...</td>\n",
       "    </tr>\n",
       "    <tr>\n",
       "      <th>3594990</th>\n",
       "      <td>compound::db00706</td>\n",
       "      <td>hetionet::ccse::compound:side effect</td>\n",
       "      <td>side effect::c0008031</td>\n",
       "    </tr>\n",
       "    <tr>\n",
       "      <th>3594991</th>\n",
       "      <td>compound::db00551</td>\n",
       "      <td>hetionet::ccse::compound:side effect</td>\n",
       "      <td>side effect::c0231218</td>\n",
       "    </tr>\n",
       "    <tr>\n",
       "      <th>3594992</th>\n",
       "      <td>compound::db00814</td>\n",
       "      <td>hetionet::ccse::compound:side effect</td>\n",
       "      <td>side effect::c0853760</td>\n",
       "    </tr>\n",
       "    <tr>\n",
       "      <th>3594993</th>\n",
       "      <td>compound::db01037</td>\n",
       "      <td>hetionet::ccse::compound:side effect</td>\n",
       "      <td>side effect::c0008489</td>\n",
       "    </tr>\n",
       "    <tr>\n",
       "      <th>3594994</th>\n",
       "      <td>compound::db00555</td>\n",
       "      <td>hetionet::ccse::compound:side effect</td>\n",
       "      <td>side effect::c0032617</td>\n",
       "    </tr>\n",
       "  </tbody>\n",
       "</table>\n",
       "<p>138944 rows × 3 columns</p>\n",
       "</div>"
      ],
      "text/plain": [
       "                        e1                              relation  \\\n",
       "3456051  compound::db00448  hetionet::ccse::compound:side effect   \n",
       "3456052  compound::db00575  hetionet::ccse::compound:side effect   \n",
       "3456053  compound::db00734  hetionet::ccse::compound:side effect   \n",
       "3456054  compound::db06817  hetionet::ccse::compound:side effect   \n",
       "3456055  compound::db00448  hetionet::ccse::compound:side effect   \n",
       "...                    ...                                   ...   \n",
       "3594990  compound::db00706  hetionet::ccse::compound:side effect   \n",
       "3594991  compound::db00551  hetionet::ccse::compound:side effect   \n",
       "3594992  compound::db00814  hetionet::ccse::compound:side effect   \n",
       "3594993  compound::db01037  hetionet::ccse::compound:side effect   \n",
       "3594994  compound::db00555  hetionet::ccse::compound:side effect   \n",
       "\n",
       "                            e2  \n",
       "3456051  side effect::c0032584  \n",
       "3456052  side effect::c0424024  \n",
       "3456053  side effect::c0235309  \n",
       "3456054  side effect::c0014724  \n",
       "3456055  side effect::c0001824  \n",
       "...                        ...  \n",
       "3594990  side effect::c0008031  \n",
       "3594991  side effect::c0231218  \n",
       "3594992  side effect::c0853760  \n",
       "3594993  side effect::c0008489  \n",
       "3594994  side effect::c0032617  \n",
       "\n",
       "[138944 rows x 3 columns]"
      ]
     },
     "execution_count": 5,
     "metadata": {},
     "output_type": "execute_result"
    }
   ],
   "source": [
    "dr[dr.relation.str.contains('hetionet::ccse::compound:side effect')]"
   ]
  },
  {
   "cell_type": "code",
   "execution_count": 6,
   "id": "5901fc91-3720-40c6-bbde-1974b92d1e94",
   "metadata": {
    "tags": []
   },
   "outputs": [
    {
     "data": {
      "text/html": [
       "<div>\n",
       "<style scoped>\n",
       "    .dataframe tbody tr th:only-of-type {\n",
       "        vertical-align: middle;\n",
       "    }\n",
       "\n",
       "    .dataframe tbody tr th {\n",
       "        vertical-align: top;\n",
       "    }\n",
       "\n",
       "    .dataframe thead th {\n",
       "        text-align: right;\n",
       "    }\n",
       "</style>\n",
       "<table border=\"1\" class=\"dataframe\">\n",
       "  <thead>\n",
       "    <tr style=\"text-align: right;\">\n",
       "      <th></th>\n",
       "      <th>e1</th>\n",
       "      <th>relation</th>\n",
       "      <th>e2</th>\n",
       "    </tr>\n",
       "  </thead>\n",
       "  <tbody>\n",
       "    <tr>\n",
       "      <th>428532</th>\n",
       "      <td>compound::db00448</td>\n",
       "      <td>drugbank::x-atc::compound:atc</td>\n",
       "      <td>atc::a02bc03</td>\n",
       "    </tr>\n",
       "    <tr>\n",
       "      <th>428533</th>\n",
       "      <td>compound::db00448</td>\n",
       "      <td>drugbank::ddi-interactor-in::compound:compound</td>\n",
       "      <td>compound::db01238</td>\n",
       "    </tr>\n",
       "    <tr>\n",
       "      <th>428534</th>\n",
       "      <td>compound::db00448</td>\n",
       "      <td>drugbank::ddi-interactor-in::compound:compound</td>\n",
       "      <td>compound::db14185</td>\n",
       "    </tr>\n",
       "    <tr>\n",
       "      <th>428535</th>\n",
       "      <td>compound::db00448</td>\n",
       "      <td>drugbank::ddi-interactor-in::compound:compound</td>\n",
       "      <td>compound::db04908</td>\n",
       "    </tr>\n",
       "    <tr>\n",
       "      <th>428536</th>\n",
       "      <td>compound::db00448</td>\n",
       "      <td>drugbank::ddi-interactor-in::compound:compound</td>\n",
       "      <td>compound::db08912</td>\n",
       "    </tr>\n",
       "    <tr>\n",
       "      <th>...</th>\n",
       "      <td>...</td>\n",
       "      <td>...</td>\n",
       "      <td>...</td>\n",
       "    </tr>\n",
       "    <tr>\n",
       "      <th>3593518</th>\n",
       "      <td>compound::db00448</td>\n",
       "      <td>hetionet::ccse::compound:side effect</td>\n",
       "      <td>side effect::c0424295</td>\n",
       "    </tr>\n",
       "    <tr>\n",
       "      <th>3593522</th>\n",
       "      <td>compound::db00448</td>\n",
       "      <td>hetionet::ccse::compound:side effect</td>\n",
       "      <td>side effect::c0042401</td>\n",
       "    </tr>\n",
       "    <tr>\n",
       "      <th>3593654</th>\n",
       "      <td>compound::db00448</td>\n",
       "      <td>hetionet::ccse::compound:side effect</td>\n",
       "      <td>side effect::c0003123</td>\n",
       "    </tr>\n",
       "    <tr>\n",
       "      <th>3594306</th>\n",
       "      <td>compound::db00448</td>\n",
       "      <td>hetionet::ccse::compound:side effect</td>\n",
       "      <td>side effect::c0000731</td>\n",
       "    </tr>\n",
       "    <tr>\n",
       "      <th>3594370</th>\n",
       "      <td>compound::db00448</td>\n",
       "      <td>hetionet::ccse::compound:side effect</td>\n",
       "      <td>side effect::c0019360</td>\n",
       "    </tr>\n",
       "  </tbody>\n",
       "</table>\n",
       "<p>1401 rows × 3 columns</p>\n",
       "</div>"
      ],
      "text/plain": [
       "                        e1                                        relation  \\\n",
       "428532   compound::db00448                   drugbank::x-atc::compound:atc   \n",
       "428533   compound::db00448  drugbank::ddi-interactor-in::compound:compound   \n",
       "428534   compound::db00448  drugbank::ddi-interactor-in::compound:compound   \n",
       "428535   compound::db00448  drugbank::ddi-interactor-in::compound:compound   \n",
       "428536   compound::db00448  drugbank::ddi-interactor-in::compound:compound   \n",
       "...                    ...                                             ...   \n",
       "3593518  compound::db00448            hetionet::ccse::compound:side effect   \n",
       "3593522  compound::db00448            hetionet::ccse::compound:side effect   \n",
       "3593654  compound::db00448            hetionet::ccse::compound:side effect   \n",
       "3594306  compound::db00448            hetionet::ccse::compound:side effect   \n",
       "3594370  compound::db00448            hetionet::ccse::compound:side effect   \n",
       "\n",
       "                            e2  \n",
       "428532            atc::a02bc03  \n",
       "428533       compound::db01238  \n",
       "428534       compound::db14185  \n",
       "428535       compound::db04908  \n",
       "428536       compound::db08912  \n",
       "...                        ...  \n",
       "3593518  side effect::c0424295  \n",
       "3593522  side effect::c0042401  \n",
       "3593654  side effect::c0003123  \n",
       "3594306  side effect::c0000731  \n",
       "3594370  side effect::c0019360  \n",
       "\n",
       "[1401 rows x 3 columns]"
      ]
     },
     "execution_count": 6,
     "metadata": {},
     "output_type": "execute_result"
    }
   ],
   "source": [
    "dr.loc[dr.e1.str.contains('db00448'),:]"
   ]
  },
  {
   "cell_type": "code",
   "execution_count": 7,
   "id": "7927576c-92e8-4363-981d-e701c299b295",
   "metadata": {
    "tags": []
   },
   "outputs": [
    {
     "data": {
      "text/plain": [
       "e1                             compound::db00448\n",
       "relation    hetionet::ccse::compound:side effect\n",
       "e2                         side effect::c0032584\n",
       "Name: 3456051, dtype: object"
      ]
     },
     "execution_count": 7,
     "metadata": {},
     "output_type": "execute_result"
    }
   ],
   "source": [
    "dr.iloc[3456051,:]"
   ]
  },
  {
   "cell_type": "code",
   "execution_count": 8,
   "id": "1afdc504-a509-484a-a7ca-fa7ccaa1e221",
   "metadata": {
    "tags": []
   },
   "outputs": [],
   "source": [
    "hetio_bool = dr.relation.str.contains('hetionet')"
   ]
  },
  {
   "cell_type": "code",
   "execution_count": 9,
   "id": "b2e102ea-5a92-4da5-99b0-4790ee6118fd",
   "metadata": {
    "tags": []
   },
   "outputs": [
    {
     "data": {
      "text/plain": [
       "relation\n",
       "False    5735317\n",
       "True      138944\n",
       "Name: count, dtype: int64"
      ]
     },
     "execution_count": 9,
     "metadata": {},
     "output_type": "execute_result"
    }
   ],
   "source": [
    "side_eff_bool =hetio_bool & dr.relation.str.contains('side')\n",
    "side_eff_bool.value_counts()"
   ]
  },
  {
   "cell_type": "code",
   "execution_count": 10,
   "id": "e882c9f4-7c32-4595-9746-3e87eae18290",
   "metadata": {
    "tags": []
   },
   "outputs": [
    {
     "data": {
      "text/plain": [
       "relation\n",
       "hetionet::ccse::compound:side effect    138944\n",
       "Name: count, dtype: int64"
      ]
     },
     "execution_count": 10,
     "metadata": {},
     "output_type": "execute_result"
    }
   ],
   "source": [
    "dr.relation[side_eff_bool].value_counts()"
   ]
  },
  {
   "cell_type": "code",
   "execution_count": 11,
   "id": "7a78ef2e-71e1-4cc3-ba67-338abf1567f2",
   "metadata": {
    "tags": []
   },
   "outputs": [
    {
     "data": {
      "text/plain": [
       "relation\n",
       "False    5867775\n",
       "True        6486\n",
       "Name: count, dtype: int64"
      ]
     },
     "execution_count": 11,
     "metadata": {},
     "output_type": "execute_result"
    }
   ],
   "source": [
    "comp_comp_bool=hetio_bool & dr.relation.str.contains('compound:compound')\n",
    "comp_comp_bool.value_counts()"
   ]
  },
  {
   "cell_type": "code",
   "execution_count": 12,
   "id": "efc83601-6204-48b1-a801-d72a87298845",
   "metadata": {
    "tags": []
   },
   "outputs": [
    {
     "data": {
      "text/plain": [
       "(145430, 3)"
      ]
     },
     "execution_count": 12,
     "metadata": {},
     "output_type": "execute_result"
    }
   ],
   "source": [
    "dr_f_bool = comp_comp_bool + side_eff_bool\n",
    "dr_f = dr[dr_f_bool]\n",
    "dr_f.shape"
   ]
  },
  {
   "cell_type": "code",
   "execution_count": 15,
   "id": "80eda819-eae5-41a5-8321-763f196c3f18",
   "metadata": {
    "tags": []
   },
   "outputs": [],
   "source": [
    "dr_f.to_csv('filtered_data.csv',index=False)"
   ]
  },
  {
   "cell_type": "code",
   "execution_count": 13,
   "id": "05a4f485-4f7b-454a-a3fd-fb0803fc526d",
   "metadata": {
    "tags": []
   },
   "outputs": [
    {
     "data": {
      "text/plain": [
       "e1                         compound::db01069\n",
       "relation    hetionet::crc::compound:compound\n",
       "e2                         compound::db00777\n",
       "Name: 2577873, dtype: object"
      ]
     },
     "execution_count": 13,
     "metadata": {},
     "output_type": "execute_result"
    }
   ],
   "source": [
    "dr.iloc[2577873,:]"
   ]
  },
  {
   "cell_type": "code",
   "execution_count": 14,
   "id": "75f36b43-348d-4052-b0aa-c7226f97fe38",
   "metadata": {},
   "outputs": [],
   "source": [
    "#we will only work on these rows which describe Compound:Compound interactions, Compound:SideEffect from all the data available from Hetionet.\n",
    "#now we will select these rows from the storyline dataset and flag them accordingly.\n"
   ]
  },
  {
   "cell_type": "code",
   "execution_count": 15,
   "id": "c46f81c1-e481-47a4-a5c6-7549e3aa22a9",
   "metadata": {
    "tags": []
   },
   "outputs": [
    {
     "name": "stderr",
     "output_type": "stream",
     "text": [
      "/scratch/local/ipykernel_13302/2201153711.py:1: ParserWarning: Falling back to the 'python' engine because the 'c' engine does not support regex separators (separators > 1 char and different from '\\s+' are interpreted as regex); you can avoid this warning by specifying engine='python'.\n",
      "  st=pd.read_csv('storyline_relationships.txt',sep='/n',names=['text'])\n"
     ]
    },
    {
     "name": "stdout",
     "output_type": "stream",
     "text": [
      "(5874261, 1)\n"
     ]
    },
    {
     "data": {
      "text/html": [
       "<div>\n",
       "<style scoped>\n",
       "    .dataframe tbody tr th:only-of-type {\n",
       "        vertical-align: middle;\n",
       "    }\n",
       "\n",
       "    .dataframe tbody tr th {\n",
       "        vertical-align: top;\n",
       "    }\n",
       "\n",
       "    .dataframe thead th {\n",
       "        text-align: right;\n",
       "    }\n",
       "</style>\n",
       "<table border=\"1\" class=\"dataframe\">\n",
       "  <thead>\n",
       "    <tr style=\"text-align: right;\">\n",
       "      <th></th>\n",
       "      <th>text</th>\n",
       "      <th>type</th>\n",
       "    </tr>\n",
       "  </thead>\n",
       "  <tbody>\n",
       "    <tr>\n",
       "      <th>0</th>\n",
       "      <td>Gene::2157 shows a protein-protein interaction...</td>\n",
       "      <td>0</td>\n",
       "    </tr>\n",
       "    <tr>\n",
       "      <th>1</th>\n",
       "      <td>Gene::2157 and Gene::5264 interact, suggesting...</td>\n",
       "      <td>0</td>\n",
       "    </tr>\n",
       "    <tr>\n",
       "      <th>2</th>\n",
       "      <td>Gene::2157 and Gene::2158 interact, suggesting...</td>\n",
       "      <td>0</td>\n",
       "    </tr>\n",
       "    <tr>\n",
       "      <th>3</th>\n",
       "      <td>Gene::2157 and Gene::3309 interact, suggesting...</td>\n",
       "      <td>0</td>\n",
       "    </tr>\n",
       "    <tr>\n",
       "      <th>4</th>\n",
       "      <td>Gene::2157 and Gene::28912 interact, suggestin...</td>\n",
       "      <td>0</td>\n",
       "    </tr>\n",
       "  </tbody>\n",
       "</table>\n",
       "</div>"
      ],
      "text/plain": [
       "                                                text  type\n",
       "0  Gene::2157 shows a protein-protein interaction...     0\n",
       "1  Gene::2157 and Gene::5264 interact, suggesting...     0\n",
       "2  Gene::2157 and Gene::2158 interact, suggesting...     0\n",
       "3  Gene::2157 and Gene::3309 interact, suggesting...     0\n",
       "4  Gene::2157 and Gene::28912 interact, suggestin...     0"
      ]
     },
     "execution_count": 15,
     "metadata": {},
     "output_type": "execute_result"
    }
   ],
   "source": [
    "st=pd.read_csv('storyline_relationships.txt',sep='/n',names=['text'])\n",
    "print(st.shape)\n",
    "st['type']=0\n",
    "st.head()\n",
    "\n"
   ]
  },
  {
   "cell_type": "code",
   "execution_count": 16,
   "id": "d415cf60-cb20-444b-84d5-b6efb93a5e87",
   "metadata": {
    "tags": []
   },
   "outputs": [
    {
     "name": "stderr",
     "output_type": "stream",
     "text": [
      "/scratch/local/ipykernel_13302/1364351611.py:3: SettingWithCopyWarning: \n",
      "A value is trying to be set on a copy of a slice from a DataFrame\n",
      "\n",
      "See the caveats in the documentation: https://pandas.pydata.org/pandas-docs/stable/user_guide/indexing.html#returning-a-view-versus-a-copy\n",
      "  st.type[side_eff_bool]=1\n",
      "/scratch/local/ipykernel_13302/1364351611.py:4: SettingWithCopyWarning: \n",
      "A value is trying to be set on a copy of a slice from a DataFrame\n",
      "\n",
      "See the caveats in the documentation: https://pandas.pydata.org/pandas-docs/stable/user_guide/indexing.html#returning-a-view-versus-a-copy\n",
      "  st.type[comp_comp_bool]=2\n"
     ]
    }
   ],
   "source": [
    "#type 1 = sideEffect\n",
    "#type 2 = compound compound\n",
    "st.type[side_eff_bool]=1\n",
    "st.type[comp_comp_bool]=2"
   ]
  },
  {
   "cell_type": "code",
   "execution_count": 17,
   "id": "57c18e5e-487d-4068-b678-6f261341330f",
   "metadata": {
    "tags": []
   },
   "outputs": [
    {
     "data": {
      "text/plain": [
       "type\n",
       "0    5728831\n",
       "1     138944\n",
       "2       6486\n",
       "Name: count, dtype: int64"
      ]
     },
     "execution_count": 17,
     "metadata": {},
     "output_type": "execute_result"
    }
   ],
   "source": [
    "st.type.value_counts()"
   ]
  },
  {
   "cell_type": "code",
   "execution_count": 18,
   "id": "fd6c69d8-f8d8-4479-940c-fb2a5f1faad4",
   "metadata": {
    "tags": []
   },
   "outputs": [
    {
     "data": {
      "text/plain": [
       "(138944, 6486)"
      ]
     },
     "execution_count": 18,
     "metadata": {},
     "output_type": "execute_result"
    }
   ],
   "source": [
    "side_eff_bool.sum(),comp_comp_bool.sum()"
   ]
  },
  {
   "cell_type": "code",
   "execution_count": 19,
   "id": "913cdca0-fc67-4c77-8fee-7ea10de9fb85",
   "metadata": {
    "tags": []
   },
   "outputs": [
    {
     "data": {
      "text/plain": [
       "145430"
      ]
     },
     "execution_count": 19,
     "metadata": {},
     "output_type": "execute_result"
    }
   ],
   "source": [
    "side_eff_bool.sum()+comp_comp_bool.sum()"
   ]
  },
  {
   "cell_type": "code",
   "execution_count": 20,
   "id": "d20aa04e-8c8f-471b-b1e8-79389e5c60b0",
   "metadata": {
    "tags": []
   },
   "outputs": [],
   "source": [
    "st_f = st[dr_f_bool]"
   ]
  },
  {
   "cell_type": "code",
   "execution_count": 21,
   "id": "e2235dff-ae6a-445a-9bb3-35a88c521e2b",
   "metadata": {
    "tags": []
   },
   "outputs": [
    {
     "data": {
      "text/plain": [
       "(145430, 2)"
      ]
     },
     "execution_count": 21,
     "metadata": {},
     "output_type": "execute_result"
    }
   ],
   "source": [
    "st_f.shape"
   ]
  },
  {
   "cell_type": "code",
   "execution_count": 22,
   "id": "2cf207a3-223c-46e5-abe2-6cdf0c5b5bd3",
   "metadata": {
    "tags": []
   },
   "outputs": [
    {
     "name": "stdout",
     "output_type": "stream",
     "text": [
      "Compound::DB00448 causes a specific side effect, as indicated by its interaction with Side Effect::C0032584.\n",
      "Compound::DB00575 causes a specific side effect, as indicated by its interaction with Side Effect::C0424024.\n",
      "Compound::DB00734 causes a specific side effect, as indicated by its interaction with Side Effect::C0235309.\n",
      "Compound::DB06817 causes a specific side effect, as indicated by its interaction with Side Effect::C0014724.\n",
      "Compound::DB00448 causes a specific side effect, as indicated by its interaction with Side Effect::C0001824.\n"
     ]
    }
   ],
   "source": [
    "#lets see a few examples of the data to come up with questions...\n",
    "samp1 = st_f[st_f.type == 1]\n",
    "for i in range(5):\n",
    "    print(samp1.iloc[i,0])\n",
    "    "
   ]
  },
  {
   "cell_type": "code",
   "execution_count": 23,
   "id": "bb26f1c4-69c5-4065-9307-e60170d2cec8",
   "metadata": {
    "tags": []
   },
   "outputs": [
    {
     "name": "stdout",
     "output_type": "stream",
     "text": [
      "Compound::DB01069 and Compound::DB00777 have an interaction of type 'resemblence [Gene:Gene]'.\n",
      "Compound::DB01103 and Compound::DB00613 have an interaction of type 'resemblence [Gene:Gene]'.\n",
      "Compound::DB01231 and Compound::DB00209 have an interaction of type 'resemblence [Gene:Gene]'.\n",
      "Compound::DB01327 and Compound::DB01112 have an interaction of type 'resemblence [Gene:Gene]'.\n",
      "Compound::DB00257 and Compound::DB04794 have an interaction of type 'resemblence [Gene:Gene]'.\n"
     ]
    }
   ],
   "source": [
    "#lets see a few examples of the data to come up with questions...\n",
    "samp2 = st_f[st_f.type == 2]\n",
    "for i in range(5):\n",
    "    print(samp2.iloc[i,0])\n",
    "    "
   ]
  },
  {
   "cell_type": "code",
   "execution_count": 24,
   "id": "a02e4335-51a5-4659-af99-7f1659ee99f2",
   "metadata": {},
   "outputs": [],
   "source": [
    "#right now the compounds id mean nothing as they provide no context to us, we do not know what Compound DB01069 is (Lansoprazole) \n",
    "#and what side effect c0032584 means, i tried to use some api and extract relevant information but there is no publicy available api.\n",
    "#the source for the above rows is hetionet but we can find the side effect id from drugbank.\n",
    "#And without the context the model will not learn any information, the id just mean meaningless nouns and we cant really find any heirarchy.\n",
    "#However I shall try to slighlty modify the text.\n",
    "#The current dataset is not suitable to be fine tuned on/\n"
   ]
  },
  {
   "cell_type": "code",
   "execution_count": 25,
   "id": "c625db6b-20ef-4639-a610-90b89c1bdb36",
   "metadata": {
    "tags": []
   },
   "outputs": [
    {
     "data": {
      "text/plain": [
       "relation\n",
       "hetionet::ccse::compound:side effect    138944\n",
       "hetionet::crc::compound:compound          6486\n",
       "Name: count, dtype: int64"
      ]
     },
     "execution_count": 25,
     "metadata": {},
     "output_type": "execute_result"
    }
   ],
   "source": [
    "dr_f.relation.value_counts()"
   ]
  },
  {
   "cell_type": "code",
   "execution_count": 26,
   "id": "05cc1246-c48e-45d1-8397-78dfe8a258cb",
   "metadata": {
    "tags": []
   },
   "outputs": [],
   "source": [
    "def conv(row):\n",
    "    if row['relation'] == 'hetionet::crc::compound:compound':\n",
    "        return f\"{row['e1']} and {row['e2']} are similar\"\n",
    "    elif row['relation'] == 'hetionet::ccse::compound:side effect':\n",
    "        return f\"Drug {row['e1']} causes {row['e2']}\"\n",
    "# dr['newTxt']=dr.loc[dr_f_bool,:].apply(conv)\n"
   ]
  },
  {
   "cell_type": "code",
   "execution_count": 27,
   "id": "c791eb00-7459-434f-979b-78912d992473",
   "metadata": {
    "tags": []
   },
   "outputs": [
    {
     "name": "stderr",
     "output_type": "stream",
     "text": [
      "/scratch/local/ipykernel_13302/2829069201.py:1: SettingWithCopyWarning: \n",
      "A value is trying to be set on a copy of a slice from a DataFrame.\n",
      "Try using .loc[row_indexer,col_indexer] = value instead\n",
      "\n",
      "See the caveats in the documentation: https://pandas.pydata.org/pandas-docs/stable/user_guide/indexing.html#returning-a-view-versus-a-copy\n",
      "  dr_f['newTxt']=dr_f.apply(conv,axis=1)\n"
     ]
    },
    {
     "data": {
      "text/html": [
       "<div>\n",
       "<style scoped>\n",
       "    .dataframe tbody tr th:only-of-type {\n",
       "        vertical-align: middle;\n",
       "    }\n",
       "\n",
       "    .dataframe tbody tr th {\n",
       "        vertical-align: top;\n",
       "    }\n",
       "\n",
       "    .dataframe thead th {\n",
       "        text-align: right;\n",
       "    }\n",
       "</style>\n",
       "<table border=\"1\" class=\"dataframe\">\n",
       "  <thead>\n",
       "    <tr style=\"text-align: right;\">\n",
       "      <th></th>\n",
       "      <th>e1</th>\n",
       "      <th>relation</th>\n",
       "      <th>e2</th>\n",
       "      <th>newTxt</th>\n",
       "    </tr>\n",
       "  </thead>\n",
       "  <tbody>\n",
       "    <tr>\n",
       "      <th>2577873</th>\n",
       "      <td>compound::db01069</td>\n",
       "      <td>hetionet::crc::compound:compound</td>\n",
       "      <td>compound::db00777</td>\n",
       "      <td>compound::db01069 and compound::db00777 are si...</td>\n",
       "    </tr>\n",
       "    <tr>\n",
       "      <th>2577874</th>\n",
       "      <td>compound::db01103</td>\n",
       "      <td>hetionet::crc::compound:compound</td>\n",
       "      <td>compound::db00613</td>\n",
       "      <td>compound::db01103 and compound::db00613 are si...</td>\n",
       "    </tr>\n",
       "    <tr>\n",
       "      <th>2577875</th>\n",
       "      <td>compound::db01231</td>\n",
       "      <td>hetionet::crc::compound:compound</td>\n",
       "      <td>compound::db00209</td>\n",
       "      <td>compound::db01231 and compound::db00209 are si...</td>\n",
       "    </tr>\n",
       "    <tr>\n",
       "      <th>2577876</th>\n",
       "      <td>compound::db01327</td>\n",
       "      <td>hetionet::crc::compound:compound</td>\n",
       "      <td>compound::db01112</td>\n",
       "      <td>compound::db01327 and compound::db01112 are si...</td>\n",
       "    </tr>\n",
       "    <tr>\n",
       "      <th>2577877</th>\n",
       "      <td>compound::db00257</td>\n",
       "      <td>hetionet::crc::compound:compound</td>\n",
       "      <td>compound::db04794</td>\n",
       "      <td>compound::db00257 and compound::db04794 are si...</td>\n",
       "    </tr>\n",
       "  </tbody>\n",
       "</table>\n",
       "</div>"
      ],
      "text/plain": [
       "                        e1                          relation  \\\n",
       "2577873  compound::db01069  hetionet::crc::compound:compound   \n",
       "2577874  compound::db01103  hetionet::crc::compound:compound   \n",
       "2577875  compound::db01231  hetionet::crc::compound:compound   \n",
       "2577876  compound::db01327  hetionet::crc::compound:compound   \n",
       "2577877  compound::db00257  hetionet::crc::compound:compound   \n",
       "\n",
       "                        e2                                             newTxt  \n",
       "2577873  compound::db00777  compound::db01069 and compound::db00777 are si...  \n",
       "2577874  compound::db00613  compound::db01103 and compound::db00613 are si...  \n",
       "2577875  compound::db00209  compound::db01231 and compound::db00209 are si...  \n",
       "2577876  compound::db01112  compound::db01327 and compound::db01112 are si...  \n",
       "2577877  compound::db04794  compound::db00257 and compound::db04794 are si...  "
      ]
     },
     "execution_count": 27,
     "metadata": {},
     "output_type": "execute_result"
    }
   ],
   "source": [
    "dr_f['newTxt']=dr_f.apply(conv,axis=1)\n",
    "dr_f.head()"
   ]
  },
  {
   "cell_type": "code",
   "execution_count": 28,
   "id": "093692a7-f46a-41a0-805d-4a07c9102457",
   "metadata": {},
   "outputs": [],
   "source": [
    "#i think we should create embedding for all the similar compounds and cluster them....\n",
    "#then we can find any hidden relations between them and may be find the probability of a side effect being caused by an untested compound\n",
    "#eg:\n",
    "#query: which genes can drug A can impact/ cause side effect?\n",
    "#we find the genes drug A has side effects on and return the genes which are similar to it...\n",
    "#i find this is to be more like a computer science problem than NLP, because of the rule based approach"
   ]
  },
  {
   "cell_type": "code",
   "execution_count": 29,
   "id": "192cb2b0-773a-4b72-aa49-1d5e117a6662",
   "metadata": {},
   "outputs": [
    {
     "name": "stderr",
     "output_type": "stream",
     "text": [
      "/scratch/local/ipykernel_13302/2095757482.py:5: SettingWithCopyWarning: \n",
      "A value is trying to be set on a copy of a slice from a DataFrame.\n",
      "Try using .loc[row_indexer,col_indexer] = value instead\n",
      "\n",
      "See the caveats in the documentation: https://pandas.pydata.org/pandas-docs/stable/user_guide/indexing.html#returning-a-view-versus-a-copy\n",
      "  dr_f.e1 = dr_f.e1.apply(lambda x:x.split('::')[1])\n"
     ]
    }
   ],
   "source": [
    "#finding similar compounds\n",
    "#the drugs and compounds id are different enough so we need not worry about any overlap\n",
    "#however we can only say two compounds are similar and the sideeffect are not similar but instead are something like target?->not sure yet\n",
    "# dr_f.e1.apply(lambda x:x.split('::')[0]).value_counts()\n",
    "dr_f.e1 = dr_f.e1.apply(lambda x:x.split('::')[1])"
   ]
  },
  {
   "cell_type": "code",
   "execution_count": null,
   "id": "4ed92155-8e7d-4b36-873f-10c80c5f3a5e",
   "metadata": {},
   "outputs": [],
   "source": []
  },
  {
   "cell_type": "code",
   "execution_count": 30,
   "id": "611c9221-6569-421d-979a-e64b6e3d9425",
   "metadata": {
    "tags": []
   },
   "outputs": [
    {
     "name": "stderr",
     "output_type": "stream",
     "text": [
      "/scratch/local/ipykernel_13302/491483805.py:2: SettingWithCopyWarning: \n",
      "A value is trying to be set on a copy of a slice from a DataFrame.\n",
      "Try using .loc[row_indexer,col_indexer] = value instead\n",
      "\n",
      "See the caveats in the documentation: https://pandas.pydata.org/pandas-docs/stable/user_guide/indexing.html#returning-a-view-versus-a-copy\n",
      "  dr_f.e2 = dr_f.e2.apply(lambda x:x.split('::')[1])\n"
     ]
    }
   ],
   "source": [
    "# dr_f.e2[~ dr_f.e2.str.contains('side')]=dr_f.e2.apply(lambda x:x.split('::')[1])\n",
    "dr_f.e2 = dr_f.e2.apply(lambda x:x.split('::')[1])"
   ]
  },
  {
   "cell_type": "code",
   "execution_count": 31,
   "id": "c8df724f-9838-4205-888f-b1ec23586eed",
   "metadata": {
    "tags": []
   },
   "outputs": [
    {
     "data": {
      "text/html": [
       "<div>\n",
       "<style scoped>\n",
       "    .dataframe tbody tr th:only-of-type {\n",
       "        vertical-align: middle;\n",
       "    }\n",
       "\n",
       "    .dataframe tbody tr th {\n",
       "        vertical-align: top;\n",
       "    }\n",
       "\n",
       "    .dataframe thead th {\n",
       "        text-align: right;\n",
       "    }\n",
       "</style>\n",
       "<table border=\"1\" class=\"dataframe\">\n",
       "  <thead>\n",
       "    <tr style=\"text-align: right;\">\n",
       "      <th></th>\n",
       "      <th>e1</th>\n",
       "      <th>relation</th>\n",
       "      <th>e2</th>\n",
       "      <th>newTxt</th>\n",
       "    </tr>\n",
       "  </thead>\n",
       "  <tbody>\n",
       "    <tr>\n",
       "      <th>2577873</th>\n",
       "      <td>db01069</td>\n",
       "      <td>hetionet::crc::compound:compound</td>\n",
       "      <td>db00777</td>\n",
       "      <td>compound::db01069 and compound::db00777 are si...</td>\n",
       "    </tr>\n",
       "    <tr>\n",
       "      <th>2577874</th>\n",
       "      <td>db01103</td>\n",
       "      <td>hetionet::crc::compound:compound</td>\n",
       "      <td>db00613</td>\n",
       "      <td>compound::db01103 and compound::db00613 are si...</td>\n",
       "    </tr>\n",
       "    <tr>\n",
       "      <th>2577875</th>\n",
       "      <td>db01231</td>\n",
       "      <td>hetionet::crc::compound:compound</td>\n",
       "      <td>db00209</td>\n",
       "      <td>compound::db01231 and compound::db00209 are si...</td>\n",
       "    </tr>\n",
       "    <tr>\n",
       "      <th>2577876</th>\n",
       "      <td>db01327</td>\n",
       "      <td>hetionet::crc::compound:compound</td>\n",
       "      <td>db01112</td>\n",
       "      <td>compound::db01327 and compound::db01112 are si...</td>\n",
       "    </tr>\n",
       "    <tr>\n",
       "      <th>2577877</th>\n",
       "      <td>db00257</td>\n",
       "      <td>hetionet::crc::compound:compound</td>\n",
       "      <td>db04794</td>\n",
       "      <td>compound::db00257 and compound::db04794 are si...</td>\n",
       "    </tr>\n",
       "  </tbody>\n",
       "</table>\n",
       "</div>"
      ],
      "text/plain": [
       "              e1                          relation       e2  \\\n",
       "2577873  db01069  hetionet::crc::compound:compound  db00777   \n",
       "2577874  db01103  hetionet::crc::compound:compound  db00613   \n",
       "2577875  db01231  hetionet::crc::compound:compound  db00209   \n",
       "2577876  db01327  hetionet::crc::compound:compound  db01112   \n",
       "2577877  db00257  hetionet::crc::compound:compound  db04794   \n",
       "\n",
       "                                                    newTxt  \n",
       "2577873  compound::db01069 and compound::db00777 are si...  \n",
       "2577874  compound::db01103 and compound::db00613 are si...  \n",
       "2577875  compound::db01231 and compound::db00209 are si...  \n",
       "2577876  compound::db01327 and compound::db01112 are si...  \n",
       "2577877  compound::db00257 and compound::db04794 are si...  "
      ]
     },
     "execution_count": 31,
     "metadata": {},
     "output_type": "execute_result"
    }
   ],
   "source": [
    "dr_f.head()"
   ]
  },
  {
   "cell_type": "code",
   "execution_count": 34,
   "id": "0420be04-2565-4515-83e6-e681cfb2b83c",
   "metadata": {
    "tags": []
   },
   "outputs": [
    {
     "name": "stderr",
     "output_type": "stream",
     "text": [
      "/scratch/local/ipykernel_13302/141560899.py:1: UserWarning: Boolean Series key will be reindexed to match DataFrame index.\n",
      "  side_ef_df = dr_f[side_eff_bool]\n",
      "/scratch/local/ipykernel_13302/141560899.py:2: SettingWithCopyWarning: \n",
      "A value is trying to be set on a copy of a slice from a DataFrame\n",
      "\n",
      "See the caveats in the documentation: https://pandas.pydata.org/pandas-docs/stable/user_guide/indexing.html#returning-a-view-versus-a-copy\n",
      "  side_ef_df.rename(columns={'e1':'side_effect','e2':'compound'},inplace=True)\n"
     ]
    }
   ],
   "source": [
    "side_ef_df = dr_f[side_eff_bool]\n",
    "side_ef_df.rename(columns={'e1':'side_effect','e2':'compound'},inplace=True)"
   ]
  },
  {
   "cell_type": "code",
   "execution_count": 35,
   "id": "ac7b56a5-2603-47c6-829d-7f1c070e5500",
   "metadata": {
    "tags": []
   },
   "outputs": [],
   "source": [
    "side_ef_df.to_csv('side_effects.csv',columns=['side_effect','compound'],index=False)"
   ]
  },
  {
   "cell_type": "code",
   "execution_count": 36,
   "id": "b362cd2b-63ea-4228-a57c-8b62f7eeca5d",
   "metadata": {
    "tags": []
   },
   "outputs": [
    {
     "data": {
      "text/html": [
       "<div>\n",
       "<style scoped>\n",
       "    .dataframe tbody tr th:only-of-type {\n",
       "        vertical-align: middle;\n",
       "    }\n",
       "\n",
       "    .dataframe tbody tr th {\n",
       "        vertical-align: top;\n",
       "    }\n",
       "\n",
       "    .dataframe thead th {\n",
       "        text-align: right;\n",
       "    }\n",
       "</style>\n",
       "<table border=\"1\" class=\"dataframe\">\n",
       "  <thead>\n",
       "    <tr style=\"text-align: right;\">\n",
       "      <th></th>\n",
       "      <th>e1</th>\n",
       "      <th>e2</th>\n",
       "    </tr>\n",
       "  </thead>\n",
       "  <tbody>\n",
       "    <tr>\n",
       "      <th>2577873</th>\n",
       "      <td>db01069</td>\n",
       "      <td>db00777</td>\n",
       "    </tr>\n",
       "    <tr>\n",
       "      <th>2577874</th>\n",
       "      <td>db01103</td>\n",
       "      <td>db00613</td>\n",
       "    </tr>\n",
       "    <tr>\n",
       "      <th>2577875</th>\n",
       "      <td>db01231</td>\n",
       "      <td>db00209</td>\n",
       "    </tr>\n",
       "    <tr>\n",
       "      <th>2577876</th>\n",
       "      <td>db01327</td>\n",
       "      <td>db01112</td>\n",
       "    </tr>\n",
       "    <tr>\n",
       "      <th>2577877</th>\n",
       "      <td>db00257</td>\n",
       "      <td>db04794</td>\n",
       "    </tr>\n",
       "  </tbody>\n",
       "</table>\n",
       "</div>"
      ],
      "text/plain": [
       "              e1       e2\n",
       "2577873  db01069  db00777\n",
       "2577874  db01103  db00613\n",
       "2577875  db01231  db00209\n",
       "2577876  db01327  db01112\n",
       "2577877  db00257  db04794"
      ]
     },
     "execution_count": 36,
     "metadata": {},
     "output_type": "execute_result"
    }
   ],
   "source": [
    "c = dr_f.iloc[:,[0,2]]\n",
    "c.head()"
   ]
  },
  {
   "cell_type": "code",
   "execution_count": 37,
   "id": "672adcf7-160c-4791-b0be-2a0292487384",
   "metadata": {
    "tags": []
   },
   "outputs": [
    {
     "data": {
      "text/html": [
       "<div>\n",
       "<style scoped>\n",
       "    .dataframe tbody tr th:only-of-type {\n",
       "        vertical-align: middle;\n",
       "    }\n",
       "\n",
       "    .dataframe tbody tr th {\n",
       "        vertical-align: top;\n",
       "    }\n",
       "\n",
       "    .dataframe thead th {\n",
       "        text-align: right;\n",
       "    }\n",
       "</style>\n",
       "<table border=\"1\" class=\"dataframe\">\n",
       "  <thead>\n",
       "    <tr style=\"text-align: right;\">\n",
       "      <th></th>\n",
       "      <th>e1</th>\n",
       "      <th>e2</th>\n",
       "    </tr>\n",
       "  </thead>\n",
       "  <tbody>\n",
       "    <tr>\n",
       "      <th>0</th>\n",
       "      <td>db00014</td>\n",
       "      <td>[db00644, db00183, db06196, db00666, db06699, ...</td>\n",
       "    </tr>\n",
       "    <tr>\n",
       "      <th>1</th>\n",
       "      <td>db00035</td>\n",
       "      <td>[db00666, db00104, db00644, db01282, db00626, ...</td>\n",
       "    </tr>\n",
       "    <tr>\n",
       "      <th>2</th>\n",
       "      <td>db00050</td>\n",
       "      <td>[db00014, db00666, db06699, db00644, c0332575,...</td>\n",
       "    </tr>\n",
       "    <tr>\n",
       "      <th>3</th>\n",
       "      <td>db00091</td>\n",
       "      <td>[c0232492, c0036690, c0042029, c0002170, c0232...</td>\n",
       "    </tr>\n",
       "    <tr>\n",
       "      <th>4</th>\n",
       "      <td>db00093</td>\n",
       "      <td>[db00781, db01282, db00035, db00626, db02638, ...</td>\n",
       "    </tr>\n",
       "  </tbody>\n",
       "</table>\n",
       "</div>"
      ],
      "text/plain": [
       "        e1                                                 e2\n",
       "0  db00014  [db00644, db00183, db06196, db00666, db06699, ...\n",
       "1  db00035  [db00666, db00104, db00644, db01282, db00626, ...\n",
       "2  db00050  [db00014, db00666, db06699, db00644, c0332575,...\n",
       "3  db00091  [c0232492, c0036690, c0042029, c0002170, c0232...\n",
       "4  db00093  [db00781, db01282, db00035, db00626, db02638, ..."
      ]
     },
     "execution_count": 37,
     "metadata": {},
     "output_type": "execute_result"
    }
   ],
   "source": [
    "c=c.groupby(by='e1')\n",
    "#e1 only has compounds and e2 has a combination of compound and also side effect, we do not need side effect right now\n",
    "#im thinking about making something like an adjency matrix and drug being something like the target, hmm, not sure how this can be made useful \n",
    "#for llms\n",
    "#making an adjacency matrix will be just zeroes for the most part as there are around 1400 unique compounds.\n",
    "#this is a graph dataset, its pointless to make it make sense using other data structures.\n",
    "#just following the story based approach but the model will focus on the english words and will learn the pattern more than the embeddings...\n",
    "c=pd.DataFrame(c.agg(list).reset_index())\n",
    "c.head()\n"
   ]
  },
  {
   "cell_type": "code",
   "execution_count": 38,
   "id": "b6c2956a-14de-4e0c-92de-1470e70bf8e3",
   "metadata": {
    "tags": []
   },
   "outputs": [
    {
     "data": {
      "text/html": [
       "<div>\n",
       "<style scoped>\n",
       "    .dataframe tbody tr th:only-of-type {\n",
       "        vertical-align: middle;\n",
       "    }\n",
       "\n",
       "    .dataframe tbody tr th {\n",
       "        vertical-align: top;\n",
       "    }\n",
       "\n",
       "    .dataframe thead th {\n",
       "        text-align: right;\n",
       "    }\n",
       "</style>\n",
       "<table border=\"1\" class=\"dataframe\">\n",
       "  <thead>\n",
       "    <tr style=\"text-align: right;\">\n",
       "      <th></th>\n",
       "      <th>e1</th>\n",
       "      <th>e2</th>\n",
       "      <th>all</th>\n",
       "    </tr>\n",
       "  </thead>\n",
       "  <tbody>\n",
       "    <tr>\n",
       "      <th>0</th>\n",
       "      <td>db00014</td>\n",
       "      <td>[db00644, db00183, db06196, db00666, db06699, ...</td>\n",
       "      <td>[db00014, db00644, db00183, db06196, db00666, ...</td>\n",
       "    </tr>\n",
       "    <tr>\n",
       "      <th>1</th>\n",
       "      <td>db00035</td>\n",
       "      <td>[db00666, db00104, db00644, db01282, db00626, ...</td>\n",
       "      <td>[db00035, db00666, db00104, db00644, db01282, ...</td>\n",
       "    </tr>\n",
       "    <tr>\n",
       "      <th>2</th>\n",
       "      <td>db00050</td>\n",
       "      <td>[db00014, db00666, db06699, db00644, c0332575,...</td>\n",
       "      <td>[db00050, db00014, db00666, db06699, db00644, ...</td>\n",
       "    </tr>\n",
       "    <tr>\n",
       "      <th>3</th>\n",
       "      <td>db00091</td>\n",
       "      <td>[c0232492, c0036690, c0042029, c0002170, c0232...</td>\n",
       "      <td>[db00091, c0232492, c0036690, c0042029, c00021...</td>\n",
       "    </tr>\n",
       "    <tr>\n",
       "      <th>4</th>\n",
       "      <td>db00093</td>\n",
       "      <td>[db00781, db01282, db00035, db00626, db02638, ...</td>\n",
       "      <td>[db00093, db00781, db01282, db00035, db00626, ...</td>\n",
       "    </tr>\n",
       "  </tbody>\n",
       "</table>\n",
       "</div>"
      ],
      "text/plain": [
       "        e1                                                 e2  \\\n",
       "0  db00014  [db00644, db00183, db06196, db00666, db06699, ...   \n",
       "1  db00035  [db00666, db00104, db00644, db01282, db00626, ...   \n",
       "2  db00050  [db00014, db00666, db06699, db00644, c0332575,...   \n",
       "3  db00091  [c0232492, c0036690, c0042029, c0002170, c0232...   \n",
       "4  db00093  [db00781, db01282, db00035, db00626, db02638, ...   \n",
       "\n",
       "                                                 all  \n",
       "0  [db00014, db00644, db00183, db06196, db00666, ...  \n",
       "1  [db00035, db00666, db00104, db00644, db01282, ...  \n",
       "2  [db00050, db00014, db00666, db06699, db00644, ...  \n",
       "3  [db00091, c0232492, c0036690, c0042029, c00021...  \n",
       "4  [db00093, db00781, db01282, db00035, db00626, ...  "
      ]
     },
     "execution_count": 38,
     "metadata": {},
     "output_type": "execute_result"
    }
   ],
   "source": [
    "c['all']=c.apply(lambda x: [x['e1']]+x['e2'],axis=1)\n",
    "c.head()"
   ]
  },
  {
   "cell_type": "code",
   "execution_count": 39,
   "id": "90932ddd-fd54-4e95-85eb-c3647faff8f7",
   "metadata": {
    "tags": []
   },
   "outputs": [
    {
     "data": {
      "text/html": [
       "<div>\n",
       "<style scoped>\n",
       "    .dataframe tbody tr th:only-of-type {\n",
       "        vertical-align: middle;\n",
       "    }\n",
       "\n",
       "    .dataframe tbody tr th {\n",
       "        vertical-align: top;\n",
       "    }\n",
       "\n",
       "    .dataframe thead th {\n",
       "        text-align: right;\n",
       "    }\n",
       "</style>\n",
       "<table border=\"1\" class=\"dataframe\">\n",
       "  <thead>\n",
       "    <tr style=\"text-align: right;\">\n",
       "      <th></th>\n",
       "      <th>e1</th>\n",
       "      <th>e2</th>\n",
       "      <th>all</th>\n",
       "    </tr>\n",
       "  </thead>\n",
       "  <tbody>\n",
       "    <tr>\n",
       "      <th>0</th>\n",
       "      <td>db00014</td>\n",
       "      <td>[db00014, db00644, db00183, db06196, db00666, ...</td>\n",
       "      <td>[db00014, db00644, db00183, db06196, db00666, ...</td>\n",
       "    </tr>\n",
       "    <tr>\n",
       "      <th>1</th>\n",
       "      <td>db00035</td>\n",
       "      <td>[db00035, db00666, db00104, db00644, db01282, ...</td>\n",
       "      <td>[db00035, db00666, db00104, db00644, db01282, ...</td>\n",
       "    </tr>\n",
       "    <tr>\n",
       "      <th>2</th>\n",
       "      <td>db00050</td>\n",
       "      <td>[db00050, db00014, db00666, db06699, db00644, ...</td>\n",
       "      <td>[db00050, db00014, db00666, db06699, db00644, ...</td>\n",
       "    </tr>\n",
       "    <tr>\n",
       "      <th>3</th>\n",
       "      <td>db00091</td>\n",
       "      <td>[db00091, c0232492, c0036690, c0042029, c00021...</td>\n",
       "      <td>[db00091, c0232492, c0036690, c0042029, c00021...</td>\n",
       "    </tr>\n",
       "    <tr>\n",
       "      <th>4</th>\n",
       "      <td>db00093</td>\n",
       "      <td>[db00093, db00781, db01282, db00035, db00626, ...</td>\n",
       "      <td>[db00093, db00781, db01282, db00035, db00626, ...</td>\n",
       "    </tr>\n",
       "  </tbody>\n",
       "</table>\n",
       "</div>"
      ],
      "text/plain": [
       "        e1                                                 e2  \\\n",
       "0  db00014  [db00014, db00644, db00183, db06196, db00666, ...   \n",
       "1  db00035  [db00035, db00666, db00104, db00644, db01282, ...   \n",
       "2  db00050  [db00050, db00014, db00666, db06699, db00644, ...   \n",
       "3  db00091  [db00091, c0232492, c0036690, c0042029, c00021...   \n",
       "4  db00093  [db00093, db00781, db01282, db00035, db00626, ...   \n",
       "\n",
       "                                                 all  \n",
       "0  [db00014, db00644, db00183, db06196, db00666, ...  \n",
       "1  [db00035, db00666, db00104, db00644, db01282, ...  \n",
       "2  [db00050, db00014, db00666, db06699, db00644, ...  \n",
       "3  [db00091, c0232492, c0036690, c0042029, c00021...  \n",
       "4  [db00093, db00781, db01282, db00035, db00626, ...  "
      ]
     },
     "execution_count": 39,
     "metadata": {},
     "output_type": "execute_result"
    }
   ],
   "source": [
    "c['e2']=c.apply(lambda x: [x['e1']]+x['e2'],axis=1)\n",
    "c.head()"
   ]
  },
  {
   "cell_type": "code",
   "execution_count": 40,
   "id": "4a52f40e-5bc7-4d16-9f64-e0071b734e2d",
   "metadata": {
    "tags": []
   },
   "outputs": [
    {
     "data": {
      "text/html": [
       "<div>\n",
       "<style scoped>\n",
       "    .dataframe tbody tr th:only-of-type {\n",
       "        vertical-align: middle;\n",
       "    }\n",
       "\n",
       "    .dataframe tbody tr th {\n",
       "        vertical-align: top;\n",
       "    }\n",
       "\n",
       "    .dataframe thead th {\n",
       "        text-align: right;\n",
       "    }\n",
       "</style>\n",
       "<table border=\"1\" class=\"dataframe\">\n",
       "  <thead>\n",
       "    <tr style=\"text-align: right;\">\n",
       "      <th></th>\n",
       "      <th>e1</th>\n",
       "      <th>e2</th>\n",
       "      <th>all</th>\n",
       "    </tr>\n",
       "  </thead>\n",
       "  <tbody>\n",
       "    <tr>\n",
       "      <th>0</th>\n",
       "      <td>db00014</td>\n",
       "      <td>[db00014, db00644, db00183, db06196, db00666, ...</td>\n",
       "      <td>[db00014, db00644, db00183, db06196, db00666, ...</td>\n",
       "    </tr>\n",
       "    <tr>\n",
       "      <th>1</th>\n",
       "      <td>db00035</td>\n",
       "      <td>[db00035, db00666, db00104, db00644, db01282, ...</td>\n",
       "      <td>[db00035, db00666, db00104, db00644, db01282, ...</td>\n",
       "    </tr>\n",
       "    <tr>\n",
       "      <th>2</th>\n",
       "      <td>db00050</td>\n",
       "      <td>[db00050, db00014, db00666, db06699, db00644]</td>\n",
       "      <td>[db00050, db00014, db00666, db06699, db00644, ...</td>\n",
       "    </tr>\n",
       "    <tr>\n",
       "      <th>3</th>\n",
       "      <td>db00091</td>\n",
       "      <td>[db00091]</td>\n",
       "      <td>[db00091, c0232492, c0036690, c0042029, c00021...</td>\n",
       "    </tr>\n",
       "    <tr>\n",
       "      <th>4</th>\n",
       "      <td>db00093</td>\n",
       "      <td>[db00093, db00781, db01282, db00035, db00626, ...</td>\n",
       "      <td>[db00093, db00781, db01282, db00035, db00626, ...</td>\n",
       "    </tr>\n",
       "  </tbody>\n",
       "</table>\n",
       "</div>"
      ],
      "text/plain": [
       "        e1                                                 e2  \\\n",
       "0  db00014  [db00014, db00644, db00183, db06196, db00666, ...   \n",
       "1  db00035  [db00035, db00666, db00104, db00644, db01282, ...   \n",
       "2  db00050      [db00050, db00014, db00666, db06699, db00644]   \n",
       "3  db00091                                          [db00091]   \n",
       "4  db00093  [db00093, db00781, db01282, db00035, db00626, ...   \n",
       "\n",
       "                                                 all  \n",
       "0  [db00014, db00644, db00183, db06196, db00666, ...  \n",
       "1  [db00035, db00666, db00104, db00644, db01282, ...  \n",
       "2  [db00050, db00014, db00666, db06699, db00644, ...  \n",
       "3  [db00091, c0232492, c0036690, c0042029, c00021...  \n",
       "4  [db00093, db00781, db01282, db00035, db00626, ...  "
      ]
     },
     "execution_count": 40,
     "metadata": {},
     "output_type": "execute_result"
    }
   ],
   "source": [
    "#remove all ids starting with c(side effects)\n",
    "def remove_se(row):\n",
    "    to_return =[]\n",
    "    for i in row:\n",
    "        if 'c' != i[0]:\n",
    "            to_return.append(i)\n",
    "    return to_return\n",
    "\n",
    "# c.e2=c.e2.apply(remove_se,axis=1) #:(\n",
    "c.e2 = c.apply(lambda x:remove_se(x['e2']),axis=1)\n",
    "c.head()"
   ]
  },
  {
   "cell_type": "code",
   "execution_count": null,
   "id": "f49f98e2-ceea-43b1-a7d9-d83a714e4484",
   "metadata": {
    "tags": []
   },
   "outputs": [],
   "source": []
  },
  {
   "cell_type": "code",
   "execution_count": 41,
   "id": "3579f8c6-7815-47e3-b1a6-8f1ce8596dc8",
   "metadata": {},
   "outputs": [
    {
     "data": {
      "text/html": [
       "<div>\n",
       "<style scoped>\n",
       "    .dataframe tbody tr th:only-of-type {\n",
       "        vertical-align: middle;\n",
       "    }\n",
       "\n",
       "    .dataframe tbody tr th {\n",
       "        vertical-align: top;\n",
       "    }\n",
       "\n",
       "    .dataframe thead th {\n",
       "        text-align: right;\n",
       "    }\n",
       "</style>\n",
       "<table border=\"1\" class=\"dataframe\">\n",
       "  <thead>\n",
       "    <tr style=\"text-align: right;\">\n",
       "      <th></th>\n",
       "      <th>e1</th>\n",
       "      <th>e2</th>\n",
       "      <th>all</th>\n",
       "      <th>sims</th>\n",
       "    </tr>\n",
       "  </thead>\n",
       "  <tbody>\n",
       "    <tr>\n",
       "      <th>0</th>\n",
       "      <td>db00014</td>\n",
       "      <td>[db00014, db00644, db00183, db06196, db00666, ...</td>\n",
       "      <td>[db00014, db00644, db00183, db06196, db00666, ...</td>\n",
       "      <td>6</td>\n",
       "    </tr>\n",
       "    <tr>\n",
       "      <th>1</th>\n",
       "      <td>db00035</td>\n",
       "      <td>[db00035, db00666, db00104, db00644, db01282, ...</td>\n",
       "      <td>[db00035, db00666, db00104, db00644, db01282, ...</td>\n",
       "      <td>6</td>\n",
       "    </tr>\n",
       "    <tr>\n",
       "      <th>2</th>\n",
       "      <td>db00050</td>\n",
       "      <td>[db00050, db00014, db00666, db06699, db00644]</td>\n",
       "      <td>[db00050, db00014, db00666, db06699, db00644, ...</td>\n",
       "      <td>5</td>\n",
       "    </tr>\n",
       "    <tr>\n",
       "      <th>3</th>\n",
       "      <td>db00091</td>\n",
       "      <td>[db00091]</td>\n",
       "      <td>[db00091, c0232492, c0036690, c0042029, c00021...</td>\n",
       "      <td>1</td>\n",
       "    </tr>\n",
       "    <tr>\n",
       "      <th>4</th>\n",
       "      <td>db00093</td>\n",
       "      <td>[db00093, db00781, db01282, db00035, db00626, ...</td>\n",
       "      <td>[db00093, db00781, db01282, db00035, db00626, ...</td>\n",
       "      <td>7</td>\n",
       "    </tr>\n",
       "  </tbody>\n",
       "</table>\n",
       "</div>"
      ],
      "text/plain": [
       "        e1                                                 e2  \\\n",
       "0  db00014  [db00014, db00644, db00183, db06196, db00666, ...   \n",
       "1  db00035  [db00035, db00666, db00104, db00644, db01282, ...   \n",
       "2  db00050      [db00050, db00014, db00666, db06699, db00644]   \n",
       "3  db00091                                          [db00091]   \n",
       "4  db00093  [db00093, db00781, db01282, db00035, db00626, ...   \n",
       "\n",
       "                                                 all  sims  \n",
       "0  [db00014, db00644, db00183, db06196, db00666, ...     6  \n",
       "1  [db00035, db00666, db00104, db00644, db01282, ...     6  \n",
       "2  [db00050, db00014, db00666, db06699, db00644, ...     5  \n",
       "3  [db00091, c0232492, c0036690, c0042029, c00021...     1  \n",
       "4  [db00093, db00781, db01282, db00035, db00626, ...     7  "
      ]
     },
     "execution_count": 41,
     "metadata": {},
     "output_type": "execute_result"
    }
   ],
   "source": [
    "c['sims']=c.e2.apply(len)\n",
    "c.head()"
   ]
  },
  {
   "cell_type": "code",
   "execution_count": 1,
   "id": "5b981a32-8391-4e12-a758-3e22759e6c89",
   "metadata": {
    "tags": []
   },
   "outputs": [],
   "source": [
    "#manually modifying embeddings and creating a function to calculate similarity looks like one possible approach but there is \n",
    "#no learning or prediction here... also it is not quite possible to manualy modify all the embeddings,,,,, may be the learning here is the embeddings\n",
    "#and find a way to make them relate?\n",
    "#similirarity can be calculated by cosine function, but we have to find similarity of all 1400 compounds,,,,i dont think it is a big task....\n",
    "\n",
    "#current unfigured task: make similar embeddings for similar compounds.....\n",
    "\n",
    "#using models which are finetuned on clinical data might not be beneficial here as the IDs might be dataset specefic and the same compound \n",
    "#might be referred with some other name in other datasets,,,,->\n",
    "\n",
    "\n",
    "#https://go.drugbank.com/drugs/DB00035 we could have used some scraping tool and extract the description here,,, would have been beneficial for the \n",
    "#LLM as it would be getting english .\n",
    "#still i somehow feel cosine similarity might be more appropriate for this task as there is fewer chance for incorrect prediction, the LLM might \n",
    "#halucinate without proper data modeling? it would involve making the dataset suit the model... i think it takes a lot of time.\n"
   ]
  },
  {
   "cell_type": "code",
   "execution_count": null,
   "id": "a54f8987-58b4-43c2-8032-5d515a875604",
   "metadata": {
    "tags": []
   },
   "outputs": [],
   "source": []
  },
  {
   "cell_type": "code",
   "execution_count": 43,
   "id": "311e3c68-61cf-44d2-94cd-450dae90ebbc",
   "metadata": {
    "tags": []
   },
   "outputs": [],
   "source": [
    "c.to_csv('data.csv',columns=['e1','e2','all'],index=False)"
   ]
  },
  {
   "cell_type": "code",
   "execution_count": null,
   "id": "498ce8c4-be17-4a99-b352-7e5518fea5c6",
   "metadata": {},
   "outputs": [],
   "source": []
  }
 ],
 "metadata": {
  "kernelspec": {
   "display_name": "Python [conda env:nlp2023v2]",
   "language": "python",
   "name": "conda-env-nlp2023v2-py"
  },
  "language_info": {
   "codemirror_mode": {
    "name": "ipython",
    "version": 3
   },
   "file_extension": ".py",
   "mimetype": "text/x-python",
   "name": "python",
   "nbconvert_exporter": "python",
   "pygments_lexer": "ipython3",
   "version": "3.10.4"
  }
 },
 "nbformat": 4,
 "nbformat_minor": 5
}
