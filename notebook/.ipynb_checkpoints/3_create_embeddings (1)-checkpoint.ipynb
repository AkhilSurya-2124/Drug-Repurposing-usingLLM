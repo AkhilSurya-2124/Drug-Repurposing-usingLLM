{
 "cells": [
  {
   "cell_type": "code",
   "execution_count": 1,
   "id": "bea45cb8-f6bd-4982-ad86-33225be7e26d",
   "metadata": {
    "tags": []
   },
   "outputs": [],
   "source": [
    "import pandas as pd\n",
    "import pickle"
   ]
  },
  {
   "cell_type": "code",
   "execution_count": 2,
   "id": "bdb955aa-c045-4ffb-8afa-c23fdb476ea3",
   "metadata": {
    "tags": []
   },
   "outputs": [
    {
     "name": "stdout",
     "output_type": "stream",
     "text": [
      "Requirement already satisfied: gensim in c:\\users\\akhi3\\anaconda3\\lib\\site-packages (4.3.0)\n",
      "Requirement already satisfied: numpy>=1.18.5 in c:\\users\\akhi3\\anaconda3\\lib\\site-packages (from gensim) (1.24.3)\n",
      "Requirement already satisfied: scipy>=1.7.0 in c:\\users\\akhi3\\anaconda3\\lib\\site-packages (from gensim) (1.11.1)\n",
      "Requirement already satisfied: smart-open>=1.8.1 in c:\\users\\akhi3\\anaconda3\\lib\\site-packages (from gensim) (5.2.1)\n",
      "Requirement already satisfied: FuzzyTM>=0.4.0 in c:\\users\\akhi3\\anaconda3\\lib\\site-packages (from gensim) (2.0.5)\n",
      "Requirement already satisfied: pandas in c:\\users\\akhi3\\anaconda3\\lib\\site-packages (from FuzzyTM>=0.4.0->gensim) (2.0.3)\n",
      "Requirement already satisfied: pyfume in c:\\users\\akhi3\\anaconda3\\lib\\site-packages (from FuzzyTM>=0.4.0->gensim) (0.2.25)\n",
      "Requirement already satisfied: python-dateutil>=2.8.2 in c:\\users\\akhi3\\anaconda3\\lib\\site-packages (from pandas->FuzzyTM>=0.4.0->gensim) (2.8.2)\n",
      "Requirement already satisfied: pytz>=2020.1 in c:\\users\\akhi3\\anaconda3\\lib\\site-packages (from pandas->FuzzyTM>=0.4.0->gensim) (2023.3.post1)\n",
      "Requirement already satisfied: tzdata>=2022.1 in c:\\users\\akhi3\\anaconda3\\lib\\site-packages (from pandas->FuzzyTM>=0.4.0->gensim) (2023.3)\n",
      "Requirement already satisfied: simpful in c:\\users\\akhi3\\anaconda3\\lib\\site-packages (from pyfume->FuzzyTM>=0.4.0->gensim) (2.11.1)\n",
      "Requirement already satisfied: fst-pso in c:\\users\\akhi3\\anaconda3\\lib\\site-packages (from pyfume->FuzzyTM>=0.4.0->gensim) (1.8.1)\n",
      "Requirement already satisfied: six>=1.5 in c:\\users\\akhi3\\anaconda3\\lib\\site-packages (from python-dateutil>=2.8.2->pandas->FuzzyTM>=0.4.0->gensim) (1.16.0)\n",
      "Requirement already satisfied: miniful in c:\\users\\akhi3\\anaconda3\\lib\\site-packages (from fst-pso->pyfume->FuzzyTM>=0.4.0->gensim) (0.0.6)\n"
     ]
    }
   ],
   "source": [
    "!pip install gensim\n",
    "#gensim needs to be installed in current environment"
   ]
  },
  {
   "cell_type": "code",
   "execution_count": null,
   "id": "b1ae9eb6-8841-4554-881e-aa2f059d0b3e",
   "metadata": {
    "tags": []
   },
   "outputs": [],
   "source": []
  },
  {
   "cell_type": "code",
   "execution_count": 4,
   "id": "d271cb06-2b55-4bd2-aab7-6ae4477fcc6c",
   "metadata": {
    "tags": []
   },
   "outputs": [],
   "source": [
    "from gensim.models import Word2Vec\n",
    "#no need to tokenize our data cause there are no sentences, just a bunch of illogical nouns\n",
    "\n",
    "\n"
   ]
  },
  {
   "cell_type": "code",
   "execution_count": 5,
   "id": "0ac4d589-ef45-4ea9-862f-aa9c2bead0de",
   "metadata": {
    "tags": []
   },
   "outputs": [],
   "source": [
    "#we create embeddings on the previously created dataset, data.csv\n",
    "#use word2vec?\n",
    "#pick appropriate embedding model not whatever we think is popular\n",
    "#https://medium.com/@mehdi_chebbah/how-to-choose-the-right-embedding-model-for-you-1fc917d14517 -> based on this article, we have to pick static word\n",
    "#level embedding model->word2vec or GloVe\n",
    "#using word2vec for now"
   ]
  },
  {
   "cell_type": "code",
   "execution_count": 6,
   "id": "a1b7ed04-917c-44c5-8b26-121f994631cf",
   "metadata": {
    "tags": []
   },
   "outputs": [
    {
     "data": {
      "text/html": [
       "<div>\n",
       "<style scoped>\n",
       "    .dataframe tbody tr th:only-of-type {\n",
       "        vertical-align: middle;\n",
       "    }\n",
       "\n",
       "    .dataframe tbody tr th {\n",
       "        vertical-align: top;\n",
       "    }\n",
       "\n",
       "    .dataframe thead th {\n",
       "        text-align: right;\n",
       "    }\n",
       "</style>\n",
       "<table border=\"1\" class=\"dataframe\">\n",
       "  <thead>\n",
       "    <tr style=\"text-align: right;\">\n",
       "      <th></th>\n",
       "      <th>e1</th>\n",
       "      <th>e2</th>\n",
       "      <th>all</th>\n",
       "    </tr>\n",
       "  </thead>\n",
       "  <tbody>\n",
       "    <tr>\n",
       "      <th>0</th>\n",
       "      <td>db00014</td>\n",
       "      <td>['db00014', 'db00644', 'db00183', 'db06196', '...</td>\n",
       "      <td>['db00014', 'db00014', 'db00644', 'db00183', '...</td>\n",
       "    </tr>\n",
       "    <tr>\n",
       "      <th>1</th>\n",
       "      <td>db00035</td>\n",
       "      <td>['db00035', 'db00666', 'db00104', 'db00644', '...</td>\n",
       "      <td>['db00035', 'db00035', 'db00666', 'db00104', '...</td>\n",
       "    </tr>\n",
       "    <tr>\n",
       "      <th>2</th>\n",
       "      <td>db00050</td>\n",
       "      <td>['db00050', 'db00014', 'db00666', 'db06699', '...</td>\n",
       "      <td>['db00050', 'db00050', 'db00014', 'db00666', '...</td>\n",
       "    </tr>\n",
       "    <tr>\n",
       "      <th>3</th>\n",
       "      <td>db00091</td>\n",
       "      <td>['db00091']</td>\n",
       "      <td>['db00091', 'db00091', 'c0232492', 'c0036690',...</td>\n",
       "    </tr>\n",
       "    <tr>\n",
       "      <th>4</th>\n",
       "      <td>db00093</td>\n",
       "      <td>['db00093', 'db00781', 'db01282', 'db00035', '...</td>\n",
       "      <td>['db00093', 'db00093', 'db00781', 'db01282', '...</td>\n",
       "    </tr>\n",
       "  </tbody>\n",
       "</table>\n",
       "</div>"
      ],
      "text/plain": [
       "        e1                                                 e2  \\\n",
       "0  db00014  ['db00014', 'db00644', 'db00183', 'db06196', '...   \n",
       "1  db00035  ['db00035', 'db00666', 'db00104', 'db00644', '...   \n",
       "2  db00050  ['db00050', 'db00014', 'db00666', 'db06699', '...   \n",
       "3  db00091                                        ['db00091']   \n",
       "4  db00093  ['db00093', 'db00781', 'db01282', 'db00035', '...   \n",
       "\n",
       "                                                 all  \n",
       "0  ['db00014', 'db00014', 'db00644', 'db00183', '...  \n",
       "1  ['db00035', 'db00035', 'db00666', 'db00104', '...  \n",
       "2  ['db00050', 'db00050', 'db00014', 'db00666', '...  \n",
       "3  ['db00091', 'db00091', 'c0232492', 'c0036690',...  \n",
       "4  ['db00093', 'db00093', 'db00781', 'db01282', '...  "
      ]
     },
     "execution_count": 6,
     "metadata": {},
     "output_type": "execute_result"
    }
   ],
   "source": [
    "df = pd.read_csv('../data/structured/groupby_data.csv')\n",
    "df.head()\n"
   ]
  },
  {
   "cell_type": "code",
   "execution_count": 7,
   "id": "7ac8cf3b-1b95-4c3f-8898-05141fc24d4b",
   "metadata": {
    "tags": []
   },
   "outputs": [],
   "source": [
    "df.e2 = df.e2.apply(eval)\n",
    "#e2 is being read as strings, just making them lists"
   ]
  },
  {
   "cell_type": "code",
   "execution_count": null,
   "id": "8500153b-83f6-43ff-8024-517dcaecf99b",
   "metadata": {
    "tags": []
   },
   "outputs": [],
   "source": []
  },
  {
   "cell_type": "code",
   "execution_count": 8,
   "id": "dec7f889-ec97-482e-8ee6-e3c24f50d8c1",
   "metadata": {
    "tags": []
   },
   "outputs": [],
   "source": [
    "# model1 = Word2Vec([[\"akhil\",\"akhi\"]*70,[\"surya\",\"parryhotter\"]*90,[\"goparaju\",\"naga\",\"GN\",\"genie\"]*50], vector_size=30, window=5, min_count=0, workers=5,epochs=10,sorted_vocab=0)\n",
    "# model1.wv.index_to_key\n"
   ]
  },
  {
   "cell_type": "code",
   "execution_count": 9,
   "id": "a92c6be1-e74a-4b5a-9dee-803007b3ba44",
   "metadata": {
    "tags": []
   },
   "outputs": [],
   "source": [
    "# model1.wv.most_similar('genie',topn=5)\n",
    "#just checking syntax and output formats"
   ]
  },
  {
   "cell_type": "code",
   "execution_count": 10,
   "id": "4cafe5d9-3dd7-47d1-9af5-2c2d9a2e9ae2",
   "metadata": {
    "tags": []
   },
   "outputs": [
    {
     "data": {
      "text/plain": [
       "[('db01395', 0.866726279258728),\n",
       " ('db00123', 0.8640450239181519),\n",
       " ('db00328', 0.8638545870780945),\n",
       " ('db01047', 0.8620090484619141),\n",
       " ('db01559', 0.8619389533996582)]"
      ]
     },
     "execution_count": 10,
     "metadata": {},
     "output_type": "execute_result"
    }
   ],
   "source": [
    "model = Word2Vec(df.e2, vector_size=50, window=10, min_count=1, workers=5,epochs=10)\n",
    "model.wv.most_similar('db00014',topn=5)\n",
    "\n"
   ]
  },
  {
   "cell_type": "code",
   "execution_count": 11,
   "id": "1b95f919-3a15-4187-ac08-6106cfda6008",
   "metadata": {
    "scrolled": true,
    "tags": []
   },
   "outputs": [
    {
     "name": "stdout",
     "output_type": "stream",
     "text": [
      "db00014\n",
      "db00035\n",
      "db00050\n",
      "db00091\n",
      "76 ('db00666', 0.3627897799015045)\n",
      "db00093\n"
     ]
    }
   ],
   "source": [
    "for j in df.head(5).e1:\n",
    "    print(j)\n",
    "    for k,i in enumerate(model.wv.most_similar(j,topn=100)):\n",
    "        if i[0] in df.iloc[0,1]:\n",
    "            print(k,i)"
   ]
  },
  {
   "cell_type": "code",
   "execution_count": 12,
   "id": "0194b7f1-2933-4f67-9553-76a3f302d072",
   "metadata": {
    "tags": []
   },
   "outputs": [],
   "source": [
    "#the results are not promising, are embeddings supposed to work for this?\n"
   ]
  },
  {
   "cell_type": "code",
   "execution_count": null,
   "id": "0c73e7c2-b69a-47a8-84c7-20d34a1004cb",
   "metadata": {
    "tags": []
   },
   "outputs": [],
   "source": []
  },
  {
   "cell_type": "code",
   "execution_count": 13,
   "id": "f4e3acea-f1a3-4650-9c44-e50371a13b28",
   "metadata": {
    "tags": []
   },
   "outputs": [
    {
     "data": {
      "text/plain": [
       "0       [db00014, db00644, db00183, db06196, db00666, ...\n",
       "1       [db00035, db00666, db00104, db00644, db01282, ...\n",
       "2           [db00050, db00014, db00666, db06699, db00644]\n",
       "60                   [db00183, db00666, db00644, db08889]\n",
       "263     [db00403, db06699, db00014, db00050, db00666, ...\n",
       "476                           [db00644, db00666, db06196]\n",
       "1181    [db02638, db00644, db00781, db00626, db00104, ...\n",
       "1270                          [db06699, db00644, db00666]\n",
       "Name: e2, dtype: object"
      ]
     },
     "execution_count": 13,
     "metadata": {},
     "output_type": "execute_result"
    }
   ],
   "source": [
    "df.e2[df.e2.apply(lambda x: 'db00644' in x)]\n",
    "# well we cannot certainly say as the same compound may have appeared multiple times and may be the most similar compound from the above has been associated\n",
    "#more often with current compound"
   ]
  },
  {
   "cell_type": "code",
   "execution_count": 14,
   "id": "26cba902-590f-4b41-8cc2-df7bbf341c49",
   "metadata": {
    "tags": []
   },
   "outputs": [
    {
     "data": {
      "text/plain": [
       "0      [db00014, db00644, db00183, db06196, db00666, ...\n",
       "2          [db00050, db00014, db00666, db06699, db00644]\n",
       "263    [db00403, db06699, db00014, db00050, db00666, ...\n",
       "Name: e2, dtype: object"
      ]
     },
     "execution_count": 14,
     "metadata": {},
     "output_type": "execute_result"
    }
   ],
   "source": [
    "df.e2[df.e2.apply(lambda x: 'db00014' in x and 'db00666' in x)]"
   ]
  },
  {
   "cell_type": "code",
   "execution_count": 15,
   "id": "c60fbc96-761d-4933-948b-aeeb51fc6585",
   "metadata": {
    "tags": []
   },
   "outputs": [
    {
     "data": {
      "text/plain": [
       "0      [db00014, db00644, db00183, db06196, db00666, ...\n",
       "2          [db00050, db00014, db00666, db06699, db00644]\n",
       "263    [db00403, db06699, db00014, db00050, db00666, ...\n",
       "Name: e2, dtype: object"
      ]
     },
     "execution_count": 15,
     "metadata": {},
     "output_type": "execute_result"
    }
   ],
   "source": [
    "df.e2[df.e2.apply(lambda x: 'db00014' in x and 'db00644' in x)]"
   ]
  },
  {
   "cell_type": "code",
   "execution_count": 16,
   "id": "e889fa38-5247-469c-88f2-49689056743b",
   "metadata": {
    "tags": []
   },
   "outputs": [],
   "source": [
    "#the above two rows sort of support what i thought, the data suggests those two compounds are associated.... this is purely on the basis of\n",
    "#the number of occurances, i might be gravely wrong... however whoever made the initial knowledge graph dataset might have analysed these compounds at\n",
    "#molecular level and concluded that they are similar in some way"
   ]
  },
  {
   "cell_type": "code",
   "execution_count": 17,
   "id": "23f75ee1-8ff0-4747-8ece-5bb3f1787b6c",
   "metadata": {
    "tags": []
   },
   "outputs": [],
   "source": [
    "#i think i should create a dictionary with the side effect as key and known compounds as values...\n",
    "#our question would be  \"what untested compound could have caused this side effect\". -> we would get the top 10 similar compounds of each value and then select whichever \n",
    "#is the highest and does not occur in the value"
   ]
  },
  {
   "cell_type": "code",
   "execution_count": 18,
   "id": "9c7ae82e-2a60-4640-b985-88ed5f45a081",
   "metadata": {
    "tags": []
   },
   "outputs": [
    {
     "data": {
      "text/plain": [
       "(  side_effect  compound\n",
       " 0     db00448  c0032584\n",
       " 1     db00575  c0424024\n",
       " 2     db00734  c0235309\n",
       " 3     db06817  c0014724\n",
       " 4     db00448  c0001824,\n",
       " (138944, 2))"
      ]
     },
     "execution_count": 18,
     "metadata": {},
     "output_type": "execute_result"
    }
   ],
   "source": [
    "side_eff_dict = {}\n",
    "se = pd.read_csv('../data/structured/side_effects.csv')\n",
    "se.head(),se.shape"
   ]
  },
  {
   "cell_type": "code",
   "execution_count": 19,
   "id": "4a8f8823-1c7c-48db-8ee7-26ead260da6b",
   "metadata": {
    "tags": []
   },
   "outputs": [],
   "source": [
    "for i,j in zip(se.side_effect,se.compound):\n",
    "    if j in side_eff_dict.keys():\n",
    "        side_eff_dict[j].append(i)\n",
    "    else:\n",
    "        side_eff_dict[j]=[i]\n"
   ]
  },
  {
   "cell_type": "code",
   "execution_count": 20,
   "id": "e1986119-396a-427c-b332-444eaa02ed4a",
   "metadata": {
    "scrolled": true,
    "tags": []
   },
   "outputs": [
    {
     "data": {
      "text/plain": [
       "5701"
      ]
     },
     "execution_count": 20,
     "metadata": {},
     "output_type": "execute_result"
    }
   ],
   "source": [
    "len(side_eff_dict)"
   ]
  },
  {
   "cell_type": "code",
   "execution_count": 21,
   "id": "b45e8850-6ac5-4338-95b2-d1a3038a7297",
   "metadata": {
    "tags": []
   },
   "outputs": [],
   "source": [
    "#len(se.e2.value_counts()) #got 5701"
   ]
  },
  {
   "cell_type": "code",
   "execution_count": 22,
   "id": "15260e48-6c28-4a7b-b8f4-5cbea6a2926c",
   "metadata": {
    "tags": []
   },
   "outputs": [],
   "source": [
    "for i in side_eff_dict.keys():\n",
    "    side_eff_dict[i]=set(side_eff_dict[i])\n",
    "    #to have faster indexing"
   ]
  },
  {
   "cell_type": "code",
   "execution_count": 25,
   "id": "230ca2fd-67f3-4320-8ef6-1eb2994b024d",
   "metadata": {
    "tags": []
   },
   "outputs": [],
   "source": [
    "with open('../data/meta/side_effects.pickle', 'wb') as file:\n",
    "    pickle.dump(side_eff_dict, file)"
   ]
  },
  {
   "cell_type": "code",
   "execution_count": 26,
   "id": "f9c01971-8f63-4b96-b2cc-019893a518f1",
   "metadata": {
    "tags": []
   },
   "outputs": [],
   "source": [
    "model.save('../data/meta/compound_embeddings.bin')"
   ]
  },
  {
   "cell_type": "code",
   "execution_count": null,
   "id": "c9c9b335-9a25-4951-91d8-6ec05cdca023",
   "metadata": {},
   "outputs": [],
   "source": []
  },
  {
   "cell_type": "code",
   "execution_count": null,
   "id": "c900a205-526b-4b4e-a339-4902c8d6ff22",
   "metadata": {},
   "outputs": [],
   "source": []
  }
 ],
 "metadata": {
  "kernelspec": {
   "display_name": "mlenv",
   "language": "python",
   "name": "mlenv"
  },
  "language_info": {
   "codemirror_mode": {
    "name": "ipython",
    "version": 3
   },
   "file_extension": ".py",
   "mimetype": "text/x-python",
   "name": "python",
   "nbconvert_exporter": "python",
   "pygments_lexer": "ipython3",
   "version": "3.11.5"
  }
 },
 "nbformat": 4,
 "nbformat_minor": 5
}
